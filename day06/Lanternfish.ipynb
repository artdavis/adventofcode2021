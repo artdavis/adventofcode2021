{
 "cells": [
  {
   "cell_type": "markdown",
   "metadata": {},
   "source": [
    "# Day 6: Lanternfish\n",
    "\n",
    "## Part 1\n",
    "\n",
    "The sea floor is getting steeper. Maybe the sleigh keys got carried this way?\n",
    "\n",
    "A massive school of glowing lanternfish swims past. They must spawn quickly to reach such large numbers - maybe exponentially quickly? You should model their growth rate to be sure.\n",
    "\n",
    "Although you know nothing about this specific species of lanternfish, you make some guesses about their attributes. Surely, each lanternfish creates a new lanternfish once every 7 days.\n",
    "\n",
    "However, this process isn't necessarily synchronized between every lanternfish - one lanternfish might have 2 days left until it creates another lanternfish, while another might have 4. So, you can model each fish as a single number that represents the number of days until it creates a new lanternfish.\n",
    "\n",
    "Furthermore, you reason, a new lanternfish would surely need slightly longer before it's capable of producing more lanternfish: two more days for its first cycle.\n",
    "\n",
    "So, suppose you have a lanternfish with an internal timer value of 3:\n",
    "\n",
    "*    After one day, its internal timer would become 2.\n",
    "*    After another day, its internal timer would become 1.\n",
    "*    After another day, its internal timer would become 0.\n",
    "*    After another day, its internal timer would reset to 6, and it would create a new lanternfish with an internal timer of 8.\n",
    "*    After another day, the first lanternfish would have an internal timer of 5, and the second lanternfish would have an internal timer of 7.\n",
    "\n",
    "A lanternfish that creates a new fish resets its timer to 6, not 7 (because 0 is included as a valid timer value). The new lanternfish starts with an internal timer of 8 and does not start counting down until the next day.\n",
    "\n",
    "Realizing what you're trying to do, the submarine automatically produces a list of the ages of several hundred nearby lanternfish (your puzzle input). For example, suppose you were given the following list:\n",
    "```\n",
    "3,4,3,1,2\n",
    "```\n",
    "This list means that the first fish has an internal timer of 3, the second fish has an internal timer of 4, and so on until the fifth fish, which has an internal timer of 2. Simulating these fish over several days would proceed as follows:\n",
    "```\n",
    "Initial state: 3,4,3,1,2\n",
    "After  1 day:  2,3,2,0,1\n",
    "After  2 days: 1,2,1,6,0,8\n",
    "After  3 days: 0,1,0,5,6,7,8\n",
    "After  4 days: 6,0,6,4,5,6,7,8,8\n",
    "After  5 days: 5,6,5,3,4,5,6,7,7,8\n",
    "After  6 days: 4,5,4,2,3,4,5,6,6,7\n",
    "After  7 days: 3,4,3,1,2,3,4,5,5,6\n",
    "After  8 days: 2,3,2,0,1,2,3,4,4,5\n",
    "After  9 days: 1,2,1,6,0,1,2,3,3,4,8\n",
    "After 10 days: 0,1,0,5,6,0,1,2,2,3,7,8\n",
    "After 11 days: 6,0,6,4,5,6,0,1,1,2,6,7,8,8,8\n",
    "After 12 days: 5,6,5,3,4,5,6,0,0,1,5,6,7,7,7,8,8\n",
    "After 13 days: 4,5,4,2,3,4,5,6,6,0,4,5,6,6,6,7,7,8,8\n",
    "After 14 days: 3,4,3,1,2,3,4,5,5,6,3,4,5,5,5,6,6,7,7,8\n",
    "After 15 days: 2,3,2,0,1,2,3,4,4,5,2,3,4,4,4,5,5,6,6,7\n",
    "After 16 days: 1,2,1,6,0,1,2,3,3,4,1,2,3,3,3,4,4,5,5,6,8\n",
    "After 17 days: 0,1,0,5,6,0,1,2,2,3,0,1,2,2,2,3,3,4,4,5,7,8\n",
    "After 18 days: 6,0,6,4,5,6,0,1,1,2,6,0,1,1,1,2,2,3,3,4,6,7,8,8,8,8\n",
    "```\n",
    "Each day, a 0 becomes a 6 and adds a new 8 to the end of the list, while each other number decreases by 1 if it was present at the start of the day.\n",
    "\n",
    "In this example, after 18 days, there are a total of 26 fish. After 80 days, there would be a total of 5934.\n",
    "\n",
    "Find a way to simulate lanternfish. **How many lanternfish would there be after 80 days?**"
   ]
  },
  {
   "cell_type": "code",
   "execution_count": 1,
   "metadata": {
    "ExecuteTime": {
     "end_time": "2021-12-06T14:15:16.112380Z",
     "start_time": "2021-12-06T14:15:15.668621Z"
    }
   },
   "outputs": [],
   "source": [
    "import numpy as np\n",
    "from IPython.display import Markdown"
   ]
  },
  {
   "cell_type": "code",
   "execution_count": 2,
   "metadata": {
    "ExecuteTime": {
     "end_time": "2021-12-06T14:15:16.132682Z",
     "start_time": "2021-12-06T14:15:16.114430Z"
    }
   },
   "outputs": [],
   "source": [
    "infile = 'input.txt'\n",
    "ndays = 80\n",
    "#infile = 'test_input.txt'\n",
    "#ndays = 18\n",
    "with open(infile, 'r') as fid:\n",
    "    # Lanternfish initial condition:\n",
    "    f0 = [int(x) for x in fid.readline().strip().split(',')]\n",
    "# Each element of f0 represents a fish and its internal timer value\n",
    "f0 = np.array(f0, dtype=np.uint64)\n",
    "#f0"
   ]
  },
  {
   "cell_type": "code",
   "execution_count": 3,
   "metadata": {
    "ExecuteTime": {
     "end_time": "2021-12-06T14:15:16.173352Z",
     "start_time": "2021-12-06T14:15:16.134758Z"
    }
   },
   "outputs": [],
   "source": [
    "def getfish(ndays):\n",
    "    # Generate the lanternfish count histogram for initial condition\n",
    "    hist, bins = np.histogram(f0, bins=range(8))\n",
    "    #hist, bins = np.histogram([0,1,1,2,3,4,5,6,6,6], bins=range(8))\n",
    "    # The INDEX of the hist list represents the fish countdown timer\n",
    "    # value and the VALUE represents the number of fish at that countdown\n",
    "    # value. So for example if hist = [0, 1, 1, 2, 1, 0, 0], the\n",
    "    # number of fish at 0 timer value is hist[0]=0, the number of\n",
    "    # fish at 1 timer value is hist[1]=1 ... etc.\n",
    "    #hist, bins\n",
    "\n",
    "    # Each day every fish's timer value ticks down one.\n",
    "    # This can be represented by simply shifting hist left\n",
    "    # by one. The fishes at index 2 go to index 1, index 1\n",
    "    # goes to 0 and index zero wraps around to index 6 as their\n",
    "    # timer resets\n",
    "\n",
    "    # Get the number of Lanternfish after ndays\n",
    "    # Initialize the new fishes array [7count, 8count, NEWFISH]\n",
    "    histnew = np.zeros(3, dtype=np.uint64)\n",
    "    for i in range(ndays):\n",
    "        hist = np.roll(hist, -1)\n",
    "        # Add the number of 7 count fishes to the number of 6 count fishes\n",
    "        hist[6] += histnew[0]\n",
    "        # The number of 8 count fishes become the number of 7 count fishes\n",
    "        histnew[0] = histnew[1]\n",
    "        # The number of new fishes become the number of 8 count fishes\n",
    "        histnew[1] = histnew[2]\n",
    "        # The number of 0 count fishes becomes the number of new fishes\n",
    "        histnew[2] = hist[0]\n",
    "        #print(\"Day {}: {}, {}\".format(i+1, hist, histnew))\n",
    "\n",
    "    # Sum to get the total number of fishes\n",
    "    totalfish = hist.sum() + histnew[:2].sum()\n",
    "    return totalfish\n",
    "\n",
    "totalfish = getfish(ndays)\n",
    "#Markdown(\"After {} days there are **{}** total fishes.\".format(ndays, totalfish))"
   ]
  },
  {
   "cell_type": "markdown",
   "metadata": {},
   "source": [
    "## Part Two\n",
    "\n",
    "Suppose the lanternfish live forever and have unlimited food and space. Would they take over the entire ocean?\n",
    "\n",
    "After 256 days in the example above, there would be a total of 26984457539 lanternfish!\n",
    "\n",
    "**How many lanternfish would there be after 256 days?**"
   ]
  },
  {
   "cell_type": "code",
   "execution_count": 4,
   "metadata": {
    "ExecuteTime": {
     "end_time": "2021-12-06T14:15:16.214071Z",
     "start_time": "2021-12-06T14:15:16.175452Z"
    }
   },
   "outputs": [],
   "source": [
    "ndays2 = 256\n",
    "totalfish2 = getfish(ndays2)\n",
    "#Markdown(\"After {} days there are **{}** total fishes.\".format(ndays2, totalfish2))"
   ]
  },
  {
   "cell_type": "code",
   "execution_count": null,
   "metadata": {},
   "outputs": [],
   "source": []
  }
 ],
 "metadata": {
  "kernelspec": {
   "display_name": "Python 3",
   "language": "python",
   "name": "python3"
  },
  "language_info": {
   "codemirror_mode": {
    "name": "ipython",
    "version": 3
   },
   "file_extension": ".py",
   "mimetype": "text/x-python",
   "name": "python",
   "nbconvert_exporter": "python",
   "pygments_lexer": "ipython3",
   "version": "3.6.12"
  },
  "toc": {
   "base_numbering": 1,
   "nav_menu": {},
   "number_sections": true,
   "sideBar": true,
   "skip_h1_title": false,
   "title_cell": "Table of Contents",
   "title_sidebar": "Contents",
   "toc_cell": false,
   "toc_position": {},
   "toc_section_display": true,
   "toc_window_display": false
  }
 },
 "nbformat": 4,
 "nbformat_minor": 4
}
