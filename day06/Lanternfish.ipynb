{
 "cells": [
  {
   "cell_type": "markdown",
   "metadata": {},
   "source": [
    "# Day 6: Lanternfish\n",
    "\n",
    "https://adventofcode.com/2021/day/6\n",
    "\n",
    "## Part 1\n",
    "\n",
    "**How many lanternfish would there be after 80 days?**"
   ]
  },
  {
   "cell_type": "code",
   "execution_count": 1,
   "metadata": {
    "ExecuteTime": {
     "end_time": "2021-12-06T14:15:16.112380Z",
     "start_time": "2021-12-06T14:15:15.668621Z"
    }
   },
   "outputs": [],
   "source": [
    "import numpy as np\n",
    "from IPython.display import Markdown"
   ]
  },
  {
   "cell_type": "code",
   "execution_count": 2,
   "metadata": {
    "ExecuteTime": {
     "end_time": "2021-12-06T14:15:16.132682Z",
     "start_time": "2021-12-06T14:15:16.114430Z"
    }
   },
   "outputs": [],
   "source": [
    "infile = 'input.txt'\n",
    "ndays = 80\n",
    "#infile = 'test_input.txt'\n",
    "#ndays = 18\n",
    "with open(infile, 'r') as fid:\n",
    "    # Lanternfish initial condition:\n",
    "    f0 = [int(x) for x in fid.readline().strip().split(',')]\n",
    "# Each element of f0 represents a fish and its internal timer value\n",
    "f0 = np.array(f0, dtype=np.uint64)\n",
    "#f0"
   ]
  },
  {
   "cell_type": "code",
   "execution_count": 3,
   "metadata": {
    "ExecuteTime": {
     "end_time": "2021-12-06T14:15:16.173352Z",
     "start_time": "2021-12-06T14:15:16.134758Z"
    }
   },
   "outputs": [],
   "source": [
    "def getfish(ndays):\n",
    "    # Generate the lanternfish count histogram for initial condition\n",
    "    hist, bins = np.histogram(f0, bins=range(8))\n",
    "    #hist, bins = np.histogram([0,1,1,2,3,4,5,6,6,6], bins=range(8))\n",
    "    # The INDEX of the hist list represents the fish countdown timer\n",
    "    # value and the VALUE represents the number of fish at that countdown\n",
    "    # value. So for example if hist = [0, 1, 1, 2, 1, 0, 0], the\n",
    "    # number of fish at 0 timer value is hist[0]=0, the number of\n",
    "    # fish at 1 timer value is hist[1]=1 ... etc.\n",
    "    #hist, bins\n",
    "\n",
    "    # Each day every fish's timer value ticks down one.\n",
    "    # This can be represented by simply shifting hist left\n",
    "    # by one. The fishes at index 2 go to index 1, index 1\n",
    "    # goes to 0 and index zero wraps around to index 6 as their\n",
    "    # timer resets\n",
    "\n",
    "    # Get the number of Lanternfish after ndays\n",
    "    # Initialize the new fishes array [7count, 8count, NEWFISH]\n",
    "    histnew = np.zeros(3, dtype=np.uint64)\n",
    "    for i in range(ndays):\n",
    "        hist = np.roll(hist, -1)\n",
    "        # Add the number of 7 count fishes to the number of 6 count fishes\n",
    "        hist[6] += histnew[0]\n",
    "        # The number of 8 count fishes become the number of 7 count fishes\n",
    "        histnew[0] = histnew[1]\n",
    "        # The number of new fishes become the number of 8 count fishes\n",
    "        histnew[1] = histnew[2]\n",
    "        # The number of 0 count fishes becomes the number of new fishes\n",
    "        histnew[2] = hist[0]\n",
    "        #print(\"Day {}: {}, {}\".format(i+1, hist, histnew))\n",
    "\n",
    "    # Sum to get the total number of fishes\n",
    "    totalfish = hist.sum() + histnew[:2].sum()\n",
    "    return totalfish\n",
    "\n",
    "totalfish = getfish(ndays)\n",
    "#Markdown(\"After {} days there are **{}** total fishes.\".format(ndays, totalfish))"
   ]
  },
  {
   "cell_type": "markdown",
   "metadata": {},
   "source": [
    "## Part Two\n",
    "\n",
    "**How many lanternfish would there be after 256 days?**"
   ]
  },
  {
   "cell_type": "code",
   "execution_count": 4,
   "metadata": {
    "ExecuteTime": {
     "end_time": "2021-12-06T14:15:16.214071Z",
     "start_time": "2021-12-06T14:15:16.175452Z"
    }
   },
   "outputs": [],
   "source": [
    "ndays2 = 256\n",
    "totalfish2 = getfish(ndays2)\n",
    "#Markdown(\"After {} days there are **{}** total fishes.\".format(ndays2, totalfish2))"
   ]
  },
  {
   "cell_type": "code",
   "execution_count": null,
   "metadata": {},
   "outputs": [],
   "source": []
  }
 ],
 "metadata": {
  "kernelspec": {
   "display_name": "Python 3",
   "language": "python",
   "name": "python3"
  },
  "language_info": {
   "codemirror_mode": {
    "name": "ipython",
    "version": 3
   },
   "file_extension": ".py",
   "mimetype": "text/x-python",
   "name": "python",
   "nbconvert_exporter": "python",
   "pygments_lexer": "ipython3",
   "version": "3.6.12"
  },
  "toc": {
   "base_numbering": 1,
   "nav_menu": {},
   "number_sections": true,
   "sideBar": true,
   "skip_h1_title": false,
   "title_cell": "Table of Contents",
   "title_sidebar": "Contents",
   "toc_cell": false,
   "toc_position": {},
   "toc_section_display": true,
   "toc_window_display": false
  }
 },
 "nbformat": 4,
 "nbformat_minor": 4
}
