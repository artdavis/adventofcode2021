{
 "cells": [
  {
   "cell_type": "markdown",
   "metadata": {},
   "source": [
    "# Day 2: Dive!\n",
    "\n",
    "https://adventofcode.com/2021/day/2\n",
    "\n",
    "## Part 1\n",
    "\n",
    "**What do you get if you multiply your final horizontal position by your final depth?**"
   ]
  },
  {
   "cell_type": "code",
   "execution_count": 1,
   "metadata": {
    "ExecuteTime": {
     "end_time": "2021-12-02T11:43:34.057286Z",
     "start_time": "2021-12-02T11:43:34.040286Z"
    }
   },
   "outputs": [],
   "source": [
    "from IPython.display import Markdown"
   ]
  },
  {
   "cell_type": "code",
   "execution_count": 2,
   "metadata": {
    "ExecuteTime": {
     "end_time": "2021-12-02T11:43:34.089294Z",
     "start_time": "2021-12-02T11:43:34.062293Z"
    }
   },
   "outputs": [],
   "source": [
    "pos = 0\n",
    "depth = 0\n",
    "with open('input.txt', 'r') as fid:\n",
    "    for line in fid:\n",
    "        cmd, val = line.strip().split()\n",
    "        if 'forward' == cmd:\n",
    "            pos += int(val)\n",
    "        elif 'down' == cmd:\n",
    "            depth += int(val)\n",
    "        elif 'up' == cmd:\n",
    "            depth -= int(val)\n",
    "        else:\n",
    "            raise ValueError(\"Unhandled command: {}\".format(cmd))\n",
    "\n",
    "pdepth = pos * depth\n",
    "#display(pos, depth, pdepth)\n",
    "#Markdown(\"Position Depth product is: **{}**\".format(pdepth))"
   ]
  },
  {
   "cell_type": "markdown",
   "metadata": {},
   "source": [
    "## Part Two\n",
    "\n",
    "**What do you get if you multiply your final horizontal position by your final depth?**\n"
   ]
  },
  {
   "cell_type": "code",
   "execution_count": 3,
   "metadata": {
    "ExecuteTime": {
     "end_time": "2021-12-02T11:43:34.121288Z",
     "start_time": "2021-12-02T11:43:34.094292Z"
    }
   },
   "outputs": [],
   "source": [
    "pos = 0\n",
    "depth = 0\n",
    "aim = 0\n",
    "with open('input.txt', 'r') as fid:\n",
    "    for line in fid:\n",
    "        cmd, val = line.strip().split()\n",
    "        if 'forward' == cmd:\n",
    "            pos += int(val)\n",
    "            depth += int(val) * aim\n",
    "        elif 'down' == cmd:\n",
    "            aim += int(val)\n",
    "        elif 'up' == cmd:\n",
    "            aim -= int(val)\n",
    "        else:\n",
    "            raise ValueError(\"Unhandled command: {}\".format(cmd))\n",
    "\n",
    "pdepth = pos * depth\n",
    "#display(pos, depth, pdepth)\n",
    "#Markdown(\"Position Depth product is: **{}**\".format(pdepth))"
   ]
  },
  {
   "cell_type": "code",
   "execution_count": null,
   "metadata": {},
   "outputs": [],
   "source": []
  }
 ],
 "metadata": {
  "kernelspec": {
   "display_name": "Python 3 (ipykernel)",
   "language": "python",
   "name": "python3"
  },
  "language_info": {
   "codemirror_mode": {
    "name": "ipython",
    "version": 3
   },
   "file_extension": ".py",
   "mimetype": "text/x-python",
   "name": "python",
   "nbconvert_exporter": "python",
   "pygments_lexer": "ipython3",
   "version": "3.9.13"
  },
  "toc": {
   "base_numbering": 1,
   "nav_menu": {},
   "number_sections": true,
   "sideBar": true,
   "skip_h1_title": false,
   "title_cell": "Table of Contents",
   "title_sidebar": "Contents",
   "toc_cell": false,
   "toc_position": {},
   "toc_section_display": true,
   "toc_window_display": false
  }
 },
 "nbformat": 4,
 "nbformat_minor": 4
}
