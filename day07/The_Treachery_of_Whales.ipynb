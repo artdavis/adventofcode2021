{
 "cells": [
  {
   "cell_type": "markdown",
   "metadata": {},
   "source": [
    "# Day 7: The Treachery of Whales\n",
    "\n",
    "## Part 1\n",
    "\n",
    "A giant whale has decided your submarine is its next meal, and it's much faster than you are. There's nowhere to run!\n",
    "\n",
    "Suddenly, a swarm of crabs (each in its own tiny submarine - it's too deep for them otherwise) zooms in to rescue you! They seem to be preparing to blast a hole in the ocean floor; sensors indicate a massive underground cave system just beyond where they're aiming!\n",
    "\n",
    "The crab submarines all need to be aligned before they'll have enough power to blast a large enough hole for your submarine to get through. However, it doesn't look like they'll be aligned before the whale catches you! Maybe you can help?\n",
    "\n",
    "There's one major catch - crab submarines can only move horizontally.\n",
    "\n",
    "You quickly make a list of the horizontal position of each crab (your puzzle input). Crab submarines have limited fuel, so you need to find a way to make all of their horizontal positions match while requiring them to spend as little fuel as possible.\n",
    "\n",
    "For example, consider the following horizontal positions:\n",
    "```\n",
    "16,1,2,0,4,2,7,1,2,14\n",
    "```\n",
    "This means there's a crab with horizontal position 16, a crab with horizontal position 1, and so on.\n",
    "\n",
    "Each change of 1 step in horizontal position of a single crab costs 1 fuel. You could choose any horizontal position to align them all on, but the one that costs the least fuel is horizontal position 2:\n",
    "```\n",
    "    Move from 16 to 2: 14 fuel\n",
    "    Move from 1 to 2: 1 fuel\n",
    "    Move from 2 to 2: 0 fuel\n",
    "    Move from 0 to 2: 2 fuel\n",
    "    Move from 4 to 2: 2 fuel\n",
    "    Move from 2 to 2: 0 fuel\n",
    "    Move from 7 to 2: 5 fuel\n",
    "    Move from 1 to 2: 1 fuel\n",
    "    Move from 2 to 2: 0 fuel\n",
    "    Move from 14 to 2: 12 fuel\n",
    "```\n",
    "This costs a total of 37 fuel. This is the cheapest possible outcome; more expensive outcomes include aligning at position 1 (41 fuel), position 3 (39 fuel), or position 10 (71 fuel).\n",
    "\n",
    "Determine the horizontal position that the crabs can align to using the least fuel possible. **How much fuel must they spend to align to that position?**"
   ]
  },
  {
   "cell_type": "code",
   "execution_count": 1,
   "metadata": {
    "ExecuteTime": {
     "end_time": "2021-12-07T13:47:37.323768Z",
     "start_time": "2021-12-07T13:47:36.920391Z"
    }
   },
   "outputs": [],
   "source": [
    "import numpy as np\n",
    "from IPython.display import Markdown"
   ]
  },
  {
   "cell_type": "markdown",
   "metadata": {},
   "source": [
    "The problem is not easily reduced because the movement distance can be positive\n",
    "or negative. If the movement distance was assured positive then the following\n",
    "would hold true:\n",
    "$$\n",
    "|x_1 - d_0| + |x_2 - d_0| + |x_3 - d_0| + ... + |x_n - d_0| = n\\cdot d_0\\sum_{i=1}^{n} x_i\n",
    "$$\n",
    "\n",
    "But they're not, so it won't.\n",
    "Go ahead and power through with the manual approach for Part 1... expecting that we'll\n",
    "have to come up with something more clever still for Part 2."
   ]
  },
  {
   "cell_type": "code",
   "execution_count": 2,
   "metadata": {
    "ExecuteTime": {
     "end_time": "2021-12-07T13:47:37.344002Z",
     "start_time": "2021-12-07T13:47:37.325819Z"
    }
   },
   "outputs": [],
   "source": [
    "#infile = 'test_input.txt'\n",
    "infile = 'input.txt'\n",
    "pos = np.loadtxt(infile, delimiter=',', dtype=np.int)\n",
    "#pos"
   ]
  },
  {
   "cell_type": "code",
   "execution_count": 3,
   "metadata": {
    "ExecuteTime": {
     "end_time": "2021-12-07T13:47:37.364250Z",
     "start_time": "2021-12-07T13:47:37.346087Z"
    }
   },
   "outputs": [],
   "source": [
    "pmin = pos.min()\n",
    "pmax = pos.max()\n",
    "locs = np.arange(pmin, pmax+1, dtype=np.int)\n",
    "#locs"
   ]
  },
  {
   "cell_type": "code",
   "execution_count": 4,
   "metadata": {
    "ExecuteTime": {
     "end_time": "2021-12-07T13:47:37.404715Z",
     "start_time": "2021-12-07T13:47:37.366349Z"
    }
   },
   "outputs": [],
   "source": [
    "def get_dist(loc):\n",
    "    return np.abs(pos - loc).sum()"
   ]
  },
  {
   "cell_type": "code",
   "execution_count": 5,
   "metadata": {
    "ExecuteTime": {
     "end_time": "2021-12-07T13:47:37.451615Z",
     "start_time": "2021-12-07T13:47:37.404715Z"
    }
   },
   "outputs": [],
   "source": [
    "dists = np.array(list(map(get_dist, locs)), dtype=np.int)\n",
    "#dists"
   ]
  },
  {
   "cell_type": "code",
   "execution_count": 6,
   "metadata": {
    "ExecuteTime": {
     "end_time": "2021-12-07T13:47:37.467240Z",
     "start_time": "2021-12-07T13:47:37.451615Z"
    }
   },
   "outputs": [],
   "source": [
    "minfuel = dists.min()\n",
    "#Markdown(\"The minimum fuel spent to align is: **{}**\".format(minfuel))"
   ]
  },
  {
   "cell_type": "markdown",
   "metadata": {},
   "source": [
    "## Part Two\n",
    "\n",
    "The crabs don't seem interested in your proposed solution. Perhaps you misunderstand crab engineering?\n",
    "\n",
    "As it turns out, crab submarine engines don't burn fuel at a constant rate. Instead, each change of 1 step in horizontal position costs 1 more unit of fuel than the last: the first step costs 1, the second step costs 2, the third step costs 3, and so on.\n",
    "\n",
    "As each crab moves, moving further becomes more expensive. This changes the best horizontal position to align them all on; in the example above, this becomes 5:\n",
    "```\n",
    "    Move from 16 to 5: 66 fuel\n",
    "    Move from 1 to 5: 10 fuel\n",
    "    Move from 2 to 5: 6 fuel\n",
    "    Move from 0 to 5: 15 fuel\n",
    "    Move from 4 to 5: 1 fuel\n",
    "    Move from 2 to 5: 6 fuel\n",
    "    Move from 7 to 5: 3 fuel\n",
    "    Move from 1 to 5: 10 fuel\n",
    "    Move from 2 to 5: 6 fuel\n",
    "    Move from 14 to 5: 45 fuel\n",
    "```\n",
    "This costs a total of 168 fuel. This is the new cheapest possible outcome; the old alignment position (2) now costs 206 fuel instead.\n",
    "\n",
    "Determine the horizontal position that the crabs can align to using the least fuel possible so they can make you an escape route! **How much fuel must they spend to align to that position?**"
   ]
  },
  {
   "cell_type": "code",
   "execution_count": 7,
   "metadata": {
    "ExecuteTime": {
     "end_time": "2021-12-07T13:47:37.498492Z",
     "start_time": "2021-12-07T13:47:37.467240Z"
    }
   },
   "outputs": [],
   "source": [
    "def sum_to_one(val):\n",
    "    return np.arange(val + 1, dtype=np.int).sum()\n",
    "\n",
    "def get_fuel(loc):\n",
    "    # Get the distances\n",
    "    dists = np.abs(pos - loc)\n",
    "    # Each element needs to be summed from its value down to\n",
    "    # 1 to get the fuel consumption\n",
    "    return np.sum(list(map(sum_to_one, dists)), dtype=np.int)\n",
    "\n",
    "#get_fuel(2)"
   ]
  },
  {
   "cell_type": "code",
   "execution_count": 8,
   "metadata": {
    "ExecuteTime": {
     "end_time": "2021-12-07T13:47:51.609207Z",
     "start_time": "2021-12-07T13:47:37.498492Z"
    }
   },
   "outputs": [],
   "source": [
    "fuel = np.array(list(map(get_fuel, locs)), dtype=np.int)\n",
    "#fuel"
   ]
  },
  {
   "cell_type": "code",
   "execution_count": 9,
   "metadata": {
    "ExecuteTime": {
     "end_time": "2021-12-07T13:47:51.629446Z",
     "start_time": "2021-12-07T13:47:51.611257Z"
    }
   },
   "outputs": [],
   "source": [
    "minfuel2 = fuel.min()\n",
    "#Markdown(\"The minimum fuel spent to align is: **{}**\".format(minfuel2))"
   ]
  },
  {
   "cell_type": "code",
   "execution_count": null,
   "metadata": {},
   "outputs": [],
   "source": []
  }
 ],
 "metadata": {
  "kernelspec": {
   "display_name": "Python 3",
   "language": "python",
   "name": "python3"
  },
  "language_info": {
   "codemirror_mode": {
    "name": "ipython",
    "version": 3
   },
   "file_extension": ".py",
   "mimetype": "text/x-python",
   "name": "python",
   "nbconvert_exporter": "python",
   "pygments_lexer": "ipython3",
   "version": "3.6.12"
  },
  "toc": {
   "base_numbering": 1,
   "nav_menu": {},
   "number_sections": true,
   "sideBar": true,
   "skip_h1_title": false,
   "title_cell": "Table of Contents",
   "title_sidebar": "Contents",
   "toc_cell": false,
   "toc_position": {},
   "toc_section_display": true,
   "toc_window_display": false
  }
 },
 "nbformat": 4,
 "nbformat_minor": 4
}
