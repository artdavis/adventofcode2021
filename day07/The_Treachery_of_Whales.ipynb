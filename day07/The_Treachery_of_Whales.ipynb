{
 "cells": [
  {
   "cell_type": "markdown",
   "metadata": {},
   "source": [
    "# Day 7: The Treachery of Whales\n",
    "\n",
    "https://adventofcode.com/2021/day/7\n",
    "\n",
    "## Part 1\n",
    "\n",
    "**How much fuel must they spend to align to that position?**"
   ]
  },
  {
   "cell_type": "code",
   "execution_count": 1,
   "metadata": {
    "ExecuteTime": {
     "end_time": "2021-12-07T13:47:37.323768Z",
     "start_time": "2021-12-07T13:47:36.920391Z"
    }
   },
   "outputs": [],
   "source": [
    "import numpy as np\n",
    "from IPython.display import Markdown"
   ]
  },
  {
   "cell_type": "markdown",
   "metadata": {},
   "source": [
    "The problem is not easily reduced because the movement distance can be positive\n",
    "or negative. If the movement distance was assured positive then the following\n",
    "would hold true:\n",
    "$$\n",
    "|x_1 - d_0| + |x_2 - d_0| + |x_3 - d_0| + ... + |x_n - d_0| = n\\cdot d_0\\sum_{i=1}^{n} x_i\n",
    "$$\n",
    "\n",
    "But they're not, so it won't.\n",
    "Go ahead and power through with the manual approach for Part 1... expecting that we'll\n",
    "have to come up with something more clever still for Part 2."
   ]
  },
  {
   "cell_type": "code",
   "execution_count": 2,
   "metadata": {
    "ExecuteTime": {
     "end_time": "2021-12-07T13:47:37.344002Z",
     "start_time": "2021-12-07T13:47:37.325819Z"
    }
   },
   "outputs": [],
   "source": [
    "#infile = 'test_input.txt'\n",
    "infile = 'input.txt'\n",
    "pos = np.loadtxt(infile, delimiter=',', dtype=np.int)\n",
    "#pos"
   ]
  },
  {
   "cell_type": "code",
   "execution_count": 3,
   "metadata": {
    "ExecuteTime": {
     "end_time": "2021-12-07T13:47:37.364250Z",
     "start_time": "2021-12-07T13:47:37.346087Z"
    }
   },
   "outputs": [],
   "source": [
    "pmin = pos.min()\n",
    "pmax = pos.max()\n",
    "locs = np.arange(pmin, pmax+1, dtype=np.int)\n",
    "#locs"
   ]
  },
  {
   "cell_type": "code",
   "execution_count": 4,
   "metadata": {
    "ExecuteTime": {
     "end_time": "2021-12-07T13:47:37.404715Z",
     "start_time": "2021-12-07T13:47:37.366349Z"
    }
   },
   "outputs": [],
   "source": [
    "def get_dist(loc):\n",
    "    return np.abs(pos - loc).sum()"
   ]
  },
  {
   "cell_type": "code",
   "execution_count": 5,
   "metadata": {
    "ExecuteTime": {
     "end_time": "2021-12-07T13:47:37.451615Z",
     "start_time": "2021-12-07T13:47:37.404715Z"
    }
   },
   "outputs": [],
   "source": [
    "dists = np.array(list(map(get_dist, locs)), dtype=np.int)\n",
    "#dists"
   ]
  },
  {
   "cell_type": "code",
   "execution_count": 6,
   "metadata": {
    "ExecuteTime": {
     "end_time": "2021-12-07T13:47:37.467240Z",
     "start_time": "2021-12-07T13:47:37.451615Z"
    }
   },
   "outputs": [],
   "source": [
    "minfuel = dists.min()\n",
    "#Markdown(\"The minimum fuel spent to align is: **{}**\".format(minfuel))"
   ]
  },
  {
   "cell_type": "markdown",
   "metadata": {},
   "source": [
    "## Part Two\n",
    "\n",
    "**How much fuel must they spend to align to that position?**"
   ]
  },
  {
   "cell_type": "code",
   "execution_count": 7,
   "metadata": {
    "ExecuteTime": {
     "end_time": "2021-12-07T13:47:37.498492Z",
     "start_time": "2021-12-07T13:47:37.467240Z"
    }
   },
   "outputs": [],
   "source": [
    "def sum_to_one(val):\n",
    "    return np.arange(val + 1, dtype=np.int).sum()\n",
    "\n",
    "def get_fuel(loc):\n",
    "    # Get the distances\n",
    "    dists = np.abs(pos - loc)\n",
    "    # Each element needs to be summed from its value down to\n",
    "    # 1 to get the fuel consumption\n",
    "    return np.sum(list(map(sum_to_one, dists)), dtype=np.int)\n",
    "\n",
    "#get_fuel(2)"
   ]
  },
  {
   "cell_type": "code",
   "execution_count": 8,
   "metadata": {
    "ExecuteTime": {
     "end_time": "2021-12-07T13:47:51.609207Z",
     "start_time": "2021-12-07T13:47:37.498492Z"
    }
   },
   "outputs": [],
   "source": [
    "fuel = np.array(list(map(get_fuel, locs)), dtype=np.int)\n",
    "#fuel"
   ]
  },
  {
   "cell_type": "code",
   "execution_count": 9,
   "metadata": {
    "ExecuteTime": {
     "end_time": "2021-12-07T13:47:51.629446Z",
     "start_time": "2021-12-07T13:47:51.611257Z"
    }
   },
   "outputs": [],
   "source": [
    "minfuel2 = fuel.min()\n",
    "#Markdown(\"The minimum fuel spent to align is: **{}**\".format(minfuel2))"
   ]
  },
  {
   "cell_type": "code",
   "execution_count": null,
   "metadata": {},
   "outputs": [],
   "source": []
  }
 ],
 "metadata": {
  "kernelspec": {
   "display_name": "Python 3",
   "language": "python",
   "name": "python3"
  },
  "language_info": {
   "codemirror_mode": {
    "name": "ipython",
    "version": 3
   },
   "file_extension": ".py",
   "mimetype": "text/x-python",
   "name": "python",
   "nbconvert_exporter": "python",
   "pygments_lexer": "ipython3",
   "version": "3.6.12"
  },
  "toc": {
   "base_numbering": 1,
   "nav_menu": {},
   "number_sections": true,
   "sideBar": true,
   "skip_h1_title": false,
   "title_cell": "Table of Contents",
   "title_sidebar": "Contents",
   "toc_cell": false,
   "toc_position": {},
   "toc_section_display": true,
   "toc_window_display": false
  }
 },
 "nbformat": 4,
 "nbformat_minor": 4
}
