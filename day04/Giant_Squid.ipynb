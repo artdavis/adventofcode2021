{
 "cells": [
  {
   "cell_type": "markdown",
   "metadata": {},
   "source": [
    "# Day4: Giant Squid\n",
    "\n",
    "## Part 1\n",
    "\n",
    "You're already almost 1.5km (almost a mile) below the surface of the ocean, already so deep that you can't see any sunlight. What you can see, however, is a giant squid that has attached itself to the outside of your submarine.\n",
    "\n",
    "Maybe it wants to play bingo?\n",
    "\n",
    "Bingo is played on a set of boards each consisting of a 5x5 grid of numbers. Numbers are chosen at random, and the chosen number is marked on all boards on which it appears. (Numbers may not appear on all boards.) If all numbers in any row or any column of a board are marked, that board wins. (Diagonals don't count.)\n",
    "\n",
    "The submarine has a bingo subsystem to help passengers (currently, you and the giant squid) pass the time. It automatically generates a random order in which to draw numbers and a random set of boards (your puzzle input). For example:\n",
    "```\n",
    "7,4,9,5,11,17,23,2,0,14,21,24,10,16,13,6,15,25,12,22,18,20,8,19,3,26,1\n",
    "\n",
    "22 13 17 11  0\n",
    " 8  2 23  4 24\n",
    "21  9 14 16  7\n",
    " 6 10  3 18  5\n",
    " 1 12 20 15 19\n",
    "\n",
    " 3 15  0  2 22\n",
    " 9 18 13 17  5\n",
    "19  8  7 25 23\n",
    "20 11 10 24  4\n",
    "14 21 16 12  6\n",
    "\n",
    "14 21 17 24  4\n",
    "10 16 15  9 19\n",
    "18  8 23 26 20\n",
    "22 11 13  6  5\n",
    " 2  0 12  3  7\n",
    "```\n",
    "After the first five numbers are drawn (7, 4, 9, 5, and 11), there are no winners, but the boards are marked as follows (shown here adjacent to each other to save space):\n",
    "```\n",
    "22 13 17 11  0         3 15  0  2 22        14 21 17 24  4\n",
    " 8  2 23  4 24         9 18 13 17  5        10 16 15  9 19\n",
    "21  9 14 16  7        19  8  7 25 23        18  8 23 26 20\n",
    " 6 10  3 18  5        20 11 10 24  4        22 11 13  6  5\n",
    " 1 12 20 15 19        14 21 16 12  6         2  0 12  3  7\n",
    "```\n",
    "After the next six numbers are drawn (17, 23, 2, 0, 14, and 21), there are still no winners:\n",
    "```\n",
    "22 13 17 11  0         3 15  0  2 22        14 21 17 24  4\n",
    " 8  2 23  4 24         9 18 13 17  5        10 16 15  9 19\n",
    "21  9 14 16  7        19  8  7 25 23        18  8 23 26 20\n",
    " 6 10  3 18  5        20 11 10 24  4        22 11 13  6  5\n",
    " 1 12 20 15 19        14 21 16 12  6         2  0 12  3  7\n",
    "```\n",
    "Finally, 24 is drawn:\n",
    "```\n",
    "22 13 17 11  0         3 15  0  2 22        14 21 17 24  4\n",
    " 8  2 23  4 24         9 18 13 17  5        10 16 15  9 19\n",
    "21  9 14 16  7        19  8  7 25 23        18  8 23 26 20\n",
    " 6 10  3 18  5        20 11 10 24  4        22 11 13  6  5\n",
    " 1 12 20 15 19        14 21 16 12  6         2  0 12  3  7\n",
    "```\n",
    "At this point, the third board wins because it has at least one complete row or column of marked numbers (in this case, the entire top row is marked: 14 21 17 24 4).\n",
    "\n",
    "The score of the winning board can now be calculated. Start by finding the sum of all unmarked numbers on that board; in this case, the sum is 188. Then, multiply that sum by the number that was just called when the board won, 24, to get the final score, 188 * 24 = 4512.\n",
    "\n",
    "To guarantee victory against the giant squid, figure out which board will win first. **What will your final score be if you choose that board?**"
   ]
  },
  {
   "cell_type": "code",
   "execution_count": 1,
   "metadata": {
    "ExecuteTime": {
     "end_time": "2021-12-04T15:02:56.731720Z",
     "start_time": "2021-12-04T15:02:56.277147Z"
    }
   },
   "outputs": [],
   "source": [
    "import numpy as np\n",
    "from IPython.display import Markdown"
   ]
  },
  {
   "cell_type": "code",
   "execution_count": 2,
   "metadata": {
    "ExecuteTime": {
     "end_time": "2021-12-04T15:02:56.762974Z",
     "start_time": "2021-12-04T15:02:56.731720Z"
    }
   },
   "outputs": [],
   "source": [
    "boardlist = list()\n",
    "with open('input.txt', 'r') as fid:\n",
    "    drawnums = np.array([int(x) for x in fid.readline().strip().split(',')])\n",
    "    # Throw away next line which is blank\n",
    "    fid.readline()\n",
    "    # Read in the boards\n",
    "    board = list()\n",
    "    for line in fid:\n",
    "        if '' == line.strip():\n",
    "            # End of this board. At to list and start next board\n",
    "            boardlist.append(np.array(board))\n",
    "            board=list()\n",
    "        else:\n",
    "            board.append(np.array(line.strip().split(), dtype=np.int))\n",
    "\n",
    "#drawnums\n",
    "# Make a 3D array of all the boards\n",
    "boardarr = np.array(boardlist)\n",
    "#boardarr: dimension 0 indexes the individual boards\n",
    "#          dimension 1 indexes the rows\n",
    "#          dimension 2 indexes the columns"
   ]
  },
  {
   "cell_type": "code",
   "execution_count": 3,
   "metadata": {
    "ExecuteTime": {
     "end_time": "2021-12-04T15:02:56.800764Z",
     "start_time": "2021-12-04T15:02:56.762974Z"
    }
   },
   "outputs": [],
   "source": [
    "def check_win():\n",
    "    win = False\n",
    "    # Check for a winning row (sum over the columns)\n",
    "    rowwin = np.any(hitarr.sum(axis=2) >= 5, axis=1)\n",
    "    if np.any(rowwin):\n",
    "        # ROW BINGO\n",
    "        win = True\n",
    "        return win, boardarr[rowwin], hitarr[rowwin]\n",
    "    # Check for a winning col (sum over the rows)\n",
    "    colwin = np.any(hitarr.sum(axis=1) >= 5, axis=1)\n",
    "    if np.any(colwin):\n",
    "        # COL BINGO\n",
    "        win = True\n",
    "        return win, boardarr[colwin], hitarr[colwin]\n",
    "    # No BINGO yet\n",
    "    return win, None, None\n"
   ]
  },
  {
   "cell_type": "code",
   "execution_count": 4,
   "metadata": {
    "ExecuteTime": {
     "end_time": "2021-12-04T15:02:56.832014Z",
     "start_time": "2021-12-04T15:02:56.800764Z"
    }
   },
   "outputs": [],
   "source": [
    "# Initialize hitarray to no hits\n",
    "hitarr = np.zeros_like(boardarr, dtype=np.bool)\n",
    "for num in drawnums:\n",
    "    # Toggle hit on board when a number comes up\n",
    "    hitarr = np.logical_or(hitarr, boardarr == num)\n",
    "    win, bwin, hwin = check_win()\n",
    "    if win:\n",
    "        break"
   ]
  },
  {
   "cell_type": "code",
   "execution_count": 5,
   "metadata": {
    "ExecuteTime": {
     "end_time": "2021-12-04T15:02:56.863266Z",
     "start_time": "2021-12-04T15:02:56.832014Z"
    }
   },
   "outputs": [],
   "source": [
    "# Calculate score from winning board\n",
    "# Sum of all umarked numbers times winning number\n",
    "winscore = bwin[np.logical_not(hwin)].sum() * num\n",
    "#Markdown(\"Score for first winning board is: **{}**\".format(winscore))"
   ]
  },
  {
   "cell_type": "markdown",
   "metadata": {},
   "source": [
    "## Part Two\n",
    "\n",
    "On the other hand, it might be wise to try a different strategy: let the giant squid win.\n",
    "\n",
    "You aren't sure how many bingo boards a giant squid could play at once, so rather than waste time counting its arms, the safe thing to do is to figure out which board will win last and choose that one. That way, no matter which boards it picks, it will win for sure.\n",
    "\n",
    "In the above example, the second board is the last to win, which happens after 13 is eventually called and its middle column is completely marked. If you were to keep playing until this point, the second board would have a sum of unmarked numbers equal to 148 for a final score of 148 * 13 = 1924.\n",
    "\n",
    "Figure out which board will win last. **Once it wins, what would its final score be?**"
   ]
  },
  {
   "cell_type": "code",
   "execution_count": 6,
   "metadata": {
    "ExecuteTime": {
     "end_time": "2021-12-04T15:02:56.901062Z",
     "start_time": "2021-12-04T15:02:56.863266Z"
    }
   },
   "outputs": [],
   "source": [
    "def check_win2():\n",
    "    # Find all winning boards\n",
    "    rowwin = np.any(hitarr.sum(axis=2) >= 5, axis=1)\n",
    "    colwin = np.any(hitarr.sum(axis=1) >= 5, axis=1)\n",
    "    allwin = np.logical_or(rowwin, colwin)\n",
    "    return allwin"
   ]
  },
  {
   "cell_type": "code",
   "execution_count": 7,
   "metadata": {
    "ExecuteTime": {
     "end_time": "2021-12-04T15:02:56.947940Z",
     "start_time": "2021-12-04T15:02:56.901062Z"
    }
   },
   "outputs": [
    {
     "name": "stdout",
     "output_type": "stream",
     "text": [
      "All boards are just now winners\n"
     ]
    }
   ],
   "source": [
    "# Initialize hitarray to no hits\n",
    "hitarr = np.zeros_like(boardarr, dtype=np.bool)\n",
    "# Keep track of when winning starts happening\n",
    "startedwinning = False\n",
    "\n",
    "for num in drawnums:\n",
    "    #print(\"Board: {}\".format(num))\n",
    "    # Toggle hit on board when a number comes up\n",
    "    hitarr = np.logical_or(hitarr, boardarr == num)\n",
    "    winboards = check_win2()\n",
    "    #print(winboards)\n",
    "    if np.any(winboards):\n",
    "        #print('... STARTED WINNING')\n",
    "        startedwinning = True\n",
    "    if startedwinning and np.all(winboards):\n",
    "        print(\"All boards are just now winners\")\n",
    "        break\n",
    "    # Cache this round in case it's the last round\n",
    "    winboards0 = winboards\n",
    "    num0 = num\n",
    "\n",
    "#display(winboards)\n",
    "#display(winboards0)\n",
    "#display(num)\n",
    "#display(num0)"
   ]
  },
  {
   "cell_type": "code",
   "execution_count": 8,
   "metadata": {
    "ExecuteTime": {
     "end_time": "2021-12-04T15:02:56.963560Z",
     "start_time": "2021-12-04T15:02:56.947940Z"
    }
   },
   "outputs": [],
   "source": [
    "# Get the final winning board\n",
    "lastboard = boardarr[np.logical_not(winboards0)]\n",
    "lasthit = hitarr[np.logical_not(winboards0)]\n",
    "lastscore = lastboard[np.logical_not(lasthit)].sum() * num\n",
    "#Markdown(\"Score for the final winning board was: **{}**\".format(lastscore))"
   ]
  },
  {
   "cell_type": "code",
   "execution_count": null,
   "metadata": {},
   "outputs": [],
   "source": []
  }
 ],
 "metadata": {
  "kernelspec": {
   "display_name": "Python 3",
   "language": "python",
   "name": "python3"
  },
  "language_info": {
   "codemirror_mode": {
    "name": "ipython",
    "version": 3
   },
   "file_extension": ".py",
   "mimetype": "text/x-python",
   "name": "python",
   "nbconvert_exporter": "python",
   "pygments_lexer": "ipython3",
   "version": "3.6.12"
  },
  "toc": {
   "base_numbering": 1,
   "nav_menu": {},
   "number_sections": true,
   "sideBar": true,
   "skip_h1_title": false,
   "title_cell": "Table of Contents",
   "title_sidebar": "Contents",
   "toc_cell": false,
   "toc_position": {},
   "toc_section_display": true,
   "toc_window_display": false
  }
 },
 "nbformat": 4,
 "nbformat_minor": 4
}
