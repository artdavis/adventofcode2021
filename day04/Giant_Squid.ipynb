{
 "cells": [
  {
   "cell_type": "markdown",
   "metadata": {},
   "source": [
    "# Day4: Giant Squid\n",
    "\n",
    "https://adventofcode.com/2021/day/4\n",
    "\n",
    "## Part 1\n",
    "\n",
    "**What will your final score be if you choose that board?**"
   ]
  },
  {
   "cell_type": "code",
   "execution_count": 1,
   "metadata": {
    "ExecuteTime": {
     "end_time": "2021-12-04T15:02:56.731720Z",
     "start_time": "2021-12-04T15:02:56.277147Z"
    }
   },
   "outputs": [],
   "source": [
    "import numpy as np\n",
    "from IPython.display import Markdown"
   ]
  },
  {
   "cell_type": "code",
   "execution_count": 2,
   "metadata": {
    "ExecuteTime": {
     "end_time": "2021-12-04T15:02:56.762974Z",
     "start_time": "2021-12-04T15:02:56.731720Z"
    }
   },
   "outputs": [],
   "source": [
    "boardlist = list()\n",
    "with open('input.txt', 'r') as fid:\n",
    "    drawnums = np.array([int(x) for x in fid.readline().strip().split(',')])\n",
    "    # Throw away next line which is blank\n",
    "    fid.readline()\n",
    "    # Read in the boards\n",
    "    board = list()\n",
    "    for line in fid:\n",
    "        if '' == line.strip():\n",
    "            # End of this board. At to list and start next board\n",
    "            boardlist.append(np.array(board))\n",
    "            board=list()\n",
    "        else:\n",
    "            board.append(np.array(line.strip().split(), dtype=np.int))\n",
    "\n",
    "#drawnums\n",
    "# Make a 3D array of all the boards\n",
    "boardarr = np.array(boardlist)\n",
    "#boardarr: dimension 0 indexes the individual boards\n",
    "#          dimension 1 indexes the rows\n",
    "#          dimension 2 indexes the columns"
   ]
  },
  {
   "cell_type": "code",
   "execution_count": 3,
   "metadata": {
    "ExecuteTime": {
     "end_time": "2021-12-04T15:02:56.800764Z",
     "start_time": "2021-12-04T15:02:56.762974Z"
    }
   },
   "outputs": [],
   "source": [
    "def check_win():\n",
    "    win = False\n",
    "    # Check for a winning row (sum over the columns)\n",
    "    rowwin = np.any(hitarr.sum(axis=2) >= 5, axis=1)\n",
    "    if np.any(rowwin):\n",
    "        # ROW BINGO\n",
    "        win = True\n",
    "        return win, boardarr[rowwin], hitarr[rowwin]\n",
    "    # Check for a winning col (sum over the rows)\n",
    "    colwin = np.any(hitarr.sum(axis=1) >= 5, axis=1)\n",
    "    if np.any(colwin):\n",
    "        # COL BINGO\n",
    "        win = True\n",
    "        return win, boardarr[colwin], hitarr[colwin]\n",
    "    # No BINGO yet\n",
    "    return win, None, None\n"
   ]
  },
  {
   "cell_type": "code",
   "execution_count": 4,
   "metadata": {
    "ExecuteTime": {
     "end_time": "2021-12-04T15:02:56.832014Z",
     "start_time": "2021-12-04T15:02:56.800764Z"
    }
   },
   "outputs": [],
   "source": [
    "# Initialize hitarray to no hits\n",
    "hitarr = np.zeros_like(boardarr, dtype=np.bool)\n",
    "for num in drawnums:\n",
    "    # Toggle hit on board when a number comes up\n",
    "    hitarr = np.logical_or(hitarr, boardarr == num)\n",
    "    win, bwin, hwin = check_win()\n",
    "    if win:\n",
    "        break"
   ]
  },
  {
   "cell_type": "code",
   "execution_count": 5,
   "metadata": {
    "ExecuteTime": {
     "end_time": "2021-12-04T15:02:56.863266Z",
     "start_time": "2021-12-04T15:02:56.832014Z"
    }
   },
   "outputs": [],
   "source": [
    "# Calculate score from winning board\n",
    "# Sum of all umarked numbers times winning number\n",
    "winscore = bwin[np.logical_not(hwin)].sum() * num\n",
    "#Markdown(\"Score for first winning board is: **{}**\".format(winscore))"
   ]
  },
  {
   "cell_type": "markdown",
   "metadata": {},
   "source": [
    "## Part Two\n",
    "\n",
    "**Once it wins, what would its final score be?**"
   ]
  },
  {
   "cell_type": "code",
   "execution_count": 6,
   "metadata": {
    "ExecuteTime": {
     "end_time": "2021-12-04T15:02:56.901062Z",
     "start_time": "2021-12-04T15:02:56.863266Z"
    }
   },
   "outputs": [],
   "source": [
    "def check_win2():\n",
    "    # Find all winning boards\n",
    "    rowwin = np.any(hitarr.sum(axis=2) >= 5, axis=1)\n",
    "    colwin = np.any(hitarr.sum(axis=1) >= 5, axis=1)\n",
    "    allwin = np.logical_or(rowwin, colwin)\n",
    "    return allwin"
   ]
  },
  {
   "cell_type": "code",
   "execution_count": 7,
   "metadata": {
    "ExecuteTime": {
     "end_time": "2021-12-04T15:02:56.947940Z",
     "start_time": "2021-12-04T15:02:56.901062Z"
    }
   },
   "outputs": [
    {
     "name": "stdout",
     "output_type": "stream",
     "text": [
      "All boards are just now winners\n"
     ]
    }
   ],
   "source": [
    "# Initialize hitarray to no hits\n",
    "hitarr = np.zeros_like(boardarr, dtype=np.bool)\n",
    "# Keep track of when winning starts happening\n",
    "startedwinning = False\n",
    "\n",
    "for num in drawnums:\n",
    "    #print(\"Board: {}\".format(num))\n",
    "    # Toggle hit on board when a number comes up\n",
    "    hitarr = np.logical_or(hitarr, boardarr == num)\n",
    "    winboards = check_win2()\n",
    "    #print(winboards)\n",
    "    if np.any(winboards):\n",
    "        #print('... STARTED WINNING')\n",
    "        startedwinning = True\n",
    "    if startedwinning and np.all(winboards):\n",
    "        print(\"All boards are just now winners\")\n",
    "        break\n",
    "    # Cache this round in case it's the last round\n",
    "    winboards0 = winboards\n",
    "    num0 = num\n",
    "\n",
    "#display(winboards)\n",
    "#display(winboards0)\n",
    "#display(num)\n",
    "#display(num0)"
   ]
  },
  {
   "cell_type": "code",
   "execution_count": 8,
   "metadata": {
    "ExecuteTime": {
     "end_time": "2021-12-04T15:02:56.963560Z",
     "start_time": "2021-12-04T15:02:56.947940Z"
    }
   },
   "outputs": [],
   "source": [
    "# Get the final winning board\n",
    "lastboard = boardarr[np.logical_not(winboards0)]\n",
    "lasthit = hitarr[np.logical_not(winboards0)]\n",
    "lastscore = lastboard[np.logical_not(lasthit)].sum() * num\n",
    "#Markdown(\"Score for the final winning board was: **{}**\".format(lastscore))"
   ]
  },
  {
   "cell_type": "code",
   "execution_count": null,
   "metadata": {},
   "outputs": [],
   "source": []
  }
 ],
 "metadata": {
  "kernelspec": {
   "display_name": "Python 3",
   "language": "python",
   "name": "python3"
  },
  "language_info": {
   "codemirror_mode": {
    "name": "ipython",
    "version": 3
   },
   "file_extension": ".py",
   "mimetype": "text/x-python",
   "name": "python",
   "nbconvert_exporter": "python",
   "pygments_lexer": "ipython3",
   "version": "3.6.12"
  },
  "toc": {
   "base_numbering": 1,
   "nav_menu": {},
   "number_sections": true,
   "sideBar": true,
   "skip_h1_title": false,
   "title_cell": "Table of Contents",
   "title_sidebar": "Contents",
   "toc_cell": false,
   "toc_position": {},
   "toc_section_display": true,
   "toc_window_display": false
  }
 },
 "nbformat": 4,
 "nbformat_minor": 4
}
