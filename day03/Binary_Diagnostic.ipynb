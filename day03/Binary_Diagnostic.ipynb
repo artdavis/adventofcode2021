{
 "cells": [
  {
   "cell_type": "markdown",
   "metadata": {},
   "source": [
    "# Binary Diagnostic\n",
    "\n",
    "## Part 1\n",
    "\n",
    "The submarine has been making some odd creaking noises, so you ask it to produce a diagnostic report just in case.\n",
    "\n",
    "The diagnostic report (your puzzle input) consists of a list of binary numbers which, when decoded properly, can tell you many useful things about the conditions of the submarine. The first parameter to check is the power consumption.\n",
    "\n",
    "You need to use the binary numbers in the diagnostic report to generate two new binary numbers (called the gamma rate and the epsilon rate). The power consumption can then be found by multiplying the gamma rate by the epsilon rate.\n",
    "\n",
    "Each bit in the gamma rate can be determined by finding the most common bit in the corresponding position of all numbers in the diagnostic report. For example, given the following diagnostic report:\n",
    "```\n",
    "00100\n",
    "11110\n",
    "10110\n",
    "10111\n",
    "10101\n",
    "01111\n",
    "00111\n",
    "11100\n",
    "10000\n",
    "11001\n",
    "00010\n",
    "01010\n",
    "```\n",
    "Considering only the first bit of each number, there are five 0 bits and seven 1 bits. Since the most common bit is 1, the first bit of the gamma rate is 1.\n",
    "\n",
    "The most common second bit of the numbers in the diagnostic report is 0, so the second bit of the gamma rate is 0.\n",
    "\n",
    "The most common value of the third, fourth, and fifth bits are 1, 1, and 0, respectively, and so the final three bits of the gamma rate are 110.\n",
    "\n",
    "So, the gamma rate is the binary number 10110, or 22 in decimal.\n",
    "\n",
    "The epsilon rate is calculated in a similar way; rather than use the most common bit, the least common bit from each position is used. So, the epsilon rate is 01001, or 9 in decimal. Multiplying the gamma rate (22) by the epsilon rate (9) produces the power consumption, 198.\n",
    "\n",
    "Use the binary numbers in your diagnostic report to calculate the gamma rate and epsilon rate, then multiply them together. **What is the power consumption of the submarine?** (Be sure to represent your answer in decimal, not binary.)"
   ]
  },
  {
   "cell_type": "code",
   "execution_count": 1,
   "metadata": {
    "ExecuteTime": {
     "end_time": "2021-12-03T16:35:03.903803Z",
     "start_time": "2021-12-03T16:35:03.471398Z"
    }
   },
   "outputs": [],
   "source": [
    "from IPython.display import Markdown\n",
    "import numpy as np"
   ]
  },
  {
   "cell_type": "code",
   "execution_count": 2,
   "metadata": {
    "ExecuteTime": {
     "end_time": "2021-12-03T16:35:03.925962Z",
     "start_time": "2021-12-03T16:35:03.903803Z"
    }
   },
   "outputs": [],
   "source": [
    "test_input = [\n",
    "    '00100',\n",
    "    '11110',\n",
    "    '10110',\n",
    "    '10111',\n",
    "    '10101',\n",
    "    '01111',\n",
    "    '00111',\n",
    "    '11100',\n",
    "    '10000',\n",
    "    '11001',\n",
    "    '00010',\n",
    "    '01010']"
   ]
  },
  {
   "cell_type": "code",
   "execution_count": 3,
   "metadata": {
    "ExecuteTime": {
     "end_time": "2021-12-03T16:35:03.972838Z",
     "start_time": "2021-12-03T16:35:03.925962Z"
    }
   },
   "outputs": [],
   "source": [
    "bitsum = np.zeros(12, dtype=np.int)\n",
    "\n",
    "nlines = 0\n",
    "with open('input.txt', 'r') as fid:\n",
    "    for lnum, line in enumerate(fid):\n",
    "        bitstr = line.strip()\n",
    "        bitarr = np.array([int(x) for x in line.strip()], dtype=np.int)\n",
    "        bitsum += bitarr\n",
    "nlines = lnum + 1"
   ]
  },
  {
   "cell_type": "code",
   "execution_count": 4,
   "metadata": {
    "ExecuteTime": {
     "end_time": "2021-12-03T16:35:03.988470Z",
     "start_time": "2021-12-03T16:35:03.972838Z"
    }
   },
   "outputs": [],
   "source": [
    "# Wherever bitsum exceeds nlines // 2 there are more 1's than zeros\n",
    "gamma_bin = ''.join([str(x) for x in np.array(bitsum > nlines // 2, dtype=np.int).tolist()])\n",
    "gamma = int(gamma_bin, base=2)\n",
    "#display(gamma)\n",
    "\n",
    "# For the least common bit we just need to invert gamma_bin\n",
    "epsilon_bin = ''.join([str(y) for y in map(lambda x: int(not(int(x))), gamma_bin)])\n",
    "epsilon = int(epsilon_bin, base=2)\n",
    "#display(epsilon)\n",
    "\n",
    "#Markdown(\"The power consumption is: **{}**\".format(gamma * epsilon))"
   ]
  },
  {
   "cell_type": "markdown",
   "metadata": {},
   "source": [
    "## Part Two\n",
    "\n",
    "Next, you should verify the life support rating, which can be determined by multiplying the oxygen generator rating by the CO2 scrubber rating.\n",
    "\n",
    "Both the oxygen generator rating and the CO2 scrubber rating are values that can be found in your diagnostic report - finding them is the tricky part. Both values are located using a similar process that involves filtering out values until only one remains. Before searching for either rating value, start with the full list of binary numbers from your diagnostic report and consider just the first bit of those numbers. Then:\n",
    "\n",
    "- Keep only numbers selected by the bit criteria for the type of rating value for which you are searching. Discard numbers which do not match the bit criteria.\n",
    "- If you only have one number left, stop; this is the rating value for which you are searching.\n",
    "- Otherwise, repeat the process, considering the next bit to the right.\n",
    "\n",
    "The bit criteria depends on which type of rating value you want to find:\n",
    "\n",
    "- To find oxygen generator rating, determine the most common value (0 or 1) in the current bit position, and keep only numbers with that bit in that position. If 0 and 1 are equally common, keep values with a 1 in the position being considered.\n",
    "- To find CO2 scrubber rating, determine the least common value (0 or 1) in the current bit position, and keep only numbers with that bit in that position. If 0 and 1 are equally common, keep values with a 0 in the position being considered.\n",
    "\n",
    "For example, to determine the oxygen generator rating value using the same example diagnostic report from above:\n",
    "\n",
    "- Start with all 12 numbers and consider only the first bit of each number. There are more 1 bits (7) than 0 bits (5), so keep only the 7 numbers with a 1 in the first position: 11110, 10110, 10111, 10101, 11100, 10000, and 11001.\n",
    "- Then, consider the second bit of the 7 remaining numbers: there are more 0 bits (4) than 1 bits (3), so keep only the 4 numbers with a 0 in the second position: 10110, 10111, 10101, and 10000.\n",
    "- In the third position, three of the four numbers have a 1, so keep those three: 10110, 10111, and 10101.\n",
    "- In the fourth position, two of the three numbers have a 1, so keep those two: 10110 and 10111.\n",
    "- In the fifth position, there are an equal number of 0 bits and 1 bits (one each). So, to find the oxygen generator rating, keep the number with a 1 in that position: 10111.\n",
    "- As there is only one number left, stop; the oxygen generator rating is 10111, or 23 in decimal.\n",
    "\n",
    "Then, to determine the CO2 scrubber rating value from the same example above:\n",
    "\n",
    "- Start again with all 12 numbers and consider only the first bit of each number. There are fewer 0 bits (5) than 1 bits (7), so keep only the 5 numbers with a 0 in the first position: 00100, 01111, 00111, 00010, and 01010.\n",
    "- Then, consider the second bit of the 5 remaining numbers: there are fewer 1 bits (2) than 0 bits (3), so keep only the 2 numbers with a 1 in the second position: 01111 and 01010.\n",
    "- In the third position, there are an equal number of 0 bits and 1 bits (one each). So, to find the CO2 scrubber rating, keep the number with a 0 in that position: 01010.\n",
    "- As there is only one number left, stop; the CO2 scrubber rating is 01010, or 10 in decimal.\n",
    "\n",
    "Finally, to find the life support rating, multiply the oxygen generator rating (23) by the CO2 scrubber rating (10) to get 230.\n",
    "\n",
    "Use the binary numbers in your diagnostic report to calculate the oxygen generator rating and CO2 scrubber rating, then multiply them together. **What is the life support rating of the submarine?** (Be sure to represent your answer in decimal, not binary.)"
   ]
  },
  {
   "cell_type": "code",
   "execution_count": 5,
   "metadata": {
    "ExecuteTime": {
     "end_time": "2021-12-03T16:35:04.026264Z",
     "start_time": "2021-12-03T16:35:03.988470Z"
    }
   },
   "outputs": [],
   "source": [
    "# Get the data all into memory in a list for easier processing\n",
    "dat = list()\n",
    "with open('input.txt', 'r') as fid:\n",
    "    for line in fid:\n",
    "        dat.append(line.strip())\n",
    "#dat"
   ]
  },
  {
   "cell_type": "code",
   "execution_count": 6,
   "metadata": {
    "ExecuteTime": {
     "end_time": "2021-12-03T16:35:04.057515Z",
     "start_time": "2021-12-03T16:35:04.026264Z"
    }
   },
   "outputs": [],
   "source": [
    "def get_common(strlist, bitpos, mode):\n",
    "    # For the supplied list of bit strings, return the\n",
    "    # 'most' or 'least' common bit at bitpos depending on the mode\n",
    "    bitsum = 0\n",
    "    nlines = len(strlist)\n",
    "    for bitstr in strlist:\n",
    "        #print(bitstr[bitpos])\n",
    "        bitsum += int(bitstr[bitpos])\n",
    "    #print('bitsum: {}; nlines / 2.: {}'.format(bitsum, nlines / 2.))\n",
    "    if -1e-5 < bitsum - nlines / 2.:\n",
    "        # 1 is most common or 0's and 1's are equally common\n",
    "        if 'most' == mode:\n",
    "            #print('1 is most common')\n",
    "            return 1\n",
    "        elif 'least' == mode:\n",
    "            #print('0 is least common')\n",
    "            return 0\n",
    "        else:\n",
    "            raise ValueError(\"Unhandled mode: {}\",format(mode))\n",
    "    else:\n",
    "        # 0 is most common\n",
    "        if 'most' == mode:\n",
    "            #print('0 is most common')\n",
    "            return 0\n",
    "        elif 'least' == mode:\n",
    "            #print('1 is least common')\n",
    "            return 1\n",
    "        else:\n",
    "            raise ValueError(\"Unhandled mode: {}\",format(mode))\n",
    "\n",
    "\n",
    "def filter_for(bitlist, bitval, bitpos):\n",
    "    # Return list for bitstrs of bitlist with bitval at bitpos\n",
    "    return [x for x in bitlist if str(x[bitpos]) == str(bitval)]\n",
    "\n",
    "def get_rating(bitlist, mode):\n",
    "    # Return rating of bitlist for mode of 'most' or 'least'\n",
    "    niters = len(bitlist[0])\n",
    "    for i in range(niters):\n",
    "        bitval = get_common(bitlist, i, mode=mode)\n",
    "        #print(\"{}: {}\".format(bitval, bitlist))\n",
    "        bitlist = filter_for(bitlist, bitval, i)\n",
    "        if 2 > len(bitlist):\n",
    "            break\n",
    "    #bitlist\n",
    "    rating = int(bitlist[0], base=2)\n",
    "    return rating"
   ]
  },
  {
   "cell_type": "code",
   "execution_count": 7,
   "metadata": {
    "ExecuteTime": {
     "end_time": "2021-12-03T16:35:04.088770Z",
     "start_time": "2021-12-03T16:35:04.057515Z"
    }
   },
   "outputs": [],
   "source": [
    "#get_common(test_input, 1, mode='most')\n",
    "#filter_for(test_input, 0, 1)"
   ]
  },
  {
   "cell_type": "code",
   "execution_count": 8,
   "metadata": {
    "ExecuteTime": {
     "end_time": "2021-12-03T16:35:04.126565Z",
     "start_time": "2021-12-03T16:35:04.088770Z"
    }
   },
   "outputs": [],
   "source": [
    "oxrating = get_rating(dat, mode='most')\n",
    "cdioxrating = get_rating(dat, mode='least')\n",
    "lifesupport = oxrating * cdioxrating\n",
    "#Markdown(\"Life support rating is: **{}**\".format(lifesupport))"
   ]
  },
  {
   "cell_type": "code",
   "execution_count": null,
   "metadata": {},
   "outputs": [],
   "source": []
  }
 ],
 "metadata": {
  "kernelspec": {
   "display_name": "Python 3",
   "language": "python",
   "name": "python3"
  },
  "language_info": {
   "codemirror_mode": {
    "name": "ipython",
    "version": 3
   },
   "file_extension": ".py",
   "mimetype": "text/x-python",
   "name": "python",
   "nbconvert_exporter": "python",
   "pygments_lexer": "ipython3",
   "version": "3.6.12"
  },
  "toc": {
   "base_numbering": 1,
   "nav_menu": {},
   "number_sections": true,
   "sideBar": true,
   "skip_h1_title": false,
   "title_cell": "Table of Contents",
   "title_sidebar": "Contents",
   "toc_cell": false,
   "toc_position": {},
   "toc_section_display": true,
   "toc_window_display": false
  }
 },
 "nbformat": 4,
 "nbformat_minor": 4
}
