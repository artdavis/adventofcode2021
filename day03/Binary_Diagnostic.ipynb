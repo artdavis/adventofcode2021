{
 "cells": [
  {
   "cell_type": "markdown",
   "metadata": {},
   "source": [
    "# Binary Diagnostic\n",
    "\n",
    "https://adventofcode.com/2021/day/3\n",
    "\n",
    "## Part 1\n",
    "\n",
    "**What is the power consumption of the submarine?**"
   ]
  },
  {
   "cell_type": "code",
   "execution_count": 1,
   "metadata": {
    "ExecuteTime": {
     "end_time": "2021-12-03T16:35:03.903803Z",
     "start_time": "2021-12-03T16:35:03.471398Z"
    }
   },
   "outputs": [],
   "source": [
    "from IPython.display import Markdown\n",
    "import numpy as np"
   ]
  },
  {
   "cell_type": "code",
   "execution_count": 2,
   "metadata": {
    "ExecuteTime": {
     "end_time": "2021-12-03T16:35:03.925962Z",
     "start_time": "2021-12-03T16:35:03.903803Z"
    }
   },
   "outputs": [],
   "source": [
    "test_input = [\n",
    "    '00100',\n",
    "    '11110',\n",
    "    '10110',\n",
    "    '10111',\n",
    "    '10101',\n",
    "    '01111',\n",
    "    '00111',\n",
    "    '11100',\n",
    "    '10000',\n",
    "    '11001',\n",
    "    '00010',\n",
    "    '01010']"
   ]
  },
  {
   "cell_type": "code",
   "execution_count": 3,
   "metadata": {
    "ExecuteTime": {
     "end_time": "2021-12-03T16:35:03.972838Z",
     "start_time": "2021-12-03T16:35:03.925962Z"
    }
   },
   "outputs": [],
   "source": [
    "bitsum = np.zeros(12, dtype=np.int)\n",
    "\n",
    "nlines = 0\n",
    "with open('input.txt', 'r') as fid:\n",
    "    for lnum, line in enumerate(fid):\n",
    "        bitstr = line.strip()\n",
    "        bitarr = np.array([int(x) for x in line.strip()], dtype=np.int)\n",
    "        bitsum += bitarr\n",
    "nlines = lnum + 1"
   ]
  },
  {
   "cell_type": "code",
   "execution_count": 4,
   "metadata": {
    "ExecuteTime": {
     "end_time": "2021-12-03T16:35:03.988470Z",
     "start_time": "2021-12-03T16:35:03.972838Z"
    }
   },
   "outputs": [],
   "source": [
    "# Wherever bitsum exceeds nlines // 2 there are more 1's than zeros\n",
    "gamma_bin = ''.join([str(x) for x in np.array(bitsum > nlines // 2, dtype=np.int).tolist()])\n",
    "gamma = int(gamma_bin, base=2)\n",
    "#display(gamma)\n",
    "\n",
    "# For the least common bit we just need to invert gamma_bin\n",
    "epsilon_bin = ''.join([str(y) for y in map(lambda x: int(not(int(x))), gamma_bin)])\n",
    "epsilon = int(epsilon_bin, base=2)\n",
    "#display(epsilon)\n",
    "\n",
    "#Markdown(\"The power consumption is: **{}**\".format(gamma * epsilon))"
   ]
  },
  {
   "cell_type": "markdown",
   "metadata": {},
   "source": [
    "## Part Two\n",
    "\n",
    "**What is the life support rating of the submarine?**"
   ]
  },
  {
   "cell_type": "code",
   "execution_count": 5,
   "metadata": {
    "ExecuteTime": {
     "end_time": "2021-12-03T16:35:04.026264Z",
     "start_time": "2021-12-03T16:35:03.988470Z"
    }
   },
   "outputs": [],
   "source": [
    "# Get the data all into memory in a list for easier processing\n",
    "dat = list()\n",
    "with open('input.txt', 'r') as fid:\n",
    "    for line in fid:\n",
    "        dat.append(line.strip())\n",
    "#dat"
   ]
  },
  {
   "cell_type": "code",
   "execution_count": 6,
   "metadata": {
    "ExecuteTime": {
     "end_time": "2021-12-03T16:35:04.057515Z",
     "start_time": "2021-12-03T16:35:04.026264Z"
    }
   },
   "outputs": [],
   "source": [
    "def get_common(strlist, bitpos, mode):\n",
    "    # For the supplied list of bit strings, return the\n",
    "    # 'most' or 'least' common bit at bitpos depending on the mode\n",
    "    bitsum = 0\n",
    "    nlines = len(strlist)\n",
    "    for bitstr in strlist:\n",
    "        #print(bitstr[bitpos])\n",
    "        bitsum += int(bitstr[bitpos])\n",
    "    #print('bitsum: {}; nlines / 2.: {}'.format(bitsum, nlines / 2.))\n",
    "    if -1e-5 < bitsum - nlines / 2.:\n",
    "        # 1 is most common or 0's and 1's are equally common\n",
    "        if 'most' == mode:\n",
    "            #print('1 is most common')\n",
    "            return 1\n",
    "        elif 'least' == mode:\n",
    "            #print('0 is least common')\n",
    "            return 0\n",
    "        else:\n",
    "            raise ValueError(\"Unhandled mode: {}\",format(mode))\n",
    "    else:\n",
    "        # 0 is most common\n",
    "        if 'most' == mode:\n",
    "            #print('0 is most common')\n",
    "            return 0\n",
    "        elif 'least' == mode:\n",
    "            #print('1 is least common')\n",
    "            return 1\n",
    "        else:\n",
    "            raise ValueError(\"Unhandled mode: {}\",format(mode))\n",
    "\n",
    "\n",
    "def filter_for(bitlist, bitval, bitpos):\n",
    "    # Return list for bitstrs of bitlist with bitval at bitpos\n",
    "    return [x for x in bitlist if str(x[bitpos]) == str(bitval)]\n",
    "\n",
    "def get_rating(bitlist, mode):\n",
    "    # Return rating of bitlist for mode of 'most' or 'least'\n",
    "    niters = len(bitlist[0])\n",
    "    for i in range(niters):\n",
    "        bitval = get_common(bitlist, i, mode=mode)\n",
    "        #print(\"{}: {}\".format(bitval, bitlist))\n",
    "        bitlist = filter_for(bitlist, bitval, i)\n",
    "        if 2 > len(bitlist):\n",
    "            break\n",
    "    #bitlist\n",
    "    rating = int(bitlist[0], base=2)\n",
    "    return rating"
   ]
  },
  {
   "cell_type": "code",
   "execution_count": 7,
   "metadata": {
    "ExecuteTime": {
     "end_time": "2021-12-03T16:35:04.088770Z",
     "start_time": "2021-12-03T16:35:04.057515Z"
    }
   },
   "outputs": [],
   "source": [
    "#get_common(test_input, 1, mode='most')\n",
    "#filter_for(test_input, 0, 1)"
   ]
  },
  {
   "cell_type": "code",
   "execution_count": 8,
   "metadata": {
    "ExecuteTime": {
     "end_time": "2021-12-03T16:35:04.126565Z",
     "start_time": "2021-12-03T16:35:04.088770Z"
    }
   },
   "outputs": [],
   "source": [
    "oxrating = get_rating(dat, mode='most')\n",
    "cdioxrating = get_rating(dat, mode='least')\n",
    "lifesupport = oxrating * cdioxrating\n",
    "#Markdown(\"Life support rating is: **{}**\".format(lifesupport))"
   ]
  },
  {
   "cell_type": "code",
   "execution_count": null,
   "metadata": {},
   "outputs": [],
   "source": []
  }
 ],
 "metadata": {
  "kernelspec": {
   "display_name": "Python 3",
   "language": "python",
   "name": "python3"
  },
  "language_info": {
   "codemirror_mode": {
    "name": "ipython",
    "version": 3
   },
   "file_extension": ".py",
   "mimetype": "text/x-python",
   "name": "python",
   "nbconvert_exporter": "python",
   "pygments_lexer": "ipython3",
   "version": "3.6.12"
  },
  "toc": {
   "base_numbering": 1,
   "nav_menu": {},
   "number_sections": true,
   "sideBar": true,
   "skip_h1_title": false,
   "title_cell": "Table of Contents",
   "title_sidebar": "Contents",
   "toc_cell": false,
   "toc_position": {},
   "toc_section_display": true,
   "toc_window_display": false
  }
 },
 "nbformat": 4,
 "nbformat_minor": 4
}
