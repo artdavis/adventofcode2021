{
 "cells": [
  {
   "cell_type": "markdown",
   "metadata": {},
   "source": [
    "# Day 13: Transparent Origami\n",
    "\n",
    "# Part 2\n",
    "\n",
    "You reach another volcanically active part of the cave. It would be nice if you could do some kind of thermal imaging so you could tell ahead of time which caves are too hot to safely enter.\n",
    "\n",
    "Fortunately, the submarine seems to be equipped with a thermal camera! When you activate it, you are greeted with:\n",
    "\n",
    "Congratulations on your purchase! To activate this infrared thermal imaging\n",
    "camera system, please enter the code found on page 1 of the manual.\n",
    "\n",
    "Apparently, the Elves have never used this feature. To your surprise, you manage to find the manual; as you go to open it, page 1 falls out. It's a large sheet of transparent paper! The transparent paper is marked with random dots and includes instructions on how to fold it up (your puzzle input). For example:\n",
    "```\n",
    "6,10\n",
    "0,14\n",
    "9,10\n",
    "0,3\n",
    "10,4\n",
    "4,11\n",
    "6,0\n",
    "6,12\n",
    "4,1\n",
    "0,13\n",
    "10,12\n",
    "3,4\n",
    "3,0\n",
    "8,4\n",
    "1,10\n",
    "2,14\n",
    "8,10\n",
    "9,0\n",
    "\n",
    "fold along y=7\n",
    "fold along x=5\n",
    "```\n",
    "The first section is a list of dots on the transparent paper. 0,0 represents the top-left coordinate. The first value, x, increases to the right. The second value, y, increases downward. So, the coordinate 3,0 is to the right of 0,0, and the coordinate 0,7 is below 0,0. The coordinates in this example form the following pattern, where # is a dot on the paper and . is an empty, unmarked position:\n",
    "```\n",
    "...#..#..#.\n",
    "....#......\n",
    "...........\n",
    "#..........\n",
    "...#....#.#\n",
    "...........\n",
    "...........\n",
    "...........\n",
    "...........\n",
    "...........\n",
    ".#....#.##.\n",
    "....#......\n",
    "......#...#\n",
    "#..........\n",
    "#.#........\n",
    "```\n",
    "Then, there is a list of fold instructions. Each instruction indicates a line on the transparent paper and wants you to fold the paper up (for horizontal y=... lines) or left (for vertical x=... lines). In this example, the first fold instruction is fold along y=7, which designates the line formed by all of the positions where y is 7 (marked here with -):\n",
    "```\n",
    "...#..#..#.\n",
    "....#......\n",
    "...........\n",
    "#..........\n",
    "...#....#.#\n",
    "...........\n",
    "...........\n",
    "-----------\n",
    "...........\n",
    "...........\n",
    ".#....#.##.\n",
    "....#......\n",
    "......#...#\n",
    "#..........\n",
    "#.#........\n",
    "```\n",
    "Because this is a horizontal line, fold the bottom half up. Some of the dots might end up overlapping after the fold is complete, but dots will never appear exactly on a fold line. The result of doing this fold looks like this:\n",
    "```\n",
    "#.##..#..#.\n",
    "#...#......\n",
    "......#...#\n",
    "#...#......\n",
    ".#.#..#.###\n",
    "...........\n",
    "...........\n",
    "```\n",
    "Now, only 17 dots are visible.\n",
    "\n",
    "Notice, for example, the two dots in the bottom left corner before the transparent paper is folded; after the fold is complete, those dots appear in the top left corner (at 0,0 and 0,1). Because the paper is transparent, the dot just below them in the result (at 0,3) remains visible, as it can be seen through the transparent paper.\n",
    "\n",
    "Also notice that some dots can end up overlapping; in this case, the dots merge together and become a single dot.\n",
    "\n",
    "The second fold instruction is fold along x=5, which indicates this line:\n",
    "```\n",
    "#.##.|#..#.\n",
    "#...#|.....\n",
    ".....|#...#\n",
    "#...#|.....\n",
    ".#.#.|#.###\n",
    ".....|.....\n",
    ".....|.....\n",
    "```\n",
    "Because this is a vertical line, fold left:\n",
    "```\n",
    "#####\n",
    "#...#\n",
    "#...#\n",
    "#...#\n",
    "#####\n",
    ".....\n",
    ".....\n",
    "```\n",
    "The instructions made a square!\n",
    "\n",
    "The transparent paper is pretty big, so for now, focus on just completing the first fold. After the first fold in the example above, 17 dots are visible - dots that end up overlapping after the fold is completed count as a single dot.\n",
    "\n",
    "**How many dots are visible after completing just the first fold instruction on your transparent paper?**"
   ]
  },
  {
   "cell_type": "code",
   "execution_count": 2,
   "metadata": {
    "ExecuteTime": {
     "end_time": "2021-12-13T13:23:04.175851Z",
     "start_time": "2021-12-13T13:23:02.972427Z"
    }
   },
   "outputs": [],
   "source": [
    "from IPython.display import Markdown\n",
    "import numpy as np\n",
    "from matplotlib import pyplot as plt"
   ]
  },
  {
   "cell_type": "code",
   "execution_count": 54,
   "metadata": {
    "ExecuteTime": {
     "end_time": "2021-12-13T14:17:12.449731Z",
     "start_time": "2021-12-13T14:17:12.402633Z"
    }
   },
   "outputs": [],
   "source": [
    "#infile = 'test_input.txt'\n",
    "infile = 'input.txt'\n",
    "\n",
    "ijlist = list()\n",
    "foldcmds = list()\n",
    "fbool = False # Flag indicating time to read fold commands\n",
    "with open(infile, 'r') as fid:\n",
    "    for line in fid:\n",
    "        lstr = line.strip()\n",
    "        if '' == lstr:\n",
    "            fbool = True\n",
    "            continue\n",
    "        if not fbool:\n",
    "            j, i = lstr.split(',')\n",
    "            ijlist.append((int(i), int(j)))\n",
    "        else:\n",
    "            # Isolate x= or y= cmd\n",
    "            eq = lstr.rpartition(' ')[-1].split('=')\n",
    "            if 'x' == eq[0]:\n",
    "                # Vertical line at j = eq[1]\n",
    "                foldcmds.append((0, int(eq[1])))\n",
    "            elif 'y' == eq[0]:\n",
    "                # Horizontal line a i = eq[1]\n",
    "                foldcmds.append((int(eq[1]), 0))\n",
    "            else:\n",
    "                raise ValueError(\"Unhandled eq: {}\".format(eq))\n",
    "ijlist = np.array(ijlist, dtype=np.int)\n",
    "foldcmds = np.array(foldcmds, dtype=np.int)\n",
    "#display(ijlist)\n",
    "#display(foldcmds)"
   ]
  },
  {
   "cell_type": "code",
   "execution_count": 55,
   "metadata": {
    "ExecuteTime": {
     "end_time": "2021-12-13T14:17:12.472002Z",
     "start_time": "2021-12-13T14:17:12.449731Z"
    }
   },
   "outputs": [],
   "source": [
    "def makeplot(dat, cmap='gray'):\n",
    "    fig, ax = plt.subplots(figsize=(10, 10))\n",
    "    ax.imshow(dat, cmap=cmap)\n"
   ]
  },
  {
   "cell_type": "code",
   "execution_count": 56,
   "metadata": {
    "ExecuteTime": {
     "end_time": "2021-12-13T14:17:12.503402Z",
     "start_time": "2021-12-13T14:17:12.472002Z"
    }
   },
   "outputs": [],
   "source": [
    "# Create array from bounds of ijlist\n",
    "dat = np.zeros((ijlist[:,0].max() + 1, ijlist[:,1].max() + 1), dtype=np.bool)\n",
    "# Turn on dots\n",
    "for i, j in ijlist:\n",
    "    dat[i, j] = True\n",
    "#makeplot(dat)"
   ]
  },
  {
   "cell_type": "code",
   "execution_count": 57,
   "metadata": {
    "ExecuteTime": {
     "end_time": "2021-12-13T14:17:12.534801Z",
     "start_time": "2021-12-13T14:17:12.503402Z"
    }
   },
   "outputs": [],
   "source": [
    "# Run the folds\n",
    "dat1 = dat.copy()\n",
    "visdotlist = list()\n",
    "for i, j in foldcmds:\n",
    "    if 0 == i:\n",
    "        # Vertical line at j\n",
    "        # The new data area is:\n",
    "        dat2 = dat1[:, :j]\n",
    "        # Fold data:\n",
    "        fdat = dat1[:, j+1:]\n",
    "        # Flip fdat left-right to get its reflection\n",
    "        fdat = np.fliplr(fdat)\n",
    "    elif 0 == j:\n",
    "        # Horizontal line at i\n",
    "        dat2 = dat1[:i, :]\n",
    "        # Fold data\n",
    "        fdat = dat1[i+1:, :]\n",
    "        # Flip fdat up-down to get its reflection\n",
    "        fdat = np.flipud(fdat)\n",
    "    # Merge folded data with data\n",
    "    dat1 = np.logical_or(dat2, fdat)\n",
    "    # Count vidible dots\n",
    "    visdotlist.append(np.sum(dat1))\n",
    "#makeplot(dat1)"
   ]
  },
  {
   "cell_type": "code",
   "execution_count": 58,
   "metadata": {
    "ExecuteTime": {
     "end_time": "2021-12-13T14:17:12.572772Z",
     "start_time": "2021-12-13T14:17:12.534801Z"
    }
   },
   "outputs": [
    {
     "data": {
      "text/markdown": [
       "After first fold instruction **818** dots are visible"
      ],
      "text/plain": [
       "<IPython.core.display.Markdown object>"
      ]
     },
     "execution_count": 58,
     "metadata": {},
     "output_type": "execute_result"
    }
   ],
   "source": [
    "#Markdown(\"After first fold instruction **{}** dots are visible\".format(visdotlist[0]))"
   ]
  },
  {
   "cell_type": "markdown",
   "metadata": {},
   "source": [
    "## Part Two\n",
    "\n",
    "Finish folding the transparent paper according to the instructions. The manual says the code is always eight capital letters.\n",
    "\n",
    "What code do you use to activate the infrared thermal imaging camera system?"
   ]
  },
  {
   "cell_type": "code",
   "execution_count": 59,
   "metadata": {
    "ExecuteTime": {
     "end_time": "2021-12-13T14:17:45.462006Z",
     "start_time": "2021-12-13T14:17:45.291878Z"
    }
   },
   "outputs": [
    {
     "data": {
      "image/png": "[encoded data removed]",
      "text/plain": [
       "<Figure size 720x720 with 1 Axes>"
      ]
     },
     "metadata": {
      "needs_background": "light"
     },
     "output_type": "display_data"
    }
   ],
   "source": [
    "#makeplot(dat1)"
   ]
  },
  {
   "cell_type": "code",
   "execution_count": null,
   "metadata": {},
   "outputs": [],
   "source": []
  }
 ],
 "metadata": {
  "kernelspec": {
   "display_name": "Python 3",
   "language": "python",
   "name": "python3"
  },
  "language_info": {
   "codemirror_mode": {
    "name": "ipython",
    "version": 3
   },
   "file_extension": ".py",
   "mimetype": "text/x-python",
   "name": "python",
   "nbconvert_exporter": "python",
   "pygments_lexer": "ipython3",
   "version": "3.6.12"
  },
  "toc": {
   "base_numbering": 1,
   "nav_menu": {},
   "number_sections": true,
   "sideBar": true,
   "skip_h1_title": false,
   "title_cell": "Table of Contents",
   "title_sidebar": "Contents",
   "toc_cell": false,
   "toc_position": {},
   "toc_section_display": true,
   "toc_window_display": false
  }
 },
 "nbformat": 4,
 "nbformat_minor": 4
}
