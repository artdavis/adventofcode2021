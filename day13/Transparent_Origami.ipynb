{
 "cells": [
  {
   "cell_type": "markdown",
   "metadata": {},
   "source": [
    "# Day 13: Transparent Origami\n",
    "\n",
    "https://adventofcode.com/2021/day/13\n",
    "\n",
    "## Part 1\n",
    "\n",
    "**How many dots are visible after completing just the first fold instruction on your transparent paper?**"
   ]
  },
  {
   "cell_type": "code",
   "execution_count": 1,
   "metadata": {
    "ExecuteTime": {
     "end_time": "2021-12-13T14:20:18.447377Z",
     "start_time": "2021-12-13T14:20:17.193620Z"
    }
   },
   "outputs": [],
   "source": [
    "from IPython.display import Markdown\n",
    "import numpy as np\n",
    "from matplotlib import pyplot as plt"
   ]
  },
  {
   "cell_type": "code",
   "execution_count": 2,
   "metadata": {
    "ExecuteTime": {
     "end_time": "2021-12-13T14:20:18.473103Z",
     "start_time": "2021-12-13T14:20:18.447377Z"
    }
   },
   "outputs": [],
   "source": [
    "#infile = 'test_input.txt'\n",
    "infile = 'input.txt'\n",
    "\n",
    "ijlist = list()\n",
    "foldcmds = list()\n",
    "fbool = False # Flag indicating time to read fold commands\n",
    "with open(infile, 'r') as fid:\n",
    "    for line in fid:\n",
    "        lstr = line.strip()\n",
    "        if '' == lstr:\n",
    "            fbool = True\n",
    "            continue\n",
    "        if not fbool:\n",
    "            j, i = lstr.split(',')\n",
    "            ijlist.append((int(i), int(j)))\n",
    "        else:\n",
    "            # Isolate x= or y= cmd\n",
    "            eq = lstr.rpartition(' ')[-1].split('=')\n",
    "            if 'x' == eq[0]:\n",
    "                # Vertical line at j = eq[1]\n",
    "                foldcmds.append((0, int(eq[1])))\n",
    "            elif 'y' == eq[0]:\n",
    "                # Horizontal line a i = eq[1]\n",
    "                foldcmds.append((int(eq[1]), 0))\n",
    "            else:\n",
    "                raise ValueError(\"Unhandled eq: {}\".format(eq))\n",
    "ijlist = np.array(ijlist, dtype=np.int)\n",
    "foldcmds = np.array(foldcmds, dtype=np.int)\n",
    "#display(ijlist)\n",
    "#display(foldcmds)"
   ]
  },
  {
   "cell_type": "code",
   "execution_count": 3,
   "metadata": {
    "ExecuteTime": {
     "end_time": "2021-12-13T14:20:18.504357Z",
     "start_time": "2021-12-13T14:20:18.473103Z"
    }
   },
   "outputs": [],
   "source": [
    "def makeplot(dat, cmap='gray'):\n",
    "    fig, ax = plt.subplots(figsize=(10, 10))\n",
    "    ax.imshow(dat, cmap=cmap)\n"
   ]
  },
  {
   "cell_type": "code",
   "execution_count": 4,
   "metadata": {
    "ExecuteTime": {
     "end_time": "2021-12-13T14:20:18.535607Z",
     "start_time": "2021-12-13T14:20:18.504357Z"
    }
   },
   "outputs": [],
   "source": [
    "# Create array from bounds of ijlist\n",
    "dat = np.zeros((ijlist[:,0].max() + 1, ijlist[:,1].max() + 1), dtype=np.bool)\n",
    "# Turn on dots\n",
    "for i, j in ijlist:\n",
    "    dat[i, j] = True\n",
    "#makeplot(dat)"
   ]
  },
  {
   "cell_type": "code",
   "execution_count": 5,
   "metadata": {
    "ExecuteTime": {
     "end_time": "2021-12-13T14:20:18.589031Z",
     "start_time": "2021-12-13T14:20:18.535607Z"
    }
   },
   "outputs": [],
   "source": [
    "# Run the folds\n",
    "dat1 = dat.copy()\n",
    "visdotlist = list()\n",
    "for i, j in foldcmds:\n",
    "    if 0 == i:\n",
    "        # Vertical line at j\n",
    "        # The new data area is:\n",
    "        dat2 = dat1[:, :j]\n",
    "        # Fold data:\n",
    "        fdat = dat1[:, j+1:]\n",
    "        # Flip fdat left-right to get its reflection\n",
    "        fdat = np.fliplr(fdat)\n",
    "    elif 0 == j:\n",
    "        # Horizontal line at i\n",
    "        dat2 = dat1[:i, :]\n",
    "        # Fold data\n",
    "        fdat = dat1[i+1:, :]\n",
    "        # Flip fdat up-down to get its reflection\n",
    "        fdat = np.flipud(fdat)\n",
    "    # Merge folded data with data\n",
    "    dat1 = np.logical_or(dat2, fdat)\n",
    "    # Count vidible dots\n",
    "    visdotlist.append(np.sum(dat1))\n",
    "#makeplot(dat1)"
   ]
  },
  {
   "cell_type": "code",
   "execution_count": 6,
   "metadata": {
    "ExecuteTime": {
     "end_time": "2021-12-13T14:20:18.604657Z",
     "start_time": "2021-12-13T14:20:18.589031Z"
    }
   },
   "outputs": [],
   "source": [
    "#Markdown(\"After first fold instruction **{}** dots are visible\".format(visdotlist[0]))"
   ]
  },
  {
   "cell_type": "markdown",
   "metadata": {},
   "source": [
    "## Part Two\n",
    "\n",
    "**What code do you use to activate the infrared thermal imaging camera system?**"
   ]
  },
  {
   "cell_type": "code",
   "execution_count": 7,
   "metadata": {
    "ExecuteTime": {
     "end_time": "2021-12-13T14:20:18.651534Z",
     "start_time": "2021-12-13T14:20:18.604657Z"
    }
   },
   "outputs": [],
   "source": [
    "#makeplot(dat1)"
   ]
  },
  {
   "cell_type": "code",
   "execution_count": null,
   "metadata": {},
   "outputs": [],
   "source": []
  }
 ],
 "metadata": {
  "kernelspec": {
   "display_name": "Python 3",
   "language": "python",
   "name": "python3"
  },
  "language_info": {
   "codemirror_mode": {
    "name": "ipython",
    "version": 3
   },
   "file_extension": ".py",
   "mimetype": "text/x-python",
   "name": "python",
   "nbconvert_exporter": "python",
   "pygments_lexer": "ipython3",
   "version": "3.6.12"
  },
  "toc": {
   "base_numbering": 1,
   "nav_menu": {},
   "number_sections": true,
   "sideBar": true,
   "skip_h1_title": false,
   "title_cell": "Table of Contents",
   "title_sidebar": "Contents",
   "toc_cell": false,
   "toc_position": {},
   "toc_section_display": true,
   "toc_window_display": false
  }
 },
 "nbformat": 4,
 "nbformat_minor": 4
}
