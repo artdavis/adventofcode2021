{
 "cells": [
  {
   "cell_type": "markdown",
   "metadata": {},
   "source": [
    "# Day 22: Reactor Reboot\n",
    "\n",
    "https://adventofcode.com/2021/day/22\n",
    "\n",
    "## Part 1\n",
    "\n",
    "**how many cubes are on?**"
   ]
  },
  {
   "cell_type": "code",
   "execution_count": 1,
   "metadata": {
    "ExecuteTime": {
     "end_time": "2021-12-22T18:58:40.487375Z",
     "start_time": "2021-12-22T18:58:40.014859Z"
    }
   },
   "outputs": [],
   "source": [
    "from IPython.display import Markdown\n",
    "import numpy as np\n",
    "import itertools"
   ]
  },
  {
   "cell_type": "code",
   "execution_count": 95,
   "metadata": {
    "ExecuteTime": {
     "end_time": "2021-12-22T14:42:11.719190Z",
     "start_time": "2021-12-22T14:42:11.672307Z"
    }
   },
   "outputs": [],
   "source": [
    "#infile = 'test_input1.txt'\n",
    "#infile = 'test_input2.txt'\n",
    "infile = 'input.txt'\n",
    "\n",
    "def get_tup(dat):\n",
    "    nums = dat.split('=')[-1]\n",
    "    return tuple(int(x) for x in nums.split('..'))\n",
    "\n",
    "boundlist = list()\n",
    "xmin = None; ymin = None; zmin = None\n",
    "xmax = None; ymax = None; zmax = None\n",
    "limit = 50\n",
    "with open(infile, 'r') as fid:\n",
    "    for line in fid:\n",
    "        state, bounds = line.strip().split()\n",
    "        x, y, z = bounds.split(',')\n",
    "        xtup = get_tup(x)\n",
    "        ytup = get_tup(y)\n",
    "        ztup = get_tup(z)\n",
    "        # Ignore anything outside of +/-limit\n",
    "        if np.any(np.array(xtup) < -limit) or np.any(np.array(xtup) > limit):\n",
    "            continue\n",
    "        if np.any(np.array(ytup) < -limit) or np.any(np.array(ytup) > limit):\n",
    "            continue\n",
    "        if np.any(np.array(ztup) < -limit) or np.any(np.array(ztup) > limit):\n",
    "            continue\n",
    "        boundlist.append([state, xtup, ytup, ztup])\n",
    "        xmin = min(xmin, xtup[0]) if xmin is not None else xtup[0]\n",
    "        ymin = min(ymin, ytup[0]) if ymin is not None else ytup[0]\n",
    "        zmin = min(zmin, ztup[0]) if zmin is not None else ztup[0]\n",
    "        xmax = max(xmax, xtup[1]) if xmax is not None else xtup[1]\n",
    "        ymax = max(ymax, ytup[1]) if ymax is not None else ytup[1]\n",
    "        zmax = max(zmax, ztup[1]) if zmax is not None else ztup[1]\n",
    "#boundlist"
   ]
  },
  {
   "cell_type": "code",
   "execution_count": 96,
   "metadata": {
    "ExecuteTime": {
     "end_time": "2021-12-22T14:42:12.642058Z",
     "start_time": "2021-12-22T14:42:12.626430Z"
    }
   },
   "outputs": [
    {
     "data": {
      "text/plain": [
       "(93, 95, 94)"
      ]
     },
     "execution_count": 96,
     "metadata": {},
     "output_type": "execute_result"
    }
   ],
   "source": [
    "#reactor_size = 102\n",
    "#reactor_size = 14\n",
    "#reactor = np.zeros((reactor_size, reactor_size, reactor_size), dtype=np.bool)\n",
    "reactor = np.zeros((zmax-zmin+1, ymax-ymin+1, xmax-xmin+1), dtype=np.bool)\n",
    "reactor.shape"
   ]
  },
  {
   "cell_type": "code",
   "execution_count": 97,
   "metadata": {
    "ExecuteTime": {
     "end_time": "2021-12-22T14:42:14.669816Z",
     "start_time": "2021-12-22T14:42:14.616392Z"
    }
   },
   "outputs": [
    {
     "data": {
      "text/markdown": [
       "The number of 'on' cubes is **596989**"
      ],
      "text/plain": [
       "<IPython.core.display.Markdown object>"
      ]
     },
     "execution_count": 97,
     "metadata": {},
     "output_type": "execute_result"
    }
   ],
   "source": [
    "for state, xb, yb, zb in boundlist:\n",
    "    x0, x1 = xb\n",
    "    y0, y1 = yb\n",
    "    z0, z1 = zb\n",
    "    # x coord -> k (cols)\n",
    "    # y coord -> j (rows)\n",
    "    # z coord -> i (depth)\n",
    "    # Convert x,y,z to i,j,k by making zero indexed\n",
    "    i0, i1 = (z0 - zmin, z1 - zmin)\n",
    "    j0, j1 = (y0 - ymin, y1 - ymin)\n",
    "    k0, k1 = (x0 - xmin, x1 - xmin)\n",
    "    rslice = reactor[i0:i1+1,j0:j1+1,k0:k1+1]\n",
    "    if 'on' == state:\n",
    "        # Turn on cubes with logical or\n",
    "        kern = np.ones((i1-i0+1, j1-j0+1, k1-k0+1), dtype=np.bool)\n",
    "        reactor[i0:i1+1,j0:j1+1,k0:k1+1] = np.logical_or(rslice, kern)\n",
    "    if 'off' == state:\n",
    "        # Turn off cubes with logical and\n",
    "        kern = np.zeros((i1-i0+1, j1-j0+1, k1-k0+1), dtype=np.bool)\n",
    "        reactor[i0:i1+1,j0:j1+1,k0:k1+1] = np.logical_and(rslice, kern)\n",
    "\n",
    "oncubes = reactor.sum()\n",
    "Markdown(\"The number of 'on' cubes is **{}**\".format(oncubes))"
   ]
  },
  {
   "cell_type": "markdown",
   "metadata": {},
   "source": [
    "## Part Two\n",
    "\n",
    "**how many cubes are on?**"
   ]
  },
  {
   "cell_type": "code",
   "execution_count": 1,
   "metadata": {
    "ExecuteTime": {
     "end_time": "2021-12-22T19:12:23.873528Z",
     "start_time": "2021-12-22T19:12:23.403340Z"
    }
   },
   "outputs": [],
   "source": [
    "from IPython.display import Markdown\n",
    "import numpy as np\n",
    "import itertools"
   ]
  },
  {
   "cell_type": "code",
   "execution_count": 4,
   "metadata": {
    "ExecuteTime": {
     "end_time": "2021-12-22T19:13:04.528788Z",
     "start_time": "2021-12-22T19:13:04.497538Z"
    }
   },
   "outputs": [],
   "source": [
    "#infile = 'test_input1.txt'\n",
    "infile = 'test_input2.txt'\n",
    "#infile = 'test_input3.txt'\n",
    "#infile = 'input.txt'\n",
    "\n",
    "def get_tup(dat):\n",
    "    nums = dat.split('=')[-1]\n",
    "    return tuple(int(x) for x in nums.split('..'))\n",
    "\n",
    "boundlist = list()\n",
    "#limit = 50\n",
    "limit = None\n",
    "with open(infile, 'r') as fid:\n",
    "    for line in fid:\n",
    "        state, bounds = line.strip().split()\n",
    "        x, y, z = bounds.split(',')\n",
    "        xtup = get_tup(x)\n",
    "        ytup = get_tup(y)\n",
    "        ztup = get_tup(z)\n",
    "        if limit is not None:\n",
    "            # Ignore anything outside of +/-limit\n",
    "            if np.any(np.array(xtup) < -limit) or np.any(np.array(xtup) > limit):\n",
    "                continue\n",
    "            if np.any(np.array(ytup) < -limit) or np.any(np.array(ytup) > limit):\n",
    "                continue\n",
    "            if np.any(np.array(ztup) < -limit) or np.any(np.array(ztup) > limit):\n",
    "                continue\n",
    "        boundlist.append([state, xtup, ytup, ztup])\n",
    "#boundlist"
   ]
  },
  {
   "cell_type": "code",
   "execution_count": null,
   "metadata": {
    "ExecuteTime": {
     "start_time": "2021-12-22T19:13:05.267Z"
    }
   },
   "outputs": [
    {
     "name": "stdout",
     "output_type": "stream",
     "text": [
      "1/22...2/22...3/22...4/22...5/22...6/22...7/22..."
     ]
    }
   ],
   "source": [
    "# Represent N-dimensional data as dictionary of keys\n",
    "# If key does not exist in dictionary, assume value there is False\n",
    "# If key does exists, then we can get it's value directly\n",
    "# We can also consider \"turning off\" by deleting the key from the dictionary\n",
    "\n",
    "def get_keys(xtup, ytup, ztup):\n",
    "    # From supplied x/y/z low to high tuples,\n",
    "    # generate out all x,y,z tuples for the cuboid\n",
    "    ii = itertools.product(range(xtup[0], xtup[1] + 1),\n",
    "                           range(ytup[0], ytup[1] + 1),\n",
    "                           range(ztup[0], ztup[1] + 1))\n",
    "    return set(ii)\n",
    "\n",
    "# Initialize reactor as empty set\n",
    "reactor = set()\n",
    "niters = len(boundlist)\n",
    "i = 1\n",
    "for state, xb, yb, zb in boundlist:\n",
    "    print('{}/{}...'.format(i, niters), end='')\n",
    "    ctups = get_keys(xb, yb, zb)\n",
    "    if 'on' == state:\n",
    "        # Add keys to set\n",
    "        reactor |= ctups\n",
    "    else:\n",
    "        # Remove keys from set\n",
    "        reactor -= ctups\n",
    "    i+=1\n",
    "    \n",
    "oncubes = len(reactor)\n",
    "Markdown(\"The number of 'on' cubes is **{}**\".format(oncubes))"
   ]
  },
  {
   "cell_type": "code",
   "execution_count": 5,
   "metadata": {
    "ExecuteTime": {
     "end_time": "2021-12-22T19:07:53.120612Z",
     "start_time": "2021-12-22T19:07:53.073735Z"
    }
   },
   "outputs": [
    {
     "name": "stdout",
     "output_type": "stream",
     "text": [
      "1/60...2/60...3/60...4/60...5/60...6/60...7/60...8/60...9/60...10/60...11/60...12/60...13/60...14/60...15/60...16/60...17/60...18/60...19/60...20/60...21/60...22/60...23/60...24/60...25/60...26/60...27/60...28/60...29/60...30/60...31/60...32/60...33/60...34/60...35/60...36/60...37/60...38/60...39/60...40/60...41/60...42/60...43/60...44/60...45/60...46/60...47/60...48/60...49/60...50/60...51/60...52/60...53/60...54/60...55/60...56/60...57/60...58/60...59/60...60/60..."
     ]
    },
    {
     "data": {
      "text/plain": [
       "'\\n# Initialize reactor as empty dictionary\\nreactor = dict()\\n\\nniters = len(boundlist)\\ni = 1\\nfor state, xb, yb, zb in boundlist:\\n    print(\\'{}/{}...\\'.format(i, niters), end=\\'\\')\\n    ctups = get_keys(xb, yb, zb)\\n    if \\'on\\' == state:\\n        # Turn on all keys\\n        for tup in ctups:\\n            reactor[tup] = 1\\n    if \\'off\\' == state:\\n        # Delete any matching keys that are \"on\"\\n        keykill = ctups & reactor.keys()\\n        for tup in keykill:\\n            reactor.pop(tup)\\n    i += 1\\n\\noncubes = sum(reactor.values())\\n'"
      ]
     },
     "execution_count": 5,
     "metadata": {},
     "output_type": "execute_result"
    }
   ],
   "source": [
    "'''\n",
    "# Initialize reactor as empty dictionary\n",
    "reactor = dict()\n",
    "\n",
    "niters = len(boundlist)\n",
    "i = 1\n",
    "for state, xb, yb, zb in boundlist:\n",
    "    print('{}/{}...'.format(i, niters), end='')\n",
    "    ctups = get_keys(xb, yb, zb)\n",
    "    if 'on' == state:\n",
    "        # Turn on all keys\n",
    "        for tup in ctups:\n",
    "            reactor[tup] = 1\n",
    "    if 'off' == state:\n",
    "        # Delete any matching keys that are \"on\"\n",
    "        keykill = ctups & reactor.keys()\n",
    "        for tup in keykill:\n",
    "            reactor.pop(tup)\n",
    "    i += 1\n",
    "\n",
    "oncubes = sum(reactor.values())\n",
    "'''\n",
    "#Markdown(\"The number of 'on' cubes is **{}**\".format(oncubes))"
   ]
  },
  {
   "cell_type": "code",
   "execution_count": 1,
   "metadata": {
    "ExecuteTime": {
     "end_time": "2021-12-22T19:47:00.948221Z",
     "start_time": "2021-12-22T19:47:00.932591Z"
    }
   },
   "outputs": [],
   "source": [
    "# Just indexing only the on cubes is too much memory/overhead\n",
    "# Probably need to represent only cuboid boundaries to be broken\n",
    "# apart logically into sub-cuboids as needed. Then the volume of\n",
    "# the remaining cuboid boundaries will be the answer\n",
    "\n",
    "# Should be straightforward to solve with a constructive solid geometry\n",
    "# library or openscad"
   ]
  },
  {
   "cell_type": "code",
   "execution_count": null,
   "metadata": {},
   "outputs": [],
   "source": []
  }
 ],
 "metadata": {
  "kernelspec": {
   "display_name": "Python 3",
   "language": "python",
   "name": "python3"
  },
  "language_info": {
   "codemirror_mode": {
    "name": "ipython",
    "version": 3
   },
   "file_extension": ".py",
   "mimetype": "text/x-python",
   "name": "python",
   "nbconvert_exporter": "python",
   "pygments_lexer": "ipython3",
   "version": "3.6.12"
  },
  "toc": {
   "base_numbering": 1,
   "nav_menu": {},
   "number_sections": true,
   "sideBar": true,
   "skip_h1_title": false,
   "title_cell": "Table of Contents",
   "title_sidebar": "Contents",
   "toc_cell": false,
   "toc_position": {},
   "toc_section_display": true,
   "toc_window_display": false
  }
 },
 "nbformat": 4,
 "nbformat_minor": 4
}
