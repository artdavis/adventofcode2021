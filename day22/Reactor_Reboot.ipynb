{
 "cells": [
  {
   "cell_type": "markdown",
   "metadata": {},
   "source": [
    "# Day 22: Reactor Reboot\n",
    "\n",
    "https://adventofcode.com/2021/day/22\n",
    "\n",
    "## Part 1\n",
    "\n",
    "Operating at these extreme ocean depths has overloaded the submarine's reactor; it needs to be rebooted.\n",
    "\n",
    "The reactor core is made up of a large 3-dimensional grid made up entirely of cubes, one cube per integer 3-dimensional coordinate (x,y,z). Each cube can be either on or off; at the start of the reboot process, they are all off. (Could it be an old model of a reactor you've seen before?)\n",
    "\n",
    "To reboot the reactor, you just need to set all of the cubes to either on or off by following a list of reboot steps (your puzzle input). Each step specifies a cuboid (the set of all cubes that have coordinates which fall within ranges for x, y, and z) and whether to turn all of the cubes in that cuboid on or off.\n",
    "\n",
    "For example, given these reboot steps:\n",
    "```\n",
    "on x=10..12,y=10..12,z=10..12\n",
    "on x=11..13,y=11..13,z=11..13\n",
    "off x=9..11,y=9..11,z=9..11\n",
    "on x=10..10,y=10..10,z=10..10\n",
    "```\n",
    "The first step (on x=10..12,y=10..12,z=10..12) turns on a 3x3x3 cuboid consisting of 27 cubes:\n",
    "```\n",
    "    10,10,10\n",
    "    10,10,11\n",
    "    10,10,12\n",
    "    10,11,10\n",
    "    10,11,11\n",
    "    10,11,12\n",
    "    10,12,10\n",
    "    10,12,11\n",
    "    10,12,12\n",
    "    11,10,10\n",
    "    11,10,11\n",
    "    11,10,12\n",
    "    11,11,10\n",
    "    11,11,11\n",
    "    11,11,12\n",
    "    11,12,10\n",
    "    11,12,11\n",
    "    11,12,12\n",
    "    12,10,10\n",
    "    12,10,11\n",
    "    12,10,12\n",
    "    12,11,10\n",
    "    12,11,11\n",
    "    12,11,12\n",
    "    12,12,10\n",
    "    12,12,11\n",
    "    12,12,12\n",
    "```\n",
    "The second step (on x=11..13,y=11..13,z=11..13) turns on a 3x3x3 cuboid that overlaps with the first. As a result, only 19 additional cubes turn on; the rest are already on from the previous step:\n",
    "```\n",
    "    11,11,13\n",
    "    11,12,13\n",
    "    11,13,11\n",
    "    11,13,12\n",
    "    11,13,13\n",
    "    12,11,13\n",
    "    12,12,13\n",
    "    12,13,11\n",
    "    12,13,12\n",
    "    12,13,13\n",
    "    13,11,11\n",
    "    13,11,12\n",
    "    13,11,13\n",
    "    13,12,11\n",
    "    13,12,12\n",
    "    13,12,13\n",
    "    13,13,11\n",
    "    13,13,12\n",
    "    13,13,13\n",
    "```\n",
    "The third step (off x=9..11,y=9..11,z=9..11) turns off a 3x3x3 cuboid that overlaps partially with some cubes that are on, ultimately turning off 8 cubes:\n",
    "```\n",
    "    10,10,10\n",
    "    10,10,11\n",
    "    10,11,10\n",
    "    10,11,11\n",
    "    11,10,10\n",
    "    11,10,11\n",
    "    11,11,10\n",
    "    11,11,11\n",
    "```\n",
    "The final step (on x=10..10,y=10..10,z=10..10) turns on a single cube, 10,10,10. After this last step, 39 cubes are on.\n",
    "\n",
    "The initialization procedure only uses cubes that have x, y, and z positions of at least -50 and at most 50. For now, ignore cubes outside this region.\n",
    "\n",
    "Here is a larger example:\n",
    "```\n",
    "on x=-20..26,y=-36..17,z=-47..7\n",
    "on x=-20..33,y=-21..23,z=-26..28\n",
    "on x=-22..28,y=-29..23,z=-38..16\n",
    "on x=-46..7,y=-6..46,z=-50..-1\n",
    "on x=-49..1,y=-3..46,z=-24..28\n",
    "on x=2..47,y=-22..22,z=-23..27\n",
    "on x=-27..23,y=-28..26,z=-21..29\n",
    "on x=-39..5,y=-6..47,z=-3..44\n",
    "on x=-30..21,y=-8..43,z=-13..34\n",
    "on x=-22..26,y=-27..20,z=-29..19\n",
    "off x=-48..-32,y=26..41,z=-47..-37\n",
    "on x=-12..35,y=6..50,z=-50..-2\n",
    "off x=-48..-32,y=-32..-16,z=-15..-5\n",
    "on x=-18..26,y=-33..15,z=-7..46\n",
    "off x=-40..-22,y=-38..-28,z=23..41\n",
    "on x=-16..35,y=-41..10,z=-47..6\n",
    "off x=-32..-23,y=11..30,z=-14..3\n",
    "on x=-49..-5,y=-3..45,z=-29..18\n",
    "off x=18..30,y=-20..-8,z=-3..13\n",
    "on x=-41..9,y=-7..43,z=-33..15\n",
    "on x=-54112..-39298,y=-85059..-49293,z=-27449..7877\n",
    "on x=967..23432,y=45373..81175,z=27513..53682\n",
    "```\n",
    "The last two steps are fully outside the initialization procedure area; all other steps are fully within it. After executing these steps in the initialization procedure region, 590784 cubes are on.\n",
    "\n",
    "Execute the reboot steps. Afterward, considering only cubes in the region x=-50..50,y=-50..50,z=-50..50, **how many cubes are on?**"
   ]
  },
  {
   "cell_type": "code",
   "execution_count": 1,
   "metadata": {
    "ExecuteTime": {
     "end_time": "2021-12-22T18:58:40.487375Z",
     "start_time": "2021-12-22T18:58:40.014859Z"
    }
   },
   "outputs": [],
   "source": [
    "from IPython.display import Markdown\n",
    "import numpy as np\n",
    "import itertools"
   ]
  },
  {
   "cell_type": "code",
   "execution_count": 95,
   "metadata": {
    "ExecuteTime": {
     "end_time": "2021-12-22T14:42:11.719190Z",
     "start_time": "2021-12-22T14:42:11.672307Z"
    }
   },
   "outputs": [],
   "source": [
    "#infile = 'test_input1.txt'\n",
    "#infile = 'test_input2.txt'\n",
    "infile = 'input.txt'\n",
    "\n",
    "def get_tup(dat):\n",
    "    nums = dat.split('=')[-1]\n",
    "    return tuple(int(x) for x in nums.split('..'))\n",
    "\n",
    "boundlist = list()\n",
    "xmin = None; ymin = None; zmin = None\n",
    "xmax = None; ymax = None; zmax = None\n",
    "limit = 50\n",
    "with open(infile, 'r') as fid:\n",
    "    for line in fid:\n",
    "        state, bounds = line.strip().split()\n",
    "        x, y, z = bounds.split(',')\n",
    "        xtup = get_tup(x)\n",
    "        ytup = get_tup(y)\n",
    "        ztup = get_tup(z)\n",
    "        # Ignore anything outside of +/-limit\n",
    "        if np.any(np.array(xtup) < -limit) or np.any(np.array(xtup) > limit):\n",
    "            continue\n",
    "        if np.any(np.array(ytup) < -limit) or np.any(np.array(ytup) > limit):\n",
    "            continue\n",
    "        if np.any(np.array(ztup) < -limit) or np.any(np.array(ztup) > limit):\n",
    "            continue\n",
    "        boundlist.append([state, xtup, ytup, ztup])\n",
    "        xmin = min(xmin, xtup[0]) if xmin is not None else xtup[0]\n",
    "        ymin = min(ymin, ytup[0]) if ymin is not None else ytup[0]\n",
    "        zmin = min(zmin, ztup[0]) if zmin is not None else ztup[0]\n",
    "        xmax = max(xmax, xtup[1]) if xmax is not None else xtup[1]\n",
    "        ymax = max(ymax, ytup[1]) if ymax is not None else ytup[1]\n",
    "        zmax = max(zmax, ztup[1]) if zmax is not None else ztup[1]\n",
    "#boundlist"
   ]
  },
  {
   "cell_type": "code",
   "execution_count": 96,
   "metadata": {
    "ExecuteTime": {
     "end_time": "2021-12-22T14:42:12.642058Z",
     "start_time": "2021-12-22T14:42:12.626430Z"
    }
   },
   "outputs": [
    {
     "data": {
      "text/plain": [
       "(93, 95, 94)"
      ]
     },
     "execution_count": 96,
     "metadata": {},
     "output_type": "execute_result"
    }
   ],
   "source": [
    "#reactor_size = 102\n",
    "#reactor_size = 14\n",
    "#reactor = np.zeros((reactor_size, reactor_size, reactor_size), dtype=np.bool)\n",
    "reactor = np.zeros((zmax-zmin+1, ymax-ymin+1, xmax-xmin+1), dtype=np.bool)\n",
    "reactor.shape"
   ]
  },
  {
   "cell_type": "code",
   "execution_count": 97,
   "metadata": {
    "ExecuteTime": {
     "end_time": "2021-12-22T14:42:14.669816Z",
     "start_time": "2021-12-22T14:42:14.616392Z"
    }
   },
   "outputs": [
    {
     "data": {
      "text/markdown": [
       "The number of 'on' cubes is **596989**"
      ],
      "text/plain": [
       "<IPython.core.display.Markdown object>"
      ]
     },
     "execution_count": 97,
     "metadata": {},
     "output_type": "execute_result"
    }
   ],
   "source": [
    "for state, xb, yb, zb in boundlist:\n",
    "    x0, x1 = xb\n",
    "    y0, y1 = yb\n",
    "    z0, z1 = zb\n",
    "    # x coord -> k (cols)\n",
    "    # y coord -> j (rows)\n",
    "    # z coord -> i (depth)\n",
    "    # Convert x,y,z to i,j,k by making zero indexed\n",
    "    i0, i1 = (z0 - zmin, z1 - zmin)\n",
    "    j0, j1 = (y0 - ymin, y1 - ymin)\n",
    "    k0, k1 = (x0 - xmin, x1 - xmin)\n",
    "    rslice = reactor[i0:i1+1,j0:j1+1,k0:k1+1]\n",
    "    if 'on' == state:\n",
    "        # Turn on cubes with logical or\n",
    "        kern = np.ones((i1-i0+1, j1-j0+1, k1-k0+1), dtype=np.bool)\n",
    "        reactor[i0:i1+1,j0:j1+1,k0:k1+1] = np.logical_or(rslice, kern)\n",
    "    if 'off' == state:\n",
    "        # Turn off cubes with logical and\n",
    "        kern = np.zeros((i1-i0+1, j1-j0+1, k1-k0+1), dtype=np.bool)\n",
    "        reactor[i0:i1+1,j0:j1+1,k0:k1+1] = np.logical_and(rslice, kern)\n",
    "\n",
    "oncubes = reactor.sum()\n",
    "Markdown(\"The number of 'on' cubes is **{}**\".format(oncubes))"
   ]
  },
  {
   "cell_type": "markdown",
   "metadata": {},
   "source": [
    "## Part Two\n",
    "\n",
    "Now that the initialization procedure is complete, you can reboot the reactor.\n",
    "\n",
    "Starting with all cubes off, run all of the reboot steps for all cubes in the reactor.\n",
    "\n",
    "Consider the following reboot steps:\n",
    "```\n",
    "on x=-5..47,y=-31..22,z=-19..33\n",
    "on x=-44..5,y=-27..21,z=-14..35\n",
    "on x=-49..-1,y=-11..42,z=-10..38\n",
    "on x=-20..34,y=-40..6,z=-44..1\n",
    "off x=26..39,y=40..50,z=-2..11\n",
    "on x=-41..5,y=-41..6,z=-36..8\n",
    "off x=-43..-33,y=-45..-28,z=7..25\n",
    "on x=-33..15,y=-32..19,z=-34..11\n",
    "off x=35..47,y=-46..-34,z=-11..5\n",
    "on x=-14..36,y=-6..44,z=-16..29\n",
    "on x=-57795..-6158,y=29564..72030,z=20435..90618\n",
    "on x=36731..105352,y=-21140..28532,z=16094..90401\n",
    "on x=30999..107136,y=-53464..15513,z=8553..71215\n",
    "on x=13528..83982,y=-99403..-27377,z=-24141..23996\n",
    "on x=-72682..-12347,y=18159..111354,z=7391..80950\n",
    "on x=-1060..80757,y=-65301..-20884,z=-103788..-16709\n",
    "on x=-83015..-9461,y=-72160..-8347,z=-81239..-26856\n",
    "on x=-52752..22273,y=-49450..9096,z=54442..119054\n",
    "on x=-29982..40483,y=-108474..-28371,z=-24328..38471\n",
    "on x=-4958..62750,y=40422..118853,z=-7672..65583\n",
    "on x=55694..108686,y=-43367..46958,z=-26781..48729\n",
    "on x=-98497..-18186,y=-63569..3412,z=1232..88485\n",
    "on x=-726..56291,y=-62629..13224,z=18033..85226\n",
    "on x=-110886..-34664,y=-81338..-8658,z=8914..63723\n",
    "on x=-55829..24974,y=-16897..54165,z=-121762..-28058\n",
    "on x=-65152..-11147,y=22489..91432,z=-58782..1780\n",
    "on x=-120100..-32970,y=-46592..27473,z=-11695..61039\n",
    "on x=-18631..37533,y=-124565..-50804,z=-35667..28308\n",
    "on x=-57817..18248,y=49321..117703,z=5745..55881\n",
    "on x=14781..98692,y=-1341..70827,z=15753..70151\n",
    "on x=-34419..55919,y=-19626..40991,z=39015..114138\n",
    "on x=-60785..11593,y=-56135..2999,z=-95368..-26915\n",
    "on x=-32178..58085,y=17647..101866,z=-91405..-8878\n",
    "on x=-53655..12091,y=50097..105568,z=-75335..-4862\n",
    "on x=-111166..-40997,y=-71714..2688,z=5609..50954\n",
    "on x=-16602..70118,y=-98693..-44401,z=5197..76897\n",
    "on x=16383..101554,y=4615..83635,z=-44907..18747\n",
    "off x=-95822..-15171,y=-19987..48940,z=10804..104439\n",
    "on x=-89813..-14614,y=16069..88491,z=-3297..45228\n",
    "on x=41075..99376,y=-20427..49978,z=-52012..13762\n",
    "on x=-21330..50085,y=-17944..62733,z=-112280..-30197\n",
    "on x=-16478..35915,y=36008..118594,z=-7885..47086\n",
    "off x=-98156..-27851,y=-49952..43171,z=-99005..-8456\n",
    "off x=2032..69770,y=-71013..4824,z=7471..94418\n",
    "on x=43670..120875,y=-42068..12382,z=-24787..38892\n",
    "off x=37514..111226,y=-45862..25743,z=-16714..54663\n",
    "off x=25699..97951,y=-30668..59918,z=-15349..69697\n",
    "off x=-44271..17935,y=-9516..60759,z=49131..112598\n",
    "on x=-61695..-5813,y=40978..94975,z=8655..80240\n",
    "off x=-101086..-9439,y=-7088..67543,z=33935..83858\n",
    "off x=18020..114017,y=-48931..32606,z=21474..89843\n",
    "off x=-77139..10506,y=-89994..-18797,z=-80..59318\n",
    "off x=8476..79288,y=-75520..11602,z=-96624..-24783\n",
    "on x=-47488..-1262,y=24338..100707,z=16292..72967\n",
    "off x=-84341..13987,y=2429..92914,z=-90671..-1318\n",
    "off x=-37810..49457,y=-71013..-7894,z=-105357..-13188\n",
    "off x=-27365..46395,y=31009..98017,z=15428..76570\n",
    "off x=-70369..-16548,y=22648..78696,z=-1892..86821\n",
    "on x=-53470..21291,y=-120233..-33476,z=-44150..38147\n",
    "off x=-93533..-4276,y=-16170..68771,z=-104985..-24507\n",
    "```\n",
    "After running the above reboot steps, 2758514936282235 cubes are on. (Just for fun, 474140 of those are also in the initialization procedure region.)\n",
    "\n",
    "Starting again with all cubes off, execute all reboot steps. Afterward, considering all cubes, **how many cubes are on?**"
   ]
  },
  {
   "cell_type": "code",
   "execution_count": 1,
   "metadata": {
    "ExecuteTime": {
     "end_time": "2021-12-22T19:12:23.873528Z",
     "start_time": "2021-12-22T19:12:23.403340Z"
    }
   },
   "outputs": [],
   "source": [
    "from IPython.display import Markdown\n",
    "import numpy as np\n",
    "import itertools"
   ]
  },
  {
   "cell_type": "code",
   "execution_count": 4,
   "metadata": {
    "ExecuteTime": {
     "end_time": "2021-12-22T19:13:04.528788Z",
     "start_time": "2021-12-22T19:13:04.497538Z"
    }
   },
   "outputs": [],
   "source": [
    "#infile = 'test_input1.txt'\n",
    "infile = 'test_input2.txt'\n",
    "#infile = 'test_input3.txt'\n",
    "#infile = 'input.txt'\n",
    "\n",
    "def get_tup(dat):\n",
    "    nums = dat.split('=')[-1]\n",
    "    return tuple(int(x) for x in nums.split('..'))\n",
    "\n",
    "boundlist = list()\n",
    "#limit = 50\n",
    "limit = None\n",
    "with open(infile, 'r') as fid:\n",
    "    for line in fid:\n",
    "        state, bounds = line.strip().split()\n",
    "        x, y, z = bounds.split(',')\n",
    "        xtup = get_tup(x)\n",
    "        ytup = get_tup(y)\n",
    "        ztup = get_tup(z)\n",
    "        if limit is not None:\n",
    "            # Ignore anything outside of +/-limit\n",
    "            if np.any(np.array(xtup) < -limit) or np.any(np.array(xtup) > limit):\n",
    "                continue\n",
    "            if np.any(np.array(ytup) < -limit) or np.any(np.array(ytup) > limit):\n",
    "                continue\n",
    "            if np.any(np.array(ztup) < -limit) or np.any(np.array(ztup) > limit):\n",
    "                continue\n",
    "        boundlist.append([state, xtup, ytup, ztup])\n",
    "#boundlist"
   ]
  },
  {
   "cell_type": "code",
   "execution_count": null,
   "metadata": {
    "ExecuteTime": {
     "start_time": "2021-12-22T19:13:05.267Z"
    }
   },
   "outputs": [
    {
     "name": "stdout",
     "output_type": "stream",
     "text": [
      "1/22...2/22...3/22...4/22...5/22...6/22...7/22..."
     ]
    }
   ],
   "source": [
    "# Represent N-dimensional data as dictionary of keys\n",
    "# If key does not exist in dictionary, assume value there is False\n",
    "# If key does exists, then we can get it's value directly\n",
    "# We can also consider \"turning off\" by deleting the key from the dictionary\n",
    "\n",
    "def get_keys(xtup, ytup, ztup):\n",
    "    # From supplied x/y/z low to high tuples,\n",
    "    # generate out all x,y,z tuples for the cuboid\n",
    "    ii = itertools.product(range(xtup[0], xtup[1] + 1),\n",
    "                           range(ytup[0], ytup[1] + 1),\n",
    "                           range(ztup[0], ztup[1] + 1))\n",
    "    return set(ii)\n",
    "\n",
    "# Initialize reactor as empty set\n",
    "reactor = set()\n",
    "niters = len(boundlist)\n",
    "i = 1\n",
    "for state, xb, yb, zb in boundlist:\n",
    "    print('{}/{}...'.format(i, niters), end='')\n",
    "    ctups = get_keys(xb, yb, zb)\n",
    "    if 'on' == state:\n",
    "        # Add keys to set\n",
    "        reactor |= ctups\n",
    "    else:\n",
    "        # Remove keys from set\n",
    "        reactor -= ctups\n",
    "    i+=1\n",
    "    \n",
    "oncubes = len(reactor)\n",
    "Markdown(\"The number of 'on' cubes is **{}**\".format(oncubes))"
   ]
  },
  {
   "cell_type": "code",
   "execution_count": 5,
   "metadata": {
    "ExecuteTime": {
     "end_time": "2021-12-22T19:07:53.120612Z",
     "start_time": "2021-12-22T19:07:53.073735Z"
    }
   },
   "outputs": [
    {
     "name": "stdout",
     "output_type": "stream",
     "text": [
      "1/60...2/60...3/60...4/60...5/60...6/60...7/60...8/60...9/60...10/60...11/60...12/60...13/60...14/60...15/60...16/60...17/60...18/60...19/60...20/60...21/60...22/60...23/60...24/60...25/60...26/60...27/60...28/60...29/60...30/60...31/60...32/60...33/60...34/60...35/60...36/60...37/60...38/60...39/60...40/60...41/60...42/60...43/60...44/60...45/60...46/60...47/60...48/60...49/60...50/60...51/60...52/60...53/60...54/60...55/60...56/60...57/60...58/60...59/60...60/60..."
     ]
    },
    {
     "data": {
      "text/plain": [
       "'\\n# Initialize reactor as empty dictionary\\nreactor = dict()\\n\\nniters = len(boundlist)\\ni = 1\\nfor state, xb, yb, zb in boundlist:\\n    print(\\'{}/{}...\\'.format(i, niters), end=\\'\\')\\n    ctups = get_keys(xb, yb, zb)\\n    if \\'on\\' == state:\\n        # Turn on all keys\\n        for tup in ctups:\\n            reactor[tup] = 1\\n    if \\'off\\' == state:\\n        # Delete any matching keys that are \"on\"\\n        keykill = ctups & reactor.keys()\\n        for tup in keykill:\\n            reactor.pop(tup)\\n    i += 1\\n\\noncubes = sum(reactor.values())\\n'"
      ]
     },
     "execution_count": 5,
     "metadata": {},
     "output_type": "execute_result"
    }
   ],
   "source": [
    "'''\n",
    "# Initialize reactor as empty dictionary\n",
    "reactor = dict()\n",
    "\n",
    "niters = len(boundlist)\n",
    "i = 1\n",
    "for state, xb, yb, zb in boundlist:\n",
    "    print('{}/{}...'.format(i, niters), end='')\n",
    "    ctups = get_keys(xb, yb, zb)\n",
    "    if 'on' == state:\n",
    "        # Turn on all keys\n",
    "        for tup in ctups:\n",
    "            reactor[tup] = 1\n",
    "    if 'off' == state:\n",
    "        # Delete any matching keys that are \"on\"\n",
    "        keykill = ctups & reactor.keys()\n",
    "        for tup in keykill:\n",
    "            reactor.pop(tup)\n",
    "    i += 1\n",
    "\n",
    "oncubes = sum(reactor.values())\n",
    "'''\n",
    "#Markdown(\"The number of 'on' cubes is **{}**\".format(oncubes))"
   ]
  },
  {
   "cell_type": "code",
   "execution_count": 1,
   "metadata": {
    "ExecuteTime": {
     "end_time": "2021-12-22T19:47:00.948221Z",
     "start_time": "2021-12-22T19:47:00.932591Z"
    }
   },
   "outputs": [],
   "source": [
    "# Just indexing only the on cubes is too much memory/overhead\n",
    "# Probably need to represent only cuboid boundaries to be broken\n",
    "# apart logically into sub-cuboids as needed. Then the volume of\n",
    "# the remaining cuboid boundaries will be the answer\n",
    "\n",
    "# Should be straightforward to solve with a constructive solid geometry\n",
    "# library or openscad"
   ]
  },
  {
   "cell_type": "code",
   "execution_count": null,
   "metadata": {},
   "outputs": [],
   "source": []
  }
 ],
 "metadata": {
  "kernelspec": {
   "display_name": "Python 3",
   "language": "python",
   "name": "python3"
  },
  "language_info": {
   "codemirror_mode": {
    "name": "ipython",
    "version": 3
   },
   "file_extension": ".py",
   "mimetype": "text/x-python",
   "name": "python",
   "nbconvert_exporter": "python",
   "pygments_lexer": "ipython3",
   "version": "3.6.12"
  },
  "toc": {
   "base_numbering": 1,
   "nav_menu": {},
   "number_sections": true,
   "sideBar": true,
   "skip_h1_title": false,
   "title_cell": "Table of Contents",
   "title_sidebar": "Contents",
   "toc_cell": false,
   "toc_position": {},
   "toc_section_display": true,
   "toc_window_display": false
  }
 },
 "nbformat": 4,
 "nbformat_minor": 4
}
