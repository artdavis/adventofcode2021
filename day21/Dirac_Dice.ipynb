{
 "cells": [
  {
   "cell_type": "markdown",
   "metadata": {},
   "source": [
    "# Day 21: Dirac Dice\n",
    "\n",
    "https://adventofcode.com/2021/day/21\n",
    "\n",
    "## Part 1\n",
    "\n",
    "There's not much to do as you slowly descend to the bottom of the ocean. The submarine computer challenges you to a nice game of Dirac Dice.\n",
    "\n",
    "This game consists of a single die, two pawns, and a game board with a circular track containing ten spaces marked 1 through 10 clockwise. Each player's starting space is chosen randomly (your puzzle input). Player 1 goes first.\n",
    "\n",
    "Players take turns moving. On each player's turn, the player rolls the die three times and adds up the results. Then, the player moves their pawn that many times forward around the track (that is, moving clockwise on spaces in order of increasing value, wrapping back around to 1 after 10). So, if a player is on space 7 and they roll 2, 2, and 1, they would move forward 5 times, to spaces 8, 9, 10, 1, and finally stopping on 2.\n",
    "\n",
    "After each player moves, they increase their score by the value of the space their pawn stopped on. Players' scores start at 0. So, if the first player starts on space 7 and rolls a total of 5, they would stop on space 2 and add 2 to their score (for a total score of 2). The game immediately ends as a win for any player whose score reaches at least 1000.\n",
    "\n",
    "Since the first game is a practice game, the submarine opens a compartment labeled deterministic dice and a 100-sided die falls out. This die always rolls 1 first, then 2, then 3, and so on up to 100, after which it starts over at 1 again. Play using this die.\n",
    "\n",
    "For example, given these starting positions:\n",
    "```\n",
    "Player 1 starting position: 4\n",
    "Player 2 starting position: 8\n",
    "```\n",
    "This is how the game would go:\n",
    "```\n",
    "    Player 1 rolls 1+2+3 and moves to space 10 for a total score of 10.\n",
    "    Player 2 rolls 4+5+6 and moves to space 3 for a total score of 3.\n",
    "    Player 1 rolls 7+8+9 and moves to space 4 for a total score of 14.\n",
    "    Player 2 rolls 10+11+12 and moves to space 6 for a total score of 9.\n",
    "    Player 1 rolls 13+14+15 and moves to space 6 for a total score of 20.\n",
    "    Player 2 rolls 16+17+18 and moves to space 7 for a total score of 16.\n",
    "    Player 1 rolls 19+20+21 and moves to space 6 for a total score of 26.\n",
    "    Player 2 rolls 22+23+24 and moves to space 6 for a total score of 22.\n",
    "```\n",
    "...after many turns...\n",
    "```\n",
    "    Player 2 rolls 82+83+84 and moves to space 6 for a total score of 742.\n",
    "    Player 1 rolls 85+86+87 and moves to space 4 for a total score of 990.\n",
    "    Player 2 rolls 88+89+90 and moves to space 3 for a total score of 745.\n",
    "    Player 1 rolls 91+92+93 and moves to space 10 for a final score, 1000.\n",
    "```\n",
    "Since player 1 has at least 1000 points, player 1 wins and the game ends. At this point, the losing player had 745 points and the die had been rolled a total of 993 times; 745 * 993 = 739785.\n",
    "\n",
    "Play a practice game using the deterministic 100-sided die. The moment either player wins, **what do you get if you multiply the score of the losing player by the number of times the die was rolled during the game?**"
   ]
  },
  {
   "cell_type": "code",
   "execution_count": 1,
   "metadata": {
    "ExecuteTime": {
     "end_time": "2021-12-21T13:22:54.590052Z",
     "start_time": "2021-12-21T13:22:54.574427Z"
    }
   },
   "outputs": [],
   "source": [
    "from IPython.display import Markdown\n",
    "import itertools"
   ]
  },
  {
   "cell_type": "code",
   "execution_count": 2,
   "metadata": {
    "ExecuteTime": {
     "end_time": "2021-12-21T13:22:54.627839Z",
     "start_time": "2021-12-21T13:22:54.590052Z"
    }
   },
   "outputs": [],
   "source": [
    "#infile = 'test_input.txt'\n",
    "infile = 'input.txt'\n",
    "\n",
    "with open(infile, 'r') as fid:\n",
    "    p1start = int(fid.readline().strip().split()[-1])\n",
    "    p2start = int(fid.readline().strip().split()[-1])\n",
    "#p1start, p2start"
   ]
  },
  {
   "cell_type": "code",
   "execution_count": 3,
   "metadata": {
    "ExecuteTime": {
     "end_time": "2021-12-21T13:22:54.659092Z",
     "start_time": "2021-12-21T13:22:54.627839Z"
    }
   },
   "outputs": [],
   "source": [
    "die = itertools.cycle(range(1, 101))\n",
    "turns = itertools.cycle([1, 2])\n",
    "p1score = 0\n",
    "p2score = 0\n",
    "p1pos = p1start\n",
    "p2pos = p2start\n",
    "\n",
    "nrolls = 0\n",
    "while p1score < 1000 and p2score < 1000:\n",
    "#for i in range(10):\n",
    "    turn = next(turns)\n",
    "    roll = [next(die), next(die), next(die)]\n",
    "    nrolls += 3 # Count die rolls\n",
    "    rollsum = sum(roll)\n",
    "    if 1 == turn:\n",
    "        # Player 1's turn\n",
    "        p1pos = (p1pos - 1 + rollsum) % 10 + 1\n",
    "        p1score += p1pos\n",
    "        #print(\"{}: Player 1 rolls {} and moves to space {} for score: {}\".format(nrolls, roll, p1pos, p1score))\n",
    "    else:\n",
    "        # Player 2's turn\n",
    "        p2pos = (p2pos - 1 + rollsum) % 10 + 1\n",
    "        p2score += p2pos\n",
    "        #print(\"{}: Player 2 rolls {} and moves to space {} for score: {}\".format(nrolls, roll, p2pos, p2score))"
   ]
  },
  {
   "cell_type": "code",
   "execution_count": 4,
   "metadata": {
    "ExecuteTime": {
     "end_time": "2021-12-21T13:22:54.705964Z",
     "start_time": "2021-12-21T13:22:54.659092Z"
    }
   },
   "outputs": [
    {
     "data": {
      "text/markdown": [
       "Number of rolls times losing scoree: **925605**"
      ],
      "text/plain": [
       "<IPython.core.display.Markdown object>"
      ]
     },
     "execution_count": 4,
     "metadata": {},
     "output_type": "execute_result"
    }
   ],
   "source": [
    "lose_score = min(p1score, p2score)\n",
    "Markdown(\"Number of rolls times losing scoree: **{}**\".format(nrolls * lose_score))"
   ]
  },
  {
   "cell_type": "markdown",
   "metadata": {},
   "source": [
    "## Part Two\n",
    "\n",
    "Now that you're warmed up, it's time to play the real game.\n",
    "\n",
    "A second compartment opens, this time labeled Dirac dice. Out of it falls a single three-sided die.\n",
    "\n",
    "As you experiment with the die, you feel a little strange. An informational brochure in the compartment explains that this is a quantum die: when you roll it, the universe splits into multiple copies, one copy for each possible outcome of the die. In this case, rolling the die always splits the universe into three copies: one where the outcome of the roll was 1, one where it was 2, and one where it was 3.\n",
    "\n",
    "The game is played the same as before, although to prevent things from getting too far out of hand, the game now ends when either player's score reaches at least 21.\n",
    "\n",
    "Using the same starting positions as in the example above, player 1 wins in 444356092776315 universes, while player 2 merely wins in 341960390180808 universes.\n",
    "\n",
    "Using your given starting positions, determine every possible outcome. Find the player that wins in more universes; in how many universes does that player win?"
   ]
  },
  {
   "cell_type": "code",
   "execution_count": null,
   "metadata": {},
   "outputs": [],
   "source": []
  }
 ],
 "metadata": {
  "kernelspec": {
   "display_name": "Python 3",
   "language": "python",
   "name": "python3"
  },
  "language_info": {
   "codemirror_mode": {
    "name": "ipython",
    "version": 3
   },
   "file_extension": ".py",
   "mimetype": "text/x-python",
   "name": "python",
   "nbconvert_exporter": "python",
   "pygments_lexer": "ipython3",
   "version": "3.6.12"
  },
  "toc": {
   "base_numbering": 1,
   "nav_menu": {},
   "number_sections": true,
   "sideBar": true,
   "skip_h1_title": false,
   "title_cell": "Table of Contents",
   "title_sidebar": "Contents",
   "toc_cell": false,
   "toc_position": {},
   "toc_section_display": true,
   "toc_window_display": false
  }
 },
 "nbformat": 4,
 "nbformat_minor": 4
}
