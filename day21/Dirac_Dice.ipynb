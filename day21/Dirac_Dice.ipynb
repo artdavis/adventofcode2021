{
 "cells": [
  {
   "cell_type": "markdown",
   "metadata": {},
   "source": [
    "# Day 21: Dirac Dice\n",
    "\n",
    "https://adventofcode.com/2021/day/21\n",
    "\n",
    "## Part 1\n",
    "\n",
    "**what do you get if you multiply the score of the losing player by the number of times the die was rolled during the game?**"
   ]
  },
  {
   "cell_type": "code",
   "execution_count": 1,
   "metadata": {
    "ExecuteTime": {
     "end_time": "2021-12-21T13:22:54.590052Z",
     "start_time": "2021-12-21T13:22:54.574427Z"
    }
   },
   "outputs": [],
   "source": [
    "from IPython.display import Markdown\n",
    "import itertools"
   ]
  },
  {
   "cell_type": "code",
   "execution_count": 2,
   "metadata": {
    "ExecuteTime": {
     "end_time": "2021-12-21T13:22:54.627839Z",
     "start_time": "2021-12-21T13:22:54.590052Z"
    }
   },
   "outputs": [],
   "source": [
    "#infile = 'test_input.txt'\n",
    "infile = 'input.txt'\n",
    "\n",
    "with open(infile, 'r') as fid:\n",
    "    p1start = int(fid.readline().strip().split()[-1])\n",
    "    p2start = int(fid.readline().strip().split()[-1])\n",
    "#p1start, p2start"
   ]
  },
  {
   "cell_type": "code",
   "execution_count": 3,
   "metadata": {
    "ExecuteTime": {
     "end_time": "2021-12-21T13:22:54.659092Z",
     "start_time": "2021-12-21T13:22:54.627839Z"
    }
   },
   "outputs": [],
   "source": [
    "die = itertools.cycle(range(1, 101))\n",
    "turns = itertools.cycle([1, 2])\n",
    "p1score = 0\n",
    "p2score = 0\n",
    "p1pos = p1start\n",
    "p2pos = p2start\n",
    "\n",
    "nrolls = 0\n",
    "while p1score < 1000 and p2score < 1000:\n",
    "#for i in range(10):\n",
    "    turn = next(turns)\n",
    "    roll = [next(die), next(die), next(die)]\n",
    "    nrolls += 3 # Count die rolls\n",
    "    rollsum = sum(roll)\n",
    "    if 1 == turn:\n",
    "        # Player 1's turn\n",
    "        p1pos = (p1pos - 1 + rollsum) % 10 + 1\n",
    "        p1score += p1pos\n",
    "        #print(\"{}: Player 1 rolls {} and moves to space {} for score: {}\".format(nrolls, roll, p1pos, p1score))\n",
    "    else:\n",
    "        # Player 2's turn\n",
    "        p2pos = (p2pos - 1 + rollsum) % 10 + 1\n",
    "        p2score += p2pos\n",
    "        #print(\"{}: Player 2 rolls {} and moves to space {} for score: {}\".format(nrolls, roll, p2pos, p2score))"
   ]
  },
  {
   "cell_type": "code",
   "execution_count": 4,
   "metadata": {
    "ExecuteTime": {
     "end_time": "2021-12-21T13:22:54.705964Z",
     "start_time": "2021-12-21T13:22:54.659092Z"
    }
   },
   "outputs": [
    {
     "data": {
      "text/markdown": [
       "Number of rolls times losing scoree: **925605**"
      ],
      "text/plain": [
       "<IPython.core.display.Markdown object>"
      ]
     },
     "execution_count": 4,
     "metadata": {},
     "output_type": "execute_result"
    }
   ],
   "source": [
    "lose_score = min(p1score, p2score)\n",
    "Markdown(\"Number of rolls times losing scoree: **{}**\".format(nrolls * lose_score))"
   ]
  },
  {
   "cell_type": "markdown",
   "metadata": {},
   "source": [
    "## Part Two\n",
    "\n",
    "**Find the player that wins in more universes; in how many universes does that player win?**"
   ]
  },
  {
   "cell_type": "code",
   "execution_count": null,
   "metadata": {},
   "outputs": [],
   "source": []
  }
 ],
 "metadata": {
  "kernelspec": {
   "display_name": "Python 3",
   "language": "python",
   "name": "python3"
  },
  "language_info": {
   "codemirror_mode": {
    "name": "ipython",
    "version": 3
   },
   "file_extension": ".py",
   "mimetype": "text/x-python",
   "name": "python",
   "nbconvert_exporter": "python",
   "pygments_lexer": "ipython3",
   "version": "3.6.12"
  },
  "toc": {
   "base_numbering": 1,
   "nav_menu": {},
   "number_sections": true,
   "sideBar": true,
   "skip_h1_title": false,
   "title_cell": "Table of Contents",
   "title_sidebar": "Contents",
   "toc_cell": false,
   "toc_position": {},
   "toc_section_display": true,
   "toc_window_display": false
  }
 },
 "nbformat": 4,
 "nbformat_minor": 4
}
