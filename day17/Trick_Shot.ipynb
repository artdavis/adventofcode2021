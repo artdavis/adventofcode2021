{
 "cells": [
  {
   "cell_type": "markdown",
   "metadata": {},
   "source": [
    "# Day 17: Trick Shot\n",
    "\n",
    "https://adventofcode.com/2021/day/17\n",
    "\n",
    "## Part 1\n",
    "\n",
    "You finally decode the Elves' message. HI, the message says. You continue searching for the sleigh keys.\n",
    "\n",
    "Ahead of you is what appears to be a large ocean trench. Could the keys have fallen into it? You'd better send a probe to investigate.\n",
    "\n",
    "The probe launcher on your submarine can fire the probe with any integer velocity in the x (forward) and y (upward, or downward if negative) directions. For example, an initial x,y velocity like 0,10 would fire the probe straight up, while an initial velocity like 10,-1 would fire the probe forward at a slight downward angle.\n",
    "\n",
    "The probe's x,y position starts at 0,0. Then, it will follow some trajectory by moving in steps. On each step, these changes occur in the following order:\n",
    "```\n",
    "    The probe's x position increases by its x velocity.\n",
    "    The probe's y position increases by its y velocity.\n",
    "    Due to drag, the probe's x velocity changes by 1 toward the value 0; that is, it decreases by 1 if it is greater than 0, increases by 1 if it is less than 0, or does not change if it is already 0.\n",
    "    Due to gravity, the probe's y velocity decreases by 1.\n",
    "```\n",
    "For the probe to successfully make it into the trench, the probe must be on some trajectory that causes it to be within a target area after any step. The submarine computer has already calculated this target area (your puzzle input). For example:\n",
    "\n",
    "target area: x=20..30, y=-10..-5\n",
    "\n",
    "This target area means that you need to find initial x,y velocity values such that after any step, the probe's x position is at least 20 and at most 30, and the probe's y position is at least -10 and at most -5.\n",
    "\n",
    "Given this target area, one initial velocity that causes the probe to be within the target area after any step is 7,2:\n",
    "```\n",
    ".............#....#............\n",
    ".......#..............#........\n",
    "...............................\n",
    "S........................#.....\n",
    "...............................\n",
    "...............................\n",
    "...........................#...\n",
    "...............................\n",
    "....................TTTTTTTTTTT\n",
    "....................TTTTTTTTTTT\n",
    "....................TTTTTTTT#TT\n",
    "....................TTTTTTTTTTT\n",
    "....................TTTTTTTTTTT\n",
    "....................TTTTTTTTTTT\n",
    "```\n",
    "In this diagram, S is the probe's initial position, 0,0. The x coordinate increases to the right, and the y coordinate increases upward. In the bottom right, positions that are within the target area are shown as T. After each step (until the target area is reached), the position of the probe is marked with #. (The bottom-right # is both a position the probe reaches and a position in the target area.)\n",
    "\n",
    "Another initial velocity that causes the probe to be within the target area after any step is 6,3:\n",
    "```\n",
    "...............#..#............\n",
    "...........#........#..........\n",
    "...............................\n",
    "......#..............#.........\n",
    "...............................\n",
    "...............................\n",
    "S....................#.........\n",
    "...............................\n",
    "...............................\n",
    "...............................\n",
    ".....................#.........\n",
    "....................TTTTTTTTTTT\n",
    "....................TTTTTTTTTTT\n",
    "....................TTTTTTTTTTT\n",
    "....................TTTTTTTTTTT\n",
    "....................T#TTTTTTTTT\n",
    "....................TTTTTTTTTTT\n",
    "```\n",
    "Another one is 9,0:\n",
    "```\n",
    "S........#.....................\n",
    ".................#.............\n",
    "...............................\n",
    "........................#......\n",
    "...............................\n",
    "....................TTTTTTTTTTT\n",
    "....................TTTTTTTTTT#\n",
    "....................TTTTTTTTTTT\n",
    "....................TTTTTTTTTTT\n",
    "....................TTTTTTTTTTT\n",
    "....................TTTTTTTTTTT\n",
    "```\n",
    "One initial velocity that doesn't cause the probe to be within the target area after any step is 17,-4:\n",
    "```\n",
    "S..............................................................\n",
    "...............................................................\n",
    "...............................................................\n",
    "...............................................................\n",
    ".................#.............................................\n",
    "....................TTTTTTTTTTT................................\n",
    "....................TTTTTTTTTTT................................\n",
    "....................TTTTTTTTTTT................................\n",
    "....................TTTTTTTTTTT................................\n",
    "....................TTTTTTTTTTT..#.............................\n",
    "....................TTTTTTTTTTT................................\n",
    "...............................................................\n",
    "...............................................................\n",
    "...............................................................\n",
    "...............................................................\n",
    "................................................#..............\n",
    "...............................................................\n",
    "...............................................................\n",
    "...............................................................\n",
    "...............................................................\n",
    "...............................................................\n",
    "...............................................................\n",
    "..............................................................#\n",
    "```\n",
    "The probe appears to pass through the target area, but is never within it after any step. Instead, it continues down and to the right - only the first few steps are shown.\n",
    "\n",
    "If you're going to fire a highly scientific probe out of a super cool probe launcher, you might as well do it with style. How high can you make the probe go while still reaching the target area?\n",
    "\n",
    "In the above example, using an initial velocity of 6,9 is the best you can do, causing the probe to reach a maximum y position of 45. (Any higher initial y velocity causes the probe to overshoot the target area entirely.)\n",
    "\n",
    "Find the initial velocity that causes the probe to reach the highest y position and still eventually be within the target area after any step. What is the highest y position it reaches on this trajectory?"
   ]
  },
  {
   "cell_type": "code",
   "execution_count": 1,
   "metadata": {
    "ExecuteTime": {
     "end_time": "2021-12-17T17:46:27.834396Z",
     "start_time": "2021-12-17T17:46:27.818770Z"
    }
   },
   "outputs": [],
   "source": [
    "from IPython.display import Markdown"
   ]
  },
  {
   "cell_type": "code",
   "execution_count": 2,
   "metadata": {
    "ExecuteTime": {
     "end_time": "2021-12-17T17:46:27.881269Z",
     "start_time": "2021-12-17T17:46:27.834396Z"
    }
   },
   "outputs": [],
   "source": [
    "#infile = 'test_input.txt'\n",
    "infile = 'input.txt'\n",
    "\n",
    "with open(infile, 'r') as fid:\n",
    "    line = fid.readline().strip()\n",
    "\n",
    "xrange, yrange = line[line.find('x='):].split(',')"
   ]
  },
  {
   "cell_type": "code",
   "execution_count": 3,
   "metadata": {
    "ExecuteTime": {
     "end_time": "2021-12-17T17:46:27.934695Z",
     "start_time": "2021-12-17T17:46:27.881269Z"
    }
   },
   "outputs": [
    {
     "data": {
      "text/plain": [
       "([248, 285], [-85, -56])"
      ]
     },
     "execution_count": 3,
     "metadata": {},
     "output_type": "execute_result"
    }
   ],
   "source": [
    "xrange = [int(x) for x in xrange.lstrip('x=').split('..')]\n",
    "yrange = [int(y) for y in yrange.strip().lstrip('y=').split('..')]\n",
    "xrange, yrange"
   ]
  },
  {
   "cell_type": "code",
   "execution_count": 4,
   "metadata": {
    "ExecuteTime": {
     "end_time": "2021-12-17T17:46:27.965948Z",
     "start_time": "2021-12-17T17:46:27.934695Z"
    }
   },
   "outputs": [],
   "source": [
    "def calc_positions(vx, vy, xrange=xrange, yrange=yrange):\n",
    "    \"\"\"\n",
    "    Return list of trajectory positions starting from (0,0)\n",
    "    until the x position either exceeds max(xrange) or the\n",
    "    y position drops below min(yrange)\n",
    "    \n",
    "    If trajectory will necessarily come up short, return None\n",
    "    \"\"\"\n",
    "    pos = (0, 0)\n",
    "    poslist = [pos]\n",
    "    while True:\n",
    "        # The probe's x position increases by its x velocity.\n",
    "        xpos = pos[0] + vx\n",
    "        # The probe's y position increases by its y velocity.\n",
    "        ypos = pos[1] + vy\n",
    "        # Due to drag, the probe's x velocity changes by 1 toward\n",
    "        # the value 0; that is, it decreases by 1 if it is greater than 0,\n",
    "        # increases by 1 if it is less than 0, or does not change if it is already 0.\n",
    "        if 0 != vx:\n",
    "            vx = (abs(vx) - 1) * (abs(vx) // vx)\n",
    "        # Due to gravity, the probe's y velocity decreases by 1.\n",
    "        vy -= 1\n",
    "        pos = (xpos, ypos)\n",
    "        poslist.append(pos)\n",
    "        # Check for out of bounds\n",
    "        if xpos > max(xrange):\n",
    "            return poslist\n",
    "        if ypos < min(yrange):\n",
    "            return poslist\n",
    "        # Check that there's any chance probe can still hit target...\n",
    "        # If it has zero velocity and xpos is outside of xrange\n",
    "        # then it can never get there\n",
    "        if xpos < min(xrange) and xpos > max(xrange) and 0 == vx:\n",
    "            return None\n",
    "        # Keep on calculating trajectory\n",
    "        #print(\"({},{});\".format(xpos, ypos), end='')\n"
   ]
  },
  {
   "cell_type": "code",
   "execution_count": 62,
   "metadata": {
    "ExecuteTime": {
     "end_time": "2021-12-17T18:07:02.898578Z",
     "start_time": "2021-12-17T18:07:02.867329Z"
    }
   },
   "outputs": [],
   "source": [
    "def check_coordhit(xpos, ypos, xrange=xrange, yrange=yrange):\n",
    "    \"\"\"\n",
    "    Return True of the supplied xpos, ypos hit target\n",
    "    window, otherwise False.\n",
    "    \"\"\"\n",
    "    if min(xrange) <= xpos and max(xrange) >= xpos:\n",
    "        xwindow = True\n",
    "    else:\n",
    "        xwindow = False\n",
    "    if min(yrange) <= ypos and max(yrange) >= ypos:\n",
    "        ywindow = True\n",
    "    else:\n",
    "        ywindow = False\n",
    "    if xwindow and ywindow:\n",
    "        return True\n",
    "    else:\n",
    "        return False\n",
    "\n",
    "def calc_hit(vx, vy, xrange=xrange, yrange=yrange):\n",
    "    \"\"\"\n",
    "    Return a dictionary for the probe results:\n",
    "    {'hit': (xpos, ypos), 'ymax': ymax}\n",
    "    If probe misses, value for 'hit' key will be None\n",
    "    but if it hits, will return the first (xpos, ypos)\n",
    "    in the target window\n",
    "    Value for 'ymax' will be max ypos achieved\n",
    "    \"\"\"\n",
    "    xpos = 0\n",
    "    ypos = 0\n",
    "    ymax = ypos\n",
    "    while True:\n",
    "        # The probe's x position increases by its x velocity.\n",
    "        xpos += vx\n",
    "        # The probe's y position increases by its y velocity.\n",
    "        ypos += vy\n",
    "        if ypos > ymax:\n",
    "            ymax = ypos\n",
    "        # Due to drag, the probe's x velocity changes by 1 toward\n",
    "        # the value 0; that is, it decreases by 1 if it is greater than 0,\n",
    "        # increases by 1 if it is less than 0, or does not change if it is already 0.\n",
    "        if 0 != vx:\n",
    "            vx = (abs(vx) - 1) * (abs(vx) // vx)\n",
    "        # Due to gravity, the probe's y velocity decreases by 1.\n",
    "        vy -= 1\n",
    "        # Check for out of bounds\n",
    "        if xpos > max(xrange):\n",
    "            return {'hit': False, 'xpos': xpos, 'ypos': ypos, 'ymax': ymax}\n",
    "        if ypos < min(yrange):\n",
    "            return {'hit': False, 'xpos': xpos, 'ypos': ypos, 'ymax': ymax}\n",
    "        # Check that there's any chance probe can still hit target...\n",
    "        # If it has zero velocity and xpos is outside of xrange\n",
    "        # then it can never get there\n",
    "        ######if xpos < min(xrange) and xpos > max(xrange) and 0 == vx:\n",
    "        ######    # No chance, probe has stalled outside of x-window\n",
    "        ######    return {'hit': False, 'xpos': xpos, 'ypos': ypos, 'ymax': ymax}\n",
    "        # Still here? Check if probe hit target\n",
    "        if check_coordhit(xpos, ypos):\n",
    "            # Hit!\n",
    "            return {'hit': True, 'xpos': xpos, 'ypos': ypos, 'ymax': ymax}\n",
    "        else:\n",
    "            # No hit this time, keep trying\n",
    "            pass"
   ]
  },
  {
   "cell_type": "code",
   "execution_count": 63,
   "metadata": {
    "ExecuteTime": {
     "end_time": "2021-12-17T18:07:03.531553Z",
     "start_time": "2021-12-17T18:07:03.515925Z"
    }
   },
   "outputs": [],
   "source": [
    "# Should hit at (28, -7):\n",
    "#calc_positions(7, 2)\n",
    "#calc_hit(7, 2)\n",
    "\n",
    "# Should hit at (21, -9):\n",
    "#calc_positions(6, 3)\n",
    "#calc_hit(6, 3)\n",
    "\n",
    "# Should hit at (30, -6):\n",
    "#calc_positions(9, 0)\n",
    "#calc_hit(9, 0)\n",
    "\n",
    "# Should miss\n",
    "#calc_positions(17, -4)\n",
    "#calc_hit(17, -4)\n",
    "\n",
    "# Should hit... achieve max y position\n",
    "# of 45 for test input\n",
    "#calc_positions(6, 9)\n",
    "#calc_hit(6, 9)"
   ]
  },
  {
   "cell_type": "code",
   "execution_count": 64,
   "metadata": {
    "ExecuteTime": {
     "end_time": "2021-12-17T18:07:03.932309Z",
     "start_time": "2021-12-17T18:07:03.916685Z"
    }
   },
   "outputs": [],
   "source": [
    "def check_hit(poslist, xrange=xrange, yrange=yrange):\n",
    "    \"\"\"\n",
    "    Check whether any of the positions in poslist hit\n",
    "    the target in xrange\n",
    "    \"\"\"\n",
    "    for x, y in poslist:\n",
    "        if min(xrange) <= x and max(xrange) >= x:\n",
    "            xwindow = True\n",
    "        else:\n",
    "            xwindow = False\n",
    "        if min(yrange) <= y and max(yrange) >= y:\n",
    "            ywindow = True\n",
    "        else:\n",
    "            ywindow = False\n",
    "        if xwindow and ywindow:\n",
    "            return x, y\n",
    "    return False"
   ]
  },
  {
   "cell_type": "code",
   "execution_count": 65,
   "metadata": {
    "ExecuteTime": {
     "end_time": "2021-12-17T18:07:07.205194Z",
     "start_time": "2021-12-17T18:07:07.176876Z"
    }
   },
   "outputs": [],
   "source": [
    "#check_hit(calc_positions(7,2))\n",
    "#check_hit(calc_positions(6,3))\n",
    "#check_hit(calc_positions(9,0))\n",
    "#check_hit(calc_positions(17,-4))"
   ]
  },
  {
   "cell_type": "code",
   "execution_count": 66,
   "metadata": {
    "ExecuteTime": {
     "end_time": "2021-12-17T18:07:07.564736Z",
     "start_time": "2021-12-17T18:07:07.549102Z"
    }
   },
   "outputs": [],
   "source": [
    "def get_maxy(poslist):\n",
    "    \"\"\"\n",
    "    From supplied position list, return the max\n",
    "    trajectory height\n",
    "    \"\"\"\n",
    "    maxy = poslist[0][1]\n",
    "    y0 = maxy\n",
    "    for pos in poslist:\n",
    "        if pos[1] < y0:\n",
    "            # Object is dropping and we're done\n",
    "            break\n",
    "        if pos[1] > maxy:\n",
    "            maxy = pos[1]\n",
    "            y0 = maxy\n",
    "    return maxy"
   ]
  },
  {
   "cell_type": "code",
   "execution_count": 67,
   "metadata": {
    "ExecuteTime": {
     "end_time": "2021-12-17T18:07:07.950246Z",
     "start_time": "2021-12-17T18:07:07.934621Z"
    }
   },
   "outputs": [
    {
     "data": {
      "text/plain": [
       "6"
      ]
     },
     "execution_count": 67,
     "metadata": {},
     "output_type": "execute_result"
    }
   ],
   "source": [
    "#get_maxy(calc_positions(7, 2))\n",
    "get_maxy(calc_positions(6, 3))\n",
    "#get_maxy(calc_positions(9, 0))\n",
    "#get_maxy(calc_positions(17, -4))\n",
    "#get_maxy(calc_positions(6, 9))"
   ]
  },
  {
   "cell_type": "code",
   "execution_count": 68,
   "metadata": {
    "ExecuteTime": {
     "end_time": "2021-12-17T18:07:29.563307Z",
     "start_time": "2021-12-17T18:07:28.737411Z"
    }
   },
   "outputs": [
    {
     "data": {
      "text/plain": [
       "861"
      ]
     },
     "execution_count": 68,
     "metadata": {},
     "output_type": "execute_result"
    }
   ],
   "source": [
    "# Loop while incrementing y value first, xvalue second.\n",
    "# As soon as x value stops\n",
    "# increasing and is less than min(xrange) stop, this cannot be\n",
    "# a solution\n",
    "\n",
    "# For a given vy, increment xv until target is hit;\n",
    "# continue until target is no longer hit and return\n",
    "# the maxy for all the hits\n",
    "# If target is not hit before xv goes to zero, terminate\n",
    "\n",
    "#vy = 9\n",
    "#vy = -20\n",
    "#vx = 1\n",
    "\n",
    "def get_ymax_at_vy(vy, xrange=xrange, yrange=yrange):\n",
    "    \"\"\"\n",
    "    For a supplied vy, try all plausible vx's and return\n",
    "    the greatest possible ymax\n",
    "    \"\"\"\n",
    "    vx = 1\n",
    "    inbounds = False\n",
    "    leftbounds = False\n",
    "    ymax = max(yrange)\n",
    "    overshot = None\n",
    "    overshotdelta0 = None\n",
    "    overshotdelta = 0\n",
    "    undershot = None\n",
    "    maxovershoots = 10000\n",
    "    overshootcount = 0\n",
    "    maxundershoots = 10000\n",
    "    undershootcount = 0\n",
    "    # Need to handle case where there's NEVER a hit\n",
    "    while True:\n",
    "        # Compute hit dictionary\n",
    "        hdict = calc_hit(vx, vy)\n",
    "        if not hdict['hit']:\n",
    "            if inbounds:\n",
    "                # Previous launches were in bounds but are\n",
    "                # now out of bounds. Theres no hope of\n",
    "                # ever hitting the target by changing vx\n",
    "                ##########break\n",
    "                pass\n",
    "            # Increase vx and try again\n",
    "            vx += 1\n",
    "        else:\n",
    "            # Target was hit\n",
    "            ymax = hdict['ymax'] if hdict['ymax'] > ymax else ymax\n",
    "            vx += 1\n",
    "            # Probe targetting is now in bounds\n",
    "            inbounds = True\n",
    "            continue\n",
    "        # In case we never hit, consider just the xrange...\n",
    "        # Once the xrange boundaries are traversed then there's\n",
    "        # never a chance again to hit the target\n",
    "        if hdict['xpos'] > xrange[1]:\n",
    "            # Target is overshot\n",
    "            '''\n",
    "            if overshot is not None and hdict['xpos'] > overshot:\n",
    "                # Target has been overshot even further.\n",
    "                overshotdelta = hdict['xpos'] - overshot\n",
    "                if overshotdelta0 is None:\n",
    "                    overshotdelta0 = overshotdelta\n",
    "                elif overshotdelta > overshotdelta0:\n",
    "                    # Will never hit\n",
    "                    break\n",
    "                overshot = hdict['xpos']\n",
    "            else:\n",
    "                overshot = hdict['xpos']\n",
    "            '''\n",
    "            overshootcount += 1\n",
    "            if overshootcount >= maxovershoots:\n",
    "                break\n",
    "        if hdict['xpos'] < xrange[0]:\n",
    "            # Target is undershot\n",
    "        #    if undershot is not None and hdict['xpos'] < undershot:\n",
    "        #        # Target has been undershot in wrong dirextion.\n",
    "        #        # Will never hit\n",
    "        #        break\n",
    "        #    else:\n",
    "        #        undershot = hdict['xpos']\n",
    "            undershootcount += 1\n",
    "            if undershootcount >= maxundershoots:\n",
    "                break\n",
    "    return ymax\n",
    "\n",
    "#get_ymax_at_vy(9)\n",
    "\n",
    "def get_ymax(xrange=xrange, yrange=yrange):\n",
    "    \"\"\"\n",
    "    Return ymax highest possible probe height that will\n",
    "    still hit the target\n",
    "    \"\"\"\n",
    "    vy = 1\n",
    "    ymax = max(yrange)\n",
    "    while True:\n",
    "        ymax0 = get_ymax_at_vy(vy)\n",
    "        if ymax0 > ymax:\n",
    "            ymax = ymax0\n",
    "        else:\n",
    "            # ymax is no longer increasing and we must\n",
    "            # be done\n",
    "            return ymax\n",
    "        #if ymax0 < 0:\n",
    "        #    return ymax\n",
    "        vy += 1\n",
    "\n",
    "#yvals = {vy: get_ymax_at_vy(vy) for vy in range(20)}\n",
    "#yvals\n",
    "\n",
    "get_ymax()"
   ]
  },
  {
   "cell_type": "code",
   "execution_count": null,
   "metadata": {
    "ExecuteTime": {
     "end_time": "2021-12-17T18:05:58.244799Z",
     "start_time": "2021-12-17T18:05:12.531Z"
    }
   },
   "outputs": [],
   "source": [
    "# That's not the right answer; your answer is too low.\n",
    "# Please wait one minute before trying again.\n",
    "# (You guessed 861.)"
   ]
  },
  {
   "cell_type": "code",
   "execution_count": null,
   "metadata": {},
   "outputs": [],
   "source": []
  }
 ],
 "metadata": {
  "kernelspec": {
   "display_name": "Python 3",
   "language": "python",
   "name": "python3"
  },
  "language_info": {
   "codemirror_mode": {
    "name": "ipython",
    "version": 3
   },
   "file_extension": ".py",
   "mimetype": "text/x-python",
   "name": "python",
   "nbconvert_exporter": "python",
   "pygments_lexer": "ipython3",
   "version": "3.6.12"
  },
  "toc": {
   "base_numbering": 1,
   "nav_menu": {},
   "number_sections": true,
   "sideBar": true,
   "skip_h1_title": false,
   "title_cell": "Table of Contents",
   "title_sidebar": "Contents",
   "toc_cell": false,
   "toc_position": {},
   "toc_section_display": true,
   "toc_window_display": false
  }
 },
 "nbformat": 4,
 "nbformat_minor": 4
}
