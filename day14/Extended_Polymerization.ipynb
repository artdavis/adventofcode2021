{
 "cells": [
  {
   "cell_type": "markdown",
   "metadata": {},
   "source": [
    "# Day 14: Extended Polymerization\n",
    "\n",
    "https://adventofcode.com/2021/day/14\n",
    "\n",
    "## Part 1\n",
    "\n",
    "The incredible pressures at this depth are starting to put a strain on your submarine. The submarine has polymerization equipment that would produce suitable materials to reinforce the submarine, and the nearby volcanically-active caves should even have the necessary input elements in sufficient quantities.\n",
    "\n",
    "The submarine manual contains instructions for finding the optimal polymer formula; specifically, it offers a polymer template and a list of pair insertion rules (your puzzle input). You just need to work out what polymer would result after repeating the pair insertion process a few times.\n",
    "\n",
    "For example:\n",
    "```\n",
    "NNCB\n",
    "\n",
    "CH -> B\n",
    "HH -> N\n",
    "CB -> H\n",
    "NH -> C\n",
    "HB -> C\n",
    "HC -> B\n",
    "HN -> C\n",
    "NN -> C\n",
    "BH -> H\n",
    "NC -> B\n",
    "NB -> B\n",
    "BN -> B\n",
    "BB -> N\n",
    "BC -> B\n",
    "CC -> N\n",
    "CN -> C\n",
    "```\n",
    "The first line is the polymer template - this is the starting point of the process.\n",
    "\n",
    "The following section defines the pair insertion rules. A rule like AB -> C means that when elements A and B are immediately adjacent, element C should be inserted between them. These insertions all happen simultaneously.\n",
    "\n",
    "So, starting with the polymer template NNCB, the first step simultaneously considers all three pairs:\n",
    "```\n",
    "    The first pair (NN) matches the rule NN -> C, so element C is inserted between the first N and the second N.\n",
    "    The second pair (NC) matches the rule NC -> B, so element B is inserted between the N and the C.\n",
    "    The third pair (CB) matches the rule CB -> H, so element H is inserted between the C and the B.\n",
    "```\n",
    "Note that these pairs overlap: the second element of one pair is the first element of the next pair. Also, because all pairs are considered simultaneously, inserted elements are not considered to be part of a pair until the next step.\n",
    "\n",
    "After the first step of this process, the polymer becomes NCNBCHB.\n",
    "\n",
    "Here are the results of a few steps using the above rules:\n",
    "```\n",
    "Template:     NNCB\n",
    "After step 1: NCNBCHB\n",
    "After step 2: NBCCNBBBCBHCB\n",
    "After step 3: NBBBCNCCNBBNBNBBCHBHHBCHB\n",
    "After step 4: NBBNBNBBCCNBCNCCNBBNBBNBBBNBBNBBCBHCBHHNHCBBCBHCB\n",
    "```\n",
    "This polymer grows quickly. After step 5, it has length 97; After step 10, it has length 3073. After step 10, B occurs 1749 times, C occurs 298 times, H occurs 161 times, and N occurs 865 times; taking the quantity of the most common element (B, 1749) and subtracting the quantity of the least common element (H, 161) produces 1749 - 161 = 1588.\n",
    "\n",
    "Apply 10 steps of pair insertion to the polymer template and find the most and least common elements in the result. **What do you get if you take the quantity of the most common element and subtract the quantity of the least common element?**"
   ]
  },
  {
   "cell_type": "code",
   "execution_count": 1,
   "metadata": {
    "ExecuteTime": {
     "end_time": "2021-12-14T15:56:51.078282Z",
     "start_time": "2021-12-14T15:56:51.062657Z"
    }
   },
   "outputs": [],
   "source": [
    "from IPython.display import Markdown"
   ]
  },
  {
   "cell_type": "code",
   "execution_count": 2,
   "metadata": {
    "ExecuteTime": {
     "end_time": "2021-12-14T15:56:51.116079Z",
     "start_time": "2021-12-14T15:56:51.078282Z"
    }
   },
   "outputs": [],
   "source": [
    "#infile = 'test_input.txt'\n",
    "infile = 'input.txt'\n",
    "\n",
    "rules = dict()\n",
    "with open(infile, 'r') as fid:\n",
    "    # First line is polymer template\n",
    "    polym0 = fid.readline().strip()\n",
    "    # Ignore the next blank line\n",
    "    fid.readline()\n",
    "    # Read the pair insertion rules into a dictionary\n",
    "    for line in fid:\n",
    "        k, v = line.strip().split(' -> ')\n",
    "        rules[k] = v\n",
    "        \n",
    "#print(polym0)\n",
    "#print(rules)"
   ]
  },
  {
   "cell_type": "code",
   "execution_count": 3,
   "metadata": {
    "ExecuteTime": {
     "end_time": "2021-12-14T15:56:51.147331Z",
     "start_time": "2021-12-14T15:56:51.116079Z"
    }
   },
   "outputs": [],
   "source": [
    "def get_polym(nsteps):\n",
    "    # Initialize the polymer\n",
    "    polym = polym0\n",
    "    # String to hold resulting polymer\n",
    "    polym1 = str()\n",
    "\n",
    "    for n in range(nsteps):\n",
    "        print(\"ROUND {}...\".format(n+1))\n",
    "        for i in range(len(polym) - 1):\n",
    "            pair = polym[i:i+2]\n",
    "            #print('{} -> {}'.format(pair, rules[pair]))\n",
    "            # Append the first element and inserted element\n",
    "            polym1 += pair[0] + rules[pair]\n",
    "        # Append the last element\n",
    "        polym1 += pair[1]\n",
    "        polym1\n",
    "        # Assign the current polymer to initial polymer for the next step\n",
    "        polym = polym1\n",
    "        polym1 = str()\n",
    "        #print(\"After step {}: {}\".format(n+1, polym))\n",
    "    return polym"
   ]
  },
  {
   "cell_type": "code",
   "execution_count": 4,
   "metadata": {
    "ExecuteTime": {
     "end_time": "2021-12-14T15:56:51.200737Z",
     "start_time": "2021-12-14T15:56:51.147331Z"
    }
   },
   "outputs": [
    {
     "name": "stdout",
     "output_type": "stream",
     "text": [
      "ROUND 1...\n",
      "ROUND 2...\n",
      "ROUND 3...\n",
      "ROUND 4...\n",
      "ROUND 5...\n",
      "ROUND 6...\n",
      "ROUND 7...\n",
      "ROUND 8...\n",
      "ROUND 9...\n",
      "ROUND 10...\n"
     ]
    },
    {
     "data": {
      "text/plain": [
       "19457"
      ]
     },
     "execution_count": 4,
     "metadata": {},
     "output_type": "execute_result"
    }
   ],
   "source": [
    "polym = get_polym(10)\n",
    "len(polym)"
   ]
  },
  {
   "cell_type": "code",
   "execution_count": 5,
   "metadata": {
    "ExecuteTime": {
     "end_time": "2021-12-14T15:56:51.231989Z",
     "start_time": "2021-12-14T15:56:51.200737Z"
    }
   },
   "outputs": [
    {
     "data": {
      "text/plain": [
       "{'B', 'C', 'F', 'H', 'K', 'N', 'O', 'P', 'S', 'V'}"
      ]
     },
     "execution_count": 5,
     "metadata": {},
     "output_type": "execute_result"
    }
   ],
   "source": [
    "# Unique elements\n",
    "els = set(polym)\n",
    "els"
   ]
  },
  {
   "cell_type": "code",
   "execution_count": 6,
   "metadata": {
    "ExecuteTime": {
     "end_time": "2021-12-14T15:56:51.278866Z",
     "start_time": "2021-12-14T15:56:51.231989Z"
    }
   },
   "outputs": [
    {
     "name": "stdout",
     "output_type": "stream",
     "text": [
      "{'B': 1490, 'O': 570, 'F': 2711, 'V': 3056, 'H': 3978, 'S': 577, 'P': 2643, 'C': 972, 'K': 1378, 'N': 2082}\n"
     ]
    }
   ],
   "source": [
    "def get_ecount(polym):\n",
    "    # Get element counts from polymer string\n",
    "    # Element Counts\n",
    "    ecount = dict()\n",
    "    for e in els:\n",
    "        ecount[e] = polym.count(e)\n",
    "        #print('{} occurs {} times'.format(e, polym.count(e)))\n",
    "    return ecount\n",
    "\n",
    "ecount = get_ecount(polym)\n",
    "print(ecount)"
   ]
  },
  {
   "cell_type": "code",
   "execution_count": 7,
   "metadata": {
    "ExecuteTime": {
     "end_time": "2021-12-14T15:56:51.301036Z",
     "start_time": "2021-12-14T15:56:51.278866Z"
    }
   },
   "outputs": [],
   "source": [
    "# Most common - least common element\n",
    "elspan = max(ecount.values()) - min(ecount.values())\n",
    "#Markdown(\"Most common minus least common element quantity is **{}**\".format(elspan))"
   ]
  },
  {
   "cell_type": "markdown",
   "metadata": {},
   "source": [
    "## Part Two\n",
    "\n",
    "The resulting polymer isn't nearly strong enough to reinforce the submarine. You'll need to run more steps of the pair insertion process; a total of 40 steps should do it.\n",
    "\n",
    "In the above example, the most common element is B (occurring 2192039569602 times) and the least common element is H (occurring 3849876073 times); subtracting these produces 2188189693529.\n",
    "\n",
    "Apply 40 steps of pair insertion to the polymer template and find the most and least common elements in the result. **What do you get if you take the quantity of the most common element and subtract the quantity of the least common element?**"
   ]
  },
  {
   "cell_type": "code",
   "execution_count": 8,
   "metadata": {
    "ExecuteTime": {
     "end_time": "2021-12-14T15:56:51.332285Z",
     "start_time": "2021-12-14T15:56:51.301036Z"
    }
   },
   "outputs": [],
   "source": [
    "# After round 20 the get_polym() function time per round just explodes.\n",
    "# Brute forcing out to round 40 is not tenable.\n",
    "#polym = get_polym(40)"
   ]
  },
  {
   "cell_type": "code",
   "execution_count": 9,
   "metadata": {
    "ExecuteTime": {
     "end_time": "2021-12-14T15:56:51.363536Z",
     "start_time": "2021-12-14T15:56:51.332285Z"
    }
   },
   "outputs": [],
   "source": [
    "def get_pairs(polym):\n",
    "    # Return the pairdict {pair: count}\n",
    "    # from supplied polym string\n",
    "    pairdict = dict()\n",
    "    for i in range(len(polym) - 1):\n",
    "        pair = polym[i:i+2]\n",
    "        if pair in pairdict:\n",
    "            pairdict[pair] += 1\n",
    "        else:\n",
    "            pairdict[pair] = 1\n",
    "    return pairdict\n",
    "#pairdict = get_pairs(polym0)\n",
    "#print(pairdict)"
   ]
  },
  {
   "cell_type": "code",
   "execution_count": 10,
   "metadata": {
    "ExecuteTime": {
     "end_time": "2021-12-14T15:56:51.416962Z",
     "start_time": "2021-12-14T15:56:51.363536Z"
    }
   },
   "outputs": [],
   "source": [
    "def get_paircount(pairdict, nsteps):\n",
    "    \"\"\"\n",
    "    Create pairdict histogram dictionary for nsteps\n",
    "    \"\"\"\n",
    "    pairdict0 = pairdict.copy()\n",
    "    pairdict1 = pairdict0.copy()\n",
    "    for n in range(nsteps):\n",
    "        #print(\"... ROUND {}...\".format(n+1))\n",
    "        pairdict0 = pairdict1.copy()\n",
    "        #print(\"AT START OF ROUND...\")\n",
    "        #print(pairdict0)\n",
    "        # Next increment any newly formed pairs\n",
    "        for k, v in pairdict0.items():\n",
    "            if v > 0:\n",
    "                # Only if pair count is non-zero\n",
    "                # Assemble new pair\n",
    "                pair1 = k[0] + rules[k]\n",
    "                #print(\"New pair1: {}\".format(pair1))\n",
    "                if pair1 in pairdict1:\n",
    "                    pairdict1[pair1] += v\n",
    "                else:\n",
    "                    pairdict1[pair1] = v\n",
    "                pair2 = rules[k] + k[1]\n",
    "                #print(\"New pair2: {}\".format(pair2))\n",
    "                if pair2 in pairdict1:\n",
    "                    pairdict1[pair2] += v\n",
    "                else:\n",
    "                    pairdict1[pair2] = v\n",
    "                # Since we've also split up k here, reduce its count\n",
    "                pairdict1[k] -= v\n",
    "        # AFTER ROUND\n",
    "        #print(\"ROUND COMPLETED...\")\n",
    "        #print(pairdict1)\n",
    "        #print('-'*40)\n",
    "    return pairdict1\n",
    "\n",
    "def get_ecount_from_pairs(pairdict, polym0=polym0):\n",
    "    \"\"\"\n",
    "    Get the element count from the pairdict histogram\n",
    "    \"\"\"\n",
    "    ecount = dict()\n",
    "    # Offset the first and last element because they\n",
    "    # don't pair past the end of the chain\n",
    "    ecount[polym0[0]] = 1\n",
    "    ecount[polym[-1]] = 1\n",
    "    for k, v in pairdict.items():\n",
    "        #print(k)\n",
    "        if k[0] in ecount:\n",
    "            ecount[k[0]] += v\n",
    "        else:\n",
    "            ecount[k[0]] = v\n",
    "        if k[1] in ecount:\n",
    "            ecount[k[1]] += v\n",
    "        else:\n",
    "            ecount[k[1]] = v\n",
    "    # Now divide the count for each element\n",
    "    # by 2 to account for having been double\n",
    "    # counted in the pairs\n",
    "    ecount = {k: v // 2 for k, v in ecount.items()}\n",
    "    return ecount\n"
   ]
  },
  {
   "cell_type": "code",
   "execution_count": 11,
   "metadata": {
    "ExecuteTime": {
     "end_time": "2021-12-14T15:56:51.479462Z",
     "start_time": "2021-12-14T15:56:51.416962Z"
    }
   },
   "outputs": [
    {
     "name": "stdout",
     "output_type": "stream",
     "text": [
      "TESTS PASS\n"
     ]
    }
   ],
   "source": [
    "# TESTING\n",
    "pairdict = get_pairs(polym0)\n",
    "\n",
    "nsteps = 10\n",
    "pairdict1 = get_paircount(pairdict, nsteps)\n",
    "#pairdict1\n",
    "\n",
    "polym_steps = {0: 'NNCB',\n",
    "               1: 'NCNBCHB',\n",
    "               2: 'NBCCNBBBCBHCB',\n",
    "               3: 'NBBBCNCCNBBNBNBBCHBHHBCHB',\n",
    "               4: 'NBBNBNBBCCNBCNCCNBBNBBNBBBNBBNBBCBHCBHHNHCBBCBHCB',\n",
    "               10: polym}\n",
    "pairdict_test = get_pairs(polym_steps[nsteps])\n",
    "\n",
    "#print('=-'*40)\n",
    "#for k, v in pairdict1.items():\n",
    "#    print(\"{}:{}\".format(k, v), end='')\n",
    "#    if k in pairdict_test:\n",
    "#        print(\"/{}\".format(pairdict_test[k]))\n",
    "#    else:\n",
    "#        print()\n",
    "        \n",
    "test_pairdict = get_pairs(polym)\n",
    "ecount2 = get_ecount_from_pairs(test_pairdict)\n",
    "#print(ecount)\n",
    "#print(ecount2)\n",
    "for k, v in ecount.items():\n",
    "    assert(ecount2[k] == v)\n",
    "print('TESTS PASS')"
   ]
  },
  {
   "cell_type": "code",
   "execution_count": 12,
   "metadata": {
    "ExecuteTime": {
     "end_time": "2021-12-14T15:56:51.496274Z",
     "start_time": "2021-12-14T15:56:51.479462Z"
    }
   },
   "outputs": [],
   "source": [
    "# RUN FOR REAL\n",
    "pairdict = get_pairs(polym0)\n",
    "nsteps = 40\n",
    "pairdict40 = get_paircount(pairdict, nsteps)\n",
    "ecount40 = get_ecount_from_pairs(pairdict40)\n",
    "#ecount40"
   ]
  },
  {
   "cell_type": "code",
   "execution_count": 13,
   "metadata": {
    "ExecuteTime": {
     "end_time": "2021-12-14T15:56:51.536906Z",
     "start_time": "2021-12-14T15:56:51.498338Z"
    }
   },
   "outputs": [],
   "source": [
    "# Most common - least common element\n",
    "elspan40 = max(ecount40.values()) - min(ecount40.values())\n",
    "#Markdown(\"Most common minus least common element quantity is **{}**\".format(elspan40))"
   ]
  }
 ],
 "metadata": {
  "kernelspec": {
   "display_name": "Python 3",
   "language": "python",
   "name": "python3"
  },
  "language_info": {
   "codemirror_mode": {
    "name": "ipython",
    "version": 3
   },
   "file_extension": ".py",
   "mimetype": "text/x-python",
   "name": "python",
   "nbconvert_exporter": "python",
   "pygments_lexer": "ipython3",
   "version": "3.6.12"
  },
  "toc": {
   "base_numbering": 1,
   "nav_menu": {},
   "number_sections": true,
   "sideBar": true,
   "skip_h1_title": false,
   "title_cell": "Table of Contents",
   "title_sidebar": "Contents",
   "toc_cell": false,
   "toc_position": {},
   "toc_section_display": true,
   "toc_window_display": false
  }
 },
 "nbformat": 4,
 "nbformat_minor": 4
}
