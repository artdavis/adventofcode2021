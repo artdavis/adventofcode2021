{
 "cells": [
  {
   "cell_type": "markdown",
   "metadata": {},
   "source": [
    "# Day 8: Seven Segment Search\n",
    "\n",
    "https://adventofcode.com/2021/day/8\n",
    "\n",
    "## Part 1\n",
    "\n",
    "**In the output values, how many times do digits 1, 4, 7, or 8 appear?**"
   ]
  },
  {
   "cell_type": "code",
   "execution_count": 1,
   "metadata": {
    "ExecuteTime": {
     "end_time": "2021-12-10T12:46:27.652562Z",
     "start_time": "2021-12-10T12:46:27.204945Z"
    }
   },
   "outputs": [],
   "source": [
    "from IPython.display import Markdown\n",
    "import numpy as np"
   ]
  },
  {
   "cell_type": "code",
   "execution_count": 2,
   "metadata": {
    "ExecuteTime": {
     "end_time": "2021-12-10T12:46:27.669435Z",
     "start_time": "2021-12-10T12:46:27.652562Z"
    }
   },
   "outputs": [],
   "source": [
    "#infile = 'test_input.txt'\n",
    "infile = 'input.txt'\n",
    "dat_nums = list()\n",
    "dat_disp = list()\n",
    "with open(infile, 'r') as fid:\n",
    "    for line in fid:\n",
    "        nums, disp = line.strip().split('|')\n",
    "        dat_nums.append(nums.split())\n",
    "        dat_disp.append(disp.split())\n",
    "#display(dat_nums, dat_disp)"
   ]
  },
  {
   "cell_type": "code",
   "execution_count": 3,
   "metadata": {
    "ExecuteTime": {
     "end_time": "2021-12-10T12:46:27.705306Z",
     "start_time": "2021-12-10T12:46:27.671569Z"
    }
   },
   "outputs": [],
   "source": [
    "# Convert output values to sets and get length to determine\n",
    "# how many segments per digit are called for\n",
    "dat1_nsegs = np.array([[len(set(y)) for y in x] for x in dat_disp])\n",
    "#dat1_nsegs"
   ]
  },
  {
   "cell_type": "code",
   "execution_count": 4,
   "metadata": {
    "ExecuteTime": {
     "end_time": "2021-12-10T12:46:27.736556Z",
     "start_time": "2021-12-10T12:46:27.705306Z"
    }
   },
   "outputs": [],
   "source": [
    "# 1 uses 2 segments\n",
    "# 4 uses 4 segments\n",
    "# 7 uses 3 segments\n",
    "# 8 uses 7 segments\n",
    "ones = dat1_nsegs == 2\n",
    "fours = dat1_nsegs == 4\n",
    "sevens = dat1_nsegs == 3\n",
    "eights = dat1_nsegs == 7\n",
    "uniques = ones.sum() + fours.sum() + sevens.sum() + eights.sum()\n",
    "#Markdown('The digits 1, 4, 7 or 8 appear: **{}** times'.format(uniques))"
   ]
  },
  {
   "cell_type": "markdown",
   "metadata": {},
   "source": [
    "## Part Two\n",
    "\n",
    "**What do you get if you add up all of the output values?**"
   ]
  },
  {
   "cell_type": "code",
   "execution_count": 5,
   "metadata": {
    "ExecuteTime": {
     "end_time": "2021-12-10T12:46:27.821234Z",
     "start_time": "2021-12-10T12:46:27.736556Z"
    }
   },
   "outputs": [],
   "source": [
    "outlist = list()\n",
    "#nums = dat_nums[0]\n",
    "#disp = dat_disp[0]\n",
    "for nums, disp in zip(dat_nums, dat_disp):\n",
    "    seglens = list(map(lambda x: len(x), nums))\n",
    "    ones = nums[seglens.index(2)]\n",
    "    fours = nums[seglens.index(4)]\n",
    "    sevens = nums[seglens.index(3)]\n",
    "    eights = nums[seglens.index(7)]\n",
    "    #ones, fours, sevens, eights\n",
    "\n",
    "    a_val = (set(sevens) - set(ones)).pop()\n",
    "    #a_val\n",
    "\n",
    "    # 2,3,5 displays have 5 segments\n",
    "    cands_235 = [nums[i] for i, x in enumerate(seglens) if x == 5]\n",
    "    #cands_235\n",
    "\n",
    "    # If we subtract out the segments that make the 4 display\n",
    "    # the set with 3 left over is the two display\n",
    "    twos = cands_235[[len(set(x) - set(fours)) for x in cands_235].index(3)]\n",
    "    #twos\n",
    "\n",
    "    # Subtract out the fours and the other 3,5 candidates\n",
    "    # to get the unique e_val\n",
    "    cands_35 = list(set(cands_235) - {twos})\n",
    "    #cands_35\n",
    "\n",
    "    e_val = set(twos)\n",
    "    for d in set(cands_35) | {fours}:\n",
    "        e_val -= set(d)\n",
    "    e_val = e_val.pop()\n",
    "    #e_val\n",
    "\n",
    "    # Subtracting off the segments for 2 of the 3,5 displays\n",
    "    # will yield 2 for the 5 display and 1 for the 3 display\n",
    "    threes = cands_35[[len(set(x) - set(twos)) for x in cands_35].index(1)]\n",
    "    fives = cands_35[[len(set(x) - set(twos)) for x in cands_35].index(2)]\n",
    "    #threes, fives\n",
    "\n",
    "    # The c segment is unique to 3 vs 5\n",
    "    c_val = (set(threes) - set(fives)).pop()\n",
    "    #c_val\n",
    "\n",
    "    # The b segment is unique to 5 vs 3\n",
    "    b_val = (set(fives) - set(threes)).pop()\n",
    "    #b_val\n",
    "\n",
    "    # The f segment is what is not the c segment of 1\n",
    "    f_val = (set(ones) - {c_val}).pop()\n",
    "    #f_val\n",
    "\n",
    "    # The d segment is what is not b,c,f of 4\n",
    "    d_val = (set(fours) - set([b_val, c_val, f_val])).pop()\n",
    "    #d_val\n",
    "\n",
    "    # The g segment is what is not a,c,d,e of 2\n",
    "    g_val = (set(twos) - set([a_val, c_val, d_val, e_val])).pop()\n",
    "    #g_val\n",
    "\n",
    "    # All segments are identified, just need to decode\n",
    "    # digits 0, 6, 9\n",
    "    # Zero has a,b,c,e,f,g\n",
    "    # Use '^' operator for letters in both sets but not both\n",
    "    # The empty set then is the match for that digit\n",
    "    zeros = nums[[len(set(x) ^ set(a_val + b_val + c_val + e_val + f_val + g_val))\n",
    "     for x in nums].index(0)]\n",
    "    #zeros\n",
    "\n",
    "    # Six has a,b,d,e,f,g\n",
    "    sixes = nums[[len(set(x) ^ set(a_val + b_val + d_val + e_val + f_val + g_val))\n",
    "     for x in nums].index(0)]\n",
    "    #sixes\n",
    "\n",
    "    # Nine has a,b,c,d,f,g\n",
    "    nines = nums[[len(set(x) ^ set(a_val + b_val + c_val + d_val + f_val + g_val))\n",
    "     for x in nums].index(0)]\n",
    "    #nines\n",
    "\n",
    "    codes = [zeros, ones, twos, threes, fours,\n",
    "             fives, sixes, sevens, eights, nines]\n",
    "    nums_decode = [nums.index(x) for x in codes]\n",
    "    #nums_decode\n",
    "\n",
    "    def get_digit(readout):\n",
    "        for i, s in enumerate(codes):\n",
    "            if len(set(s) ^ set(readout)) == 0:\n",
    "                return str(i)\n",
    "            \n",
    "    output = int(''.join([get_digit(x) for x in disp]))\n",
    "    outlist.append(output)\n",
    "#display(outlist)"
   ]
  },
  {
   "cell_type": "code",
   "execution_count": 6,
   "metadata": {
    "ExecuteTime": {
     "end_time": "2021-12-10T12:46:27.852486Z",
     "start_time": "2021-12-10T12:46:27.821234Z"
    }
   },
   "outputs": [],
   "source": [
    "outsum = sum(outlist)\n",
    "#Markdown(\"The sum of the output values is: **{}**\".format(outsum))"
   ]
  },
  {
   "cell_type": "code",
   "execution_count": null,
   "metadata": {},
   "outputs": [],
   "source": []
  }
 ],
 "metadata": {
  "kernelspec": {
   "display_name": "Python 3",
   "language": "python",
   "name": "python3"
  },
  "language_info": {
   "codemirror_mode": {
    "name": "ipython",
    "version": 3
   },
   "file_extension": ".py",
   "mimetype": "text/x-python",
   "name": "python",
   "nbconvert_exporter": "python",
   "pygments_lexer": "ipython3",
   "version": "3.6.12"
  },
  "toc": {
   "base_numbering": 1,
   "nav_menu": {},
   "number_sections": true,
   "sideBar": true,
   "skip_h1_title": false,
   "title_cell": "Table of Contents",
   "title_sidebar": "Contents",
   "toc_cell": false,
   "toc_position": {},
   "toc_section_display": true,
   "toc_window_display": false
  }
 },
 "nbformat": 4,
 "nbformat_minor": 4
}
