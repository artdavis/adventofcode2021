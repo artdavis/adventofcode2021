{
 "cells": [
  {
   "cell_type": "markdown",
   "metadata": {},
   "source": [
    "# Day 5: Hydrothermal Venture\n",
    "\n",
    "https://adventofcode.com/2021/day/5\n",
    "\n",
    "## Part 1\n",
    "\n",
    "**At how many points do at least two lines overlap?**"
   ]
  },
  {
   "cell_type": "code",
   "execution_count": 1,
   "metadata": {
    "ExecuteTime": {
     "end_time": "2021-12-05T14:36:40.191180Z",
     "start_time": "2021-12-05T14:36:39.710825Z"
    }
   },
   "outputs": [],
   "source": [
    "import numpy as np\n",
    "from IPython.display import Markdown"
   ]
  },
  {
   "cell_type": "code",
   "execution_count": 2,
   "metadata": {
    "ExecuteTime": {
     "end_time": "2021-12-05T14:36:40.211453Z",
     "start_time": "2021-12-05T14:36:40.193224Z"
    }
   },
   "outputs": [],
   "source": [
    "test_input = '''0,9 -> 5,9\n",
    "8,0 -> 0,8\n",
    "9,4 -> 3,4\n",
    "2,2 -> 2,1\n",
    "7,0 -> 7,4\n",
    "6,4 -> 2,0\n",
    "0,9 -> 2,9\n",
    "3,4 -> 1,4\n",
    "0,0 -> 8,8\n",
    "5,5 -> 8,2\n",
    "'''"
   ]
  },
  {
   "cell_type": "code",
   "execution_count": 3,
   "metadata": {
    "ExecuteTime": {
     "end_time": "2021-12-05T14:36:40.252038Z",
     "start_time": "2021-12-05T14:36:40.213570Z"
    }
   },
   "outputs": [],
   "source": [
    "xpts0 = []; ypts0 = []\n",
    "xpts1 = []; ypts1 = []\n",
    "with open('input.txt', 'r') as fid:\n",
    "    for line in fid:\n",
    "#for line in test_input.split('\\n'):\n",
    "        if '' == line:\n",
    "            break\n",
    "        (x0, y0), (x1, y1) = [x.split(',') for x in line.strip().split(' -> ')]\n",
    "        xpts0 += [int(x0)]\n",
    "        ypts0 += [int(y0)]\n",
    "        xpts1 += [int(x1)]\n",
    "        ypts1 += [int(y1)]"
   ]
  },
  {
   "cell_type": "code",
   "execution_count": 4,
   "metadata": {
    "ExecuteTime": {
     "end_time": "2021-12-05T14:36:40.287891Z",
     "start_time": "2021-12-05T14:36:40.254165Z"
    }
   },
   "outputs": [
    {
     "data": {
      "text/plain": [
       "(10, 989, 10, 989)"
      ]
     },
     "execution_count": 4,
     "metadata": {},
     "output_type": "execute_result"
    }
   ],
   "source": [
    "xpts0 = np.array(xpts0)\n",
    "xpts1 = np.array(xpts1)\n",
    "ypts0 = np.array(ypts0)\n",
    "ypts1 = np.array(ypts1)\n",
    "\n",
    "xmin = np.min([xpts0.min(), xpts1.min()])\n",
    "ymin = np.min([ypts0.min(), ypts1.min()])\n",
    "xmax = np.max([xpts0.max(), xpts1.max()])\n",
    "ymax = np.max([ypts0.max(), ypts1.max()])\n",
    "xmin, xmax, ymin, ymax"
   ]
  },
  {
   "cell_type": "code",
   "execution_count": 5,
   "metadata": {
    "ExecuteTime": {
     "end_time": "2021-12-05T14:36:40.388192Z",
     "start_time": "2021-12-05T14:36:40.287891Z"
    }
   },
   "outputs": [],
   "source": [
    "cloudgrid = np.zeros((xmax + 1, ymax + 1))\n",
    "\n",
    "for i in range(len(xpts0)):\n",
    "    x0 = np.min([xpts0[i], xpts1[i]])\n",
    "    x1 = np.max([xpts0[i], xpts1[i]])\n",
    "    y0 = np.min([ypts0[i], ypts1[i]])\n",
    "    y1 = np.max([ypts0[i], ypts1[i]])\n",
    "    if x0 == x1:\n",
    "        # Vertical line\n",
    "        #print(\"Vertical line: ({}, {}), ({}, {})\".format(x0, y0, x1, y1))\n",
    "        cloudgrid[x0, y0:y1 + 1] += 1\n",
    "    elif y0 == y1:\n",
    "        # Horizontal line\n",
    "        #print(\"Horizontal line: ({}, {}), ({}, {})\".format(x0, y0, x1, y1))\n",
    "        cloudgrid[x0:x1 + 1, y0] += 1\n",
    "\n",
    "#cloudgrid.T"
   ]
  },
  {
   "cell_type": "code",
   "execution_count": 6,
   "metadata": {
    "ExecuteTime": {
     "end_time": "2021-12-05T14:36:40.403815Z",
     "start_time": "2021-12-05T14:36:40.388192Z"
    }
   },
   "outputs": [],
   "source": [
    "overlap = np.sum(cloudgrid >= 2)\n",
    "#Markdown(\"Regions of overlap: **{}**\".format(overlap))"
   ]
  },
  {
   "cell_type": "markdown",
   "metadata": {},
   "source": [
    "## Part Two\n",
    "\n",
    "**At how many points do at least two lines overlap?**"
   ]
  },
  {
   "cell_type": "code",
   "execution_count": 7,
   "metadata": {
    "ExecuteTime": {
     "end_time": "2021-12-05T14:36:40.588783Z",
     "start_time": "2021-12-05T14:36:40.403815Z"
    }
   },
   "outputs": [],
   "source": [
    "cloudgrid = np.zeros((xmax + 1, ymax + 1))\n",
    "\n",
    "for i in range(len(xpts0)):\n",
    "    x0 = xpts0[i]\n",
    "    x1 = xpts1[i]\n",
    "    y0 = ypts0[i]\n",
    "    y1 = ypts1[i]\n",
    "    if x0 > x1:\n",
    "        xstep = -1\n",
    "    else:\n",
    "        xstep = 1\n",
    "    if y0 > y1:\n",
    "        ystep = -1\n",
    "    else:\n",
    "        ystep = 1\n",
    "    if x0 == x1:\n",
    "        # Vertical line\n",
    "        #print(\"Vertical line: ({}, {}), ({}, {})\".format(x0, y0, x1, y1))\n",
    "        cloudgrid[x0, y0:y1 + ystep:ystep] += 1\n",
    "    elif y0 == y1:\n",
    "        # Horizontal line\n",
    "        #print(\"Horizontal line: ({}, {}), ({}, {})\".format(x0, y0, x1, y1))\n",
    "        cloudgrid[x0:x1 + xstep:xstep, y0] += 1\n",
    "    else:\n",
    "        # Diagonal line\n",
    "        #print(\"Diagonal line: ({}, {}), ({}, {})\".format(x0, y0, x1, y1))\n",
    "        for x, y in zip(range(x0, x1 + xstep, xstep),\n",
    "                        range(y0, y1 + ystep, ystep)):\n",
    "            #print(x,y)\n",
    "            cloudgrid[x, y] += 1\n",
    "#cloudgrid.T"
   ]
  },
  {
   "cell_type": "code",
   "execution_count": 8,
   "metadata": {
    "ExecuteTime": {
     "end_time": "2021-12-05T14:36:40.604408Z",
     "start_time": "2021-12-05T14:36:40.588783Z"
    }
   },
   "outputs": [],
   "source": [
    "overlap = np.sum(cloudgrid >= 2)\n",
    "#Markdown(\"Regions of overlap: **{}**\".format(overlap))"
   ]
  },
  {
   "cell_type": "code",
   "execution_count": null,
   "metadata": {},
   "outputs": [],
   "source": []
  }
 ],
 "metadata": {
  "kernelspec": {
   "display_name": "Python 3",
   "language": "python",
   "name": "python3"
  },
  "language_info": {
   "codemirror_mode": {
    "name": "ipython",
    "version": 3
   },
   "file_extension": ".py",
   "mimetype": "text/x-python",
   "name": "python",
   "nbconvert_exporter": "python",
   "pygments_lexer": "ipython3",
   "version": "3.6.12"
  },
  "toc": {
   "base_numbering": 1,
   "nav_menu": {},
   "number_sections": true,
   "sideBar": true,
   "skip_h1_title": false,
   "title_cell": "Table of Contents",
   "title_sidebar": "Contents",
   "toc_cell": false,
   "toc_position": {},
   "toc_section_display": true,
   "toc_window_display": false
  }
 },
 "nbformat": 4,
 "nbformat_minor": 4
}
