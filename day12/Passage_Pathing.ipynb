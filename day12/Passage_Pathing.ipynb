{
 "cells": [
  {
   "cell_type": "markdown",
   "metadata": {},
   "source": [
    "# Day 12: Passage Pathing\n",
    "\n",
    "https://adventofcode.com/2021/day/12\n",
    "\n",
    "## Part 1\n",
    "\n",
    "With your submarine's subterranean subsystems subsisting suboptimally, the only way you're getting out of this cave anytime soon is by finding a path yourself. Not just a path - the only way to know if you've found the best path is to find all of them.\n",
    "\n",
    "Fortunately, the sensors are still mostly working, and so you build a rough map of the remaining caves (your puzzle input). For example:\n",
    "```\n",
    "start-A\n",
    "start-b\n",
    "A-c\n",
    "A-b\n",
    "b-d\n",
    "A-end\n",
    "b-end\n",
    "```\n",
    "This is a list of how all of the caves are connected. You start in the cave named start, and your destination is the cave named end. An entry like b-d means that cave b is connected to cave d - that is, you can move between them.\n",
    "\n",
    "So, the above cave system looks roughly like this:\n",
    "```\n",
    "    start\n",
    "    /   \\\n",
    "c--A-----b--d\n",
    "    \\   /\n",
    "     end\n",
    "```\n",
    "Your goal is to find the number of distinct paths that start at start, end at end, and don't visit small caves more than once. There are two types of caves: big caves (written in uppercase, like A) and small caves (written in lowercase, like b). It would be a waste of time to visit any small cave more than once, but big caves are large enough that it might be worth visiting them multiple times. So, all paths you find should visit small caves at most once, and can visit big caves any number of times.\n",
    "\n",
    "Given these rules, there are 10 paths through this example cave system:\n",
    "```\n",
    "start,A,b,A,c,A,end\n",
    "start,A,b,A,end\n",
    "start,A,b,end\n",
    "start,A,c,A,b,A,end\n",
    "start,A,c,A,b,end\n",
    "start,A,c,A,end\n",
    "start,A,end\n",
    "start,b,A,c,A,end\n",
    "start,b,A,end\n",
    "start,b,end\n",
    "```\n",
    "(Each line in the above list corresponds to a single path; the caves visited by that path are listed in the order they are visited and separated by commas.)\n",
    "\n",
    "Note that in this cave system, cave d is never visited by any path: to do so, cave b would need to be visited twice (once on the way to cave d and a second time when returning from cave d), and since cave b is small, this is not allowed.\n",
    "\n",
    "Here is a slightly larger example:\n",
    "```\n",
    "dc-end\n",
    "HN-start\n",
    "start-kj\n",
    "dc-start\n",
    "dc-HN\n",
    "LN-dc\n",
    "HN-end\n",
    "kj-sa\n",
    "kj-HN\n",
    "kj-dc\n",
    "```\n",
    "The 19 paths through it are as follows:\n",
    "```\n",
    "start,HN,dc,HN,end\n",
    "start,HN,dc,HN,kj,HN,end\n",
    "start,HN,dc,end\n",
    "start,HN,dc,kj,HN,end\n",
    "start,HN,end\n",
    "start,HN,kj,HN,dc,HN,end\n",
    "start,HN,kj,HN,dc,end\n",
    "start,HN,kj,HN,end\n",
    "start,HN,kj,dc,HN,end\n",
    "start,HN,kj,dc,end\n",
    "start,dc,HN,end\n",
    "start,dc,HN,kj,HN,end\n",
    "start,dc,end\n",
    "start,dc,kj,HN,end\n",
    "start,kj,HN,dc,HN,end\n",
    "start,kj,HN,dc,end\n",
    "start,kj,HN,end\n",
    "start,kj,dc,HN,end\n",
    "start,kj,dc,end\n",
    "```\n",
    "Finally, this even larger example has 226 paths through it:\n",
    "```\n",
    "fs-end\n",
    "he-DX\n",
    "fs-he\n",
    "start-DX\n",
    "pj-DX\n",
    "end-zg\n",
    "zg-sl\n",
    "zg-pj\n",
    "pj-he\n",
    "RW-he\n",
    "fs-DX\n",
    "pj-RW\n",
    "zg-RW\n",
    "start-pj\n",
    "he-WI\n",
    "zg-he\n",
    "pj-fs\n",
    "start-RW\n",
    "```\n",
    "\n",
    "**How many paths through this cave system are there that visit small caves at most once?**"
   ]
  },
  {
   "cell_type": "code",
   "execution_count": 1,
   "metadata": {
    "ExecuteTime": {
     "end_time": "2021-12-13T14:29:34.376590Z",
     "start_time": "2021-12-13T14:29:34.358254Z"
    }
   },
   "outputs": [],
   "source": [
    "from IPython.display import Markdown\n",
    "import copy"
   ]
  },
  {
   "cell_type": "code",
   "execution_count": 2,
   "metadata": {
    "ExecuteTime": {
     "end_time": "2021-12-13T14:29:34.412383Z",
     "start_time": "2021-12-13T14:29:34.378655Z"
    }
   },
   "outputs": [],
   "source": [
    "#infile = 'test-input1.txt'\n",
    "#infile = 'test-input2.txt'\n",
    "#infile = 'test-input3.txt'\n",
    "infile = 'input.txt'\n",
    "\n",
    "# Represent connection graph as dict with\n",
    "# each node as a key and all available neighbors\n",
    "# in a set as the value\n",
    "cavegraph = dict()\n",
    "with open(infile, 'r') as fid:\n",
    "    for line in fid:\n",
    "        node, neigh = line.strip().split('-')\n",
    "        # Never include 'start' as a neighbor since we\n",
    "        # can never go back there\n",
    "        if node in cavegraph:\n",
    "            if 'start' != neigh:\n",
    "                cavegraph[node].add(neigh)\n",
    "        else:\n",
    "            if 'start' != neigh:\n",
    "                cavegraph[node] = {neigh}\n",
    "        if neigh in cavegraph:\n",
    "            if 'start' != node:\n",
    "                cavegraph[neigh].add(node)\n",
    "        else:\n",
    "            if 'start' != node:\n",
    "                cavegraph[neigh] = {node}"
   ]
  },
  {
   "cell_type": "code",
   "execution_count": 3,
   "metadata": {
    "ExecuteTime": {
     "end_time": "2021-12-13T14:29:34.443630Z",
     "start_time": "2021-12-13T14:29:34.412383Z"
    }
   },
   "outputs": [],
   "source": [
    "#cavegraph"
   ]
  },
  {
   "cell_type": "code",
   "execution_count": 4,
   "metadata": {
    "ExecuteTime": {
     "end_time": "2021-12-13T14:29:34.475384Z",
     "start_time": "2021-12-13T14:29:34.443630Z"
    }
   },
   "outputs": [],
   "source": [
    "def pr(val):\n",
    "    print(val, end=',')"
   ]
  },
  {
   "cell_type": "code",
   "execution_count": 5,
   "metadata": {
    "ExecuteTime": {
     "end_time": "2021-12-13T14:29:34.512732Z",
     "start_time": "2021-12-13T14:29:34.478486Z"
    }
   },
   "outputs": [],
   "source": [
    "def pathway(node, seen=set(), thisroute=list(), routes=list()):\n",
    "    # Recursive function to traverse all valid cave paths\n",
    "    # allowing for visiting each small cave at most once\n",
    "    #print(\"=={}==\".format(node))\n",
    "    thisroute.append(node)\n",
    "    #print(\"This route: {}\".format(thisroute))\n",
    "    if 'end' == node:\n",
    "        routes.append(thisroute)\n",
    "        #print('...Hit the end: {}'.format(routes))\n",
    "        return routes\n",
    "    if node in seen:\n",
    "        # Already saw this small cave, not a valid route\n",
    "        return routes\n",
    "    if node == node.lower():\n",
    "        # Small cave, add to seen\n",
    "        seen.add(node)\n",
    "    # From this node, try every neighbor\n",
    "    #print(\"\\n... Available neighbors: {}\".format(cavegraph[node]))\n",
    "    #print(\"... Seen: {}\".format(seen))\n",
    "    # Cache thisroute and seen before descent\n",
    "    thisroute0 = thisroute.copy()\n",
    "    seen0 = seen.copy()\n",
    "    for neigh in cavegraph[node]:\n",
    "        # Restore cached thisroute and seen for this descent\n",
    "        thisroute1 = thisroute0.copy()\n",
    "        seen1 = seen0.copy()\n",
    "        #pr('({})'.format(neigh))\n",
    "        #print('__{}__'.format(neigh))\n",
    "        #print('thisroute1: {}'.format(thisroute1))\n",
    "        routes = pathway(neigh, seen=seen1, thisroute=thisroute1, routes=routes)\n",
    "    return routes"
   ]
  },
  {
   "cell_type": "code",
   "execution_count": 6,
   "metadata": {
    "ExecuteTime": {
     "end_time": "2021-12-13T14:29:34.613005Z",
     "start_time": "2021-12-13T14:29:34.512732Z"
    }
   },
   "outputs": [],
   "source": [
    "routes = pathway('start')\n",
    "#print()\n",
    "#print('-='*20)\n",
    "#for r in routes:\n",
    "#    print(','.join(r))"
   ]
  },
  {
   "cell_type": "code",
   "execution_count": 7,
   "metadata": {
    "ExecuteTime": {
     "end_time": "2021-12-13T14:29:34.644259Z",
     "start_time": "2021-12-13T14:29:34.613005Z"
    }
   },
   "outputs": [
    {
     "data": {
      "text/markdown": [
       "The number of paths is **5104**"
      ],
      "text/plain": [
       "<IPython.core.display.Markdown object>"
      ]
     },
     "execution_count": 7,
     "metadata": {},
     "output_type": "execute_result"
    }
   ],
   "source": [
    "npaths = len(routes)\n",
    "Markdown(\"The number of paths is **{}**\".format(npaths))"
   ]
  },
  {
   "cell_type": "markdown",
   "metadata": {},
   "source": [
    "## Part Two\n",
    "\n",
    "After reviewing the available paths, you realize you might have time to visit a single small cave twice. Specifically, big caves can be visited any number of times, a single small cave can be visited at most twice, and the remaining small caves can be visited at most once. However, the caves named start and end can only be visited exactly once each: once you leave the start cave, you may not return to it, and once you reach the end cave, the path must end immediately.\n",
    "\n",
    "Now, the 36 possible paths through the first example above are:\n",
    "```\n",
    "start,A,b,A,b,A,c,A,end\n",
    "start,A,b,A,b,A,end\n",
    "start,A,b,A,b,end\n",
    "start,A,b,A,c,A,b,A,end\n",
    "start,A,b,A,c,A,b,end\n",
    "start,A,b,A,c,A,c,A,end\n",
    "start,A,b,A,c,A,end\n",
    "start,A,b,A,end\n",
    "start,A,b,d,b,A,c,A,end\n",
    "start,A,b,d,b,A,end\n",
    "start,A,b,d,b,end\n",
    "start,A,b,end\n",
    "start,A,c,A,b,A,b,A,end\n",
    "start,A,c,A,b,A,b,end\n",
    "start,A,c,A,b,A,c,A,end\n",
    "start,A,c,A,b,A,end\n",
    "start,A,c,A,b,d,b,A,end\n",
    "start,A,c,A,b,d,b,end\n",
    "start,A,c,A,b,end\n",
    "start,A,c,A,c,A,b,A,end\n",
    "start,A,c,A,c,A,b,end\n",
    "start,A,c,A,c,A,end\n",
    "start,A,c,A,end\n",
    "start,A,end\n",
    "start,b,A,b,A,c,A,end\n",
    "start,b,A,b,A,end\n",
    "start,b,A,b,end\n",
    "start,b,A,c,A,b,A,end\n",
    "start,b,A,c,A,b,end\n",
    "start,b,A,c,A,c,A,end\n",
    "start,b,A,c,A,end\n",
    "start,b,A,end\n",
    "start,b,d,b,A,c,A,end\n",
    "start,b,d,b,A,end\n",
    "start,b,d,b,end\n",
    "start,b,end\n",
    "```\n",
    "The slightly larger example above now has 103 paths through it, and the even larger example now has 3509 paths through it.\n",
    "\n",
    "Given these new rules, **how many paths through this cave system are there?**"
   ]
  },
  {
   "cell_type": "code",
   "execution_count": 8,
   "metadata": {
    "ExecuteTime": {
     "end_time": "2021-12-13T14:29:34.659887Z",
     "start_time": "2021-12-13T14:29:34.644259Z"
    },
    "scrolled": true
   },
   "outputs": [],
   "source": [
    "known_paths = set('''start,A,b,A,b,A,c,A,end\n",
    "start,A,b,A,b,A,end\n",
    "start,A,b,A,b,end\n",
    "start,A,b,A,c,A,b,A,end\n",
    "start,A,b,A,c,A,b,end\n",
    "start,A,b,A,c,A,c,A,end\n",
    "start,A,b,A,c,A,end\n",
    "start,A,b,A,end\n",
    "start,A,b,d,b,A,c,A,end\n",
    "start,A,b,d,b,A,end\n",
    "start,A,b,d,b,end\n",
    "start,A,b,end\n",
    "start,A,c,A,b,A,b,A,end\n",
    "start,A,c,A,b,A,b,end\n",
    "start,A,c,A,b,A,c,A,end\n",
    "start,A,c,A,b,A,end\n",
    "start,A,c,A,b,d,b,A,end\n",
    "start,A,c,A,b,d,b,end\n",
    "start,A,c,A,b,end\n",
    "start,A,c,A,c,A,b,A,end\n",
    "start,A,c,A,c,A,b,end\n",
    "start,A,c,A,c,A,end\n",
    "start,A,c,A,end\n",
    "start,A,end\n",
    "start,b,A,b,A,c,A,end\n",
    "start,b,A,b,A,end\n",
    "start,b,A,b,end\n",
    "start,b,A,c,A,b,A,end\n",
    "start,b,A,c,A,b,end\n",
    "start,b,A,c,A,c,A,end\n",
    "start,b,A,c,A,end\n",
    "start,b,A,end\n",
    "start,b,d,b,A,c,A,end\n",
    "start,b,d,b,A,end\n",
    "start,b,d,b,end\n",
    "start,b,end\n",
    "'''.split())\n",
    "#known_paths"
   ]
  },
  {
   "cell_type": "code",
   "execution_count": 9,
   "metadata": {
    "ExecuteTime": {
     "end_time": "2021-12-13T14:29:34.691133Z",
     "start_time": "2021-12-13T14:29:34.659887Z"
    }
   },
   "outputs": [],
   "source": [
    "def rls(route):\n",
    "    # Return route list as csv string\n",
    "    return ','.join(route)"
   ]
  },
  {
   "cell_type": "code",
   "execution_count": 10,
   "metadata": {
    "ExecuteTime": {
     "end_time": "2021-12-13T14:29:37.963456Z",
     "start_time": "2021-12-13T14:29:34.691133Z"
    }
   },
   "outputs": [],
   "source": [
    "#watchstr = 'start,A,b,A,b'\n",
    "#watchstr = 'start,A,b,A,c,A,b,A,c'\n",
    "#watchstr = 'start,A,b,A,b,A,c,A,c'\n",
    "#watchstr = 'start,A,b,A'\n",
    "watchstr = 'start,A,c,A,b,A,c,A'\n",
    "def pathway2(node, seen=set(), seenbuffer=list(), smalldone=False,\n",
    "             thisroute=list(), routes=list()):\n",
    "    # Recursive function to traverse all valid cave paths\n",
    "    # allowing for visiting a single small cave twice but all\n",
    "    # other small caves at most once\n",
    "    ###print(\"=={}==\".format(node))\n",
    "    thisroute.append(node)\n",
    "    ###if rls(thisroute).startswith(watchstr):\n",
    "    ###    print(\"*\"*20)\n",
    "    ###    print(\"WATCH... node: {}; seenbuffer: {}\".format(node, seenbuffer))\n",
    "    ###print(\"This route: {}; seen: {}; seenbuffer: {}, smalldone: {}\".format(\n",
    "    ###    rls(thisroute), rls(seen), rls(seenbuffer), smalldone))\n",
    "    #print(\"WATCH... node: {}; seenbuffer: {}\".format(node, seenbuffer))\n",
    "    ###print(\"... Available neighbors: {}\".format(cavegraph[node]))\n",
    "    if 'end' == node:\n",
    "        routes.append(thisroute)\n",
    "        ###print('...HIT THE END')\n",
    "        ###print('-'*40)\n",
    "        return routes\n",
    "    if node in seen:\n",
    "        # Already saw this small cave, not a valid route\n",
    "        ###print('... EXITING DUE TO {} in seen: {}'.format(node, rls(seen)))\n",
    "        return routes\n",
    "    #if node in seenbuffer and smalldone:\n",
    "        # Already saw this small cave once and visited another\n",
    "        # small cave twice... not a valid route\n",
    "    #    return routes\n",
    "    if node == node.lower():\n",
    "        ###print('lower node: {}'.format(node))\n",
    "        if smalldone:\n",
    "            seen = seen.union(set(seenbuffer))\n",
    "            seen.add(node)\n",
    "        # If this is the first time we've seen a small cave, we might\n",
    "        # come back to visit it a second time\n",
    "        #if node not in seenbuffer and node not in {'start', 'end'}:\n",
    "        #print(\"Small cave: {}\".format(node))\n",
    "        #if 0 == len(seenbuffer) and node not in {'start', 'end'}:\n",
    "        elif node not in {'start', 'end'} and node not in seenbuffer:\n",
    "            ###print(\"Buffering: {}\".format(node))\n",
    "            #seenbuffer.add(node)\n",
    "            seenbuffer.append(node)\n",
    "        #elif smalldone:\n",
    "        #    # If smalldone is True, this must go in seen\n",
    "        #    #seen.add(node)\n",
    "        #    # Add everything in seenbuffer to seen\n",
    "        #    seen = seen.union(set(seenbuffer))\n",
    "        else:\n",
    "            # Node WAS in the seenbuffer but was not in seen (but may be start/end)\n",
    "            # If we've already visited this node before, flag that\n",
    "            # we may no longer visit small caves after this\n",
    "            ###print(\"smalldone: {}; node: {}; seen: {}; seenbuffer: {}\".format(\n",
    "            ###        smalldone, node, rls(seen), rls(seenbuffer)))\n",
    "            #if smalldone:\n",
    "            #    # smalldone was already set True (and this node was in\n",
    "            #    # seenbuffer)\n",
    "            #    print('ADDING {} to seen because smalldone was True and this node was in screenbuffer'.\n",
    "            #         format(node))\n",
    "            #    #seen.add(node)\n",
    "            #    # Add everything in seenbuffer to seen\n",
    "            #    seen = seen.union(set(seenbuffer))\n",
    "            #else:\n",
    "            # smalldone was False\n",
    "            # Visiting small caves is herein forbidden\n",
    "            if node not in {'start', 'end'}:\n",
    "                smalldone = True\n",
    "                ###print(\"Setting smalldone to TRUE\")\n",
    "                seen = seen.union(set(seenbuffer))\n",
    "                \n",
    "    # From this node, try every neighbor\n",
    "    #print(\"... Available neighbors: {}\".format(cavegraph[node]))\n",
    "    #print(\"... Seen: {}\".format(seen))\n",
    "    # Cache this route and seen before descent\n",
    "    thisroute0 = thisroute.copy()\n",
    "    seen0 = seen.copy()\n",
    "    seenbuffer0 = seenbuffer.copy()\n",
    "    smalldone0 = copy.copy(smalldone)\n",
    "    for neigh in cavegraph[node]:\n",
    "        # Restore cached thisroute and seen for this descent\n",
    "        thisroute1 = thisroute0.copy()\n",
    "        seen1 = seen0.copy()\n",
    "        seenbuffer1 = seenbuffer0.copy()\n",
    "        smalldone1 = copy.copy(smalldone0)\n",
    "        #pr('({})'.format(neigh))\n",
    "        #print('__{}__'.format(neigh))\n",
    "        #print('thisroute1: {}'.format(thisroute1))\n",
    "        routes = pathway2(neigh, seen=seen1, seenbuffer=seenbuffer1,\n",
    "                          smalldone=smalldone1,\n",
    "                          thisroute=thisroute1, routes=routes)\n",
    "    return routes\n",
    "\n",
    "routes2 = pathway2('start')\n",
    "routes2a = {','.join(x) for x in routes2}\n",
    "npaths2 = len(routes2)\n",
    "#display(Markdown(\"The number of paths is **{}**\".format(npaths2)))"
   ]
  },
  {
   "cell_type": "code",
   "execution_count": 11,
   "metadata": {
    "ExecuteTime": {
     "end_time": "2021-12-13T14:29:37.989121Z",
     "start_time": "2021-12-13T14:29:37.963456Z"
    }
   },
   "outputs": [],
   "source": [
    "# TESTING\n",
    "# Missed routes\n",
    "#miss_routes = known_paths - routes2a\n",
    "#print('=-'*20)\n",
    "#print(\"MISSED ROUTES:\")\n",
    "#for x in miss_routes:\n",
    "#    print(x)\n",
    "\n",
    "# Invalid routes\n",
    "#invalid_routes = routes2a - known_paths\n",
    "#print('=-'*20)\n",
    "#print(\"INVALID ROUTES:\")\n",
    "#for x in invalid_routes:\n",
    "#    print(x)\n",
    "\n",
    "#print('=-'*20)\n",
    "#print(\"FOUND ROUTES:\")\n",
    "#for r in routes2:\n",
    "#    print(','.join(r))    "
   ]
  },
  {
   "cell_type": "code",
   "execution_count": null,
   "metadata": {},
   "outputs": [],
   "source": []
  }
 ],
 "metadata": {
  "kernelspec": {
   "display_name": "Python 3",
   "language": "python",
   "name": "python3"
  },
  "language_info": {
   "codemirror_mode": {
    "name": "ipython",
    "version": 3
   },
   "file_extension": ".py",
   "mimetype": "text/x-python",
   "name": "python",
   "nbconvert_exporter": "python",
   "pygments_lexer": "ipython3",
   "version": "3.6.12"
  },
  "toc": {
   "base_numbering": 1,
   "nav_menu": {},
   "number_sections": true,
   "sideBar": true,
   "skip_h1_title": false,
   "title_cell": "Table of Contents",
   "title_sidebar": "Contents",
   "toc_cell": false,
   "toc_position": {},
   "toc_section_display": true,
   "toc_window_display": false
  }
 },
 "nbformat": 4,
 "nbformat_minor": 4
}
