{
 "cells": [
  {
   "cell_type": "markdown",
   "metadata": {},
   "source": [
    "# Day 11: Dumbo Octopus\n",
    "\n",
    "https://adventofcode.com/2021/day/11\n",
    "\n",
    "## Part 1\n",
    "\n",
    "**How many total flashes are there after 100 steps?**"
   ]
  },
  {
   "cell_type": "code",
   "execution_count": 1,
   "metadata": {
    "ExecuteTime": {
     "end_time": "2021-12-11T17:29:20.266549Z",
     "start_time": "2021-12-11T17:29:18.197110Z"
    }
   },
   "outputs": [],
   "source": [
    "from IPython.display import Markdown\n",
    "import numpy as np\n",
    "from scipy import ndimage\n",
    "from matplotlib import pyplot as plt\n",
    "from scipy import signal"
   ]
  },
  {
   "cell_type": "code",
   "execution_count": 2,
   "metadata": {
    "ExecuteTime": {
     "end_time": "2021-12-11T17:29:20.286746Z",
     "start_time": "2021-12-11T17:29:20.268601Z"
    }
   },
   "outputs": [],
   "source": [
    "def makeplot(dat, cmap='gray'):\n",
    "    fig, ax = plt.subplots(figsize=(10, 10))\n",
    "    ax.imshow(dat, cmap=cmap)\n",
    "    \n",
    "def prdat(arr, note=None):\n",
    "    if note is not None:\n",
    "        print(note)\n",
    "    print(np.array(arr, dtype=np.int))"
   ]
  },
  {
   "cell_type": "code",
   "execution_count": 3,
   "metadata": {
    "ExecuteTime": {
     "end_time": "2021-12-11T17:29:20.322728Z",
     "start_time": "2021-12-11T17:29:20.288824Z"
    }
   },
   "outputs": [],
   "source": [
    "#infile = 'test_input2.txt'\n",
    "#infile = 'test_input.txt'\n",
    "infile = 'input.txt'\n",
    "\n",
    "lines = list()\n",
    "with open(infile, 'r') as fid:\n",
    "    for line in fid:\n",
    "        lines.append([int(x) for x in line.strip()])\n",
    "dat0 = np.array(lines, dtype=np.int)\n",
    "#dat0"
   ]
  },
  {
   "cell_type": "code",
   "execution_count": 4,
   "metadata": {
    "ExecuteTime": {
     "end_time": "2021-12-11T17:29:20.353799Z",
     "start_time": "2021-12-11T17:29:20.322728Z"
    }
   },
   "outputs": [],
   "source": [
    "'''\n",
    "# Prototype a single step\n",
    "dat1 = dat0.copy()\n",
    "# Step 1: Energy level of each octopus increases by 1\n",
    "dat1 += 1\n",
    "dat1\n",
    "\n",
    "# Step 2: Any octopuses with an energy level of 10 will flash\n",
    "# increasing the energy level of all adjacent octopuses by 1\n",
    "\n",
    "# The centering structure needs to include diagonals\n",
    "struct = np.ones((3,3), dtype=np.int)\n",
    "struct\n",
    "\n",
    "#makeplot(dat0)\n",
    "flashpts = dat1 >= 10\n",
    "#makeplot(flashpts)\n",
    "flasharea = signal.convolve2d(flashpts, struct, mode='same')\n",
    "# Any octopuses that have already flashed reset to zero\n",
    "flasharea[flashpts] = 0\n",
    "flasharea\n",
    "\n",
    "dat2 = dat1 + flasharea\n",
    "dat2\n",
    "\n",
    "# Zero out the octopuses that already flashed\n",
    "dat2[flashpts] = 0\n",
    "dat2\n",
    "\n",
    "# Handle any new octopus flashes\n",
    "flashpts2 = dat2 >= 10\n",
    "flasharea2 = signal.convolve2d(flashpts2, struct, mode='same')\n",
    "flasharea2\n",
    "\n",
    "# Any octopuses that already flashed won't flash again\n",
    "flasharea2[flashpts] = 0\n",
    "flasharea2[flashpts2] = 0\n",
    "flasharea2\n",
    "\n",
    "# Only if there's another octopus available\n",
    "# to gain energy in the flash area do we continue\n",
    "if np.any(flasharea2):\n",
    "    dat3 = dat2 + flasharea2\n",
    "else:\n",
    "    dat3 = dat2\n",
    "dat3[flashpts2] = 0\n",
    "dat3\n",
    "'''\n",
    "pass"
   ]
  },
  {
   "cell_type": "code",
   "execution_count": 5,
   "metadata": {
    "ExecuteTime": {
     "end_time": "2021-12-11T17:29:20.400675Z",
     "start_time": "2021-12-11T17:29:20.353799Z"
    }
   },
   "outputs": [],
   "source": [
    "# Model the whole process...\n",
    "nflashes = 0\n",
    "nrounds = 100\n",
    "# The centering structure needs to include diagonals\n",
    "struct = np.ones((3,3), dtype=np.int)\n",
    "\n",
    "dat1 = dat0.copy()\n",
    "for i in range(nrounds):\n",
    "    # Run a step which includes accounting for\n",
    "    # all chain reaction flashes\n",
    "    dat1 = dat1 + 1\n",
    "    # Mask for preventing octopuses that already\n",
    "    # flashed from flashing again\n",
    "    mask = np.zeros_like(dat1, dtype=np.bool)\n",
    "    #prdat(dat1, note='Initial conditions of octopuses')\n",
    "    while True:\n",
    "        # Flash chain reaction\n",
    "        flashpts = dat1 >= 10\n",
    "        #prdat(flashpts, \"Initial available flash points:\")\n",
    "        #prdat(mask, \"Initial mask:\")\n",
    "        # Any ocotopus that already flashed may not flash again\n",
    "        flashpts[mask] = False\n",
    "        #prdat(flashpts, \"Flash points after turning off already flashed:\")\n",
    "        # Get the area of flash\n",
    "        flasharea = signal.convolve2d(flashpts, struct, mode='same')\n",
    "        #prdat(flasharea, 'Raw flash area:')\n",
    "        # Reset the octopuses that flashed and mask them for the future\n",
    "        mask[flashpts] = True\n",
    "        #prdat(mask, \"Mask of flashed octopuses:\")\n",
    "        # Any octopus that flashed won't gain any more energy this round:\n",
    "        flasharea[mask] = 0\n",
    "        #prdat(flasharea, \"Flash energy transferrance values:\")\n",
    "        # Zero out any octopuses that flashed\n",
    "        dat1[mask] = 0\n",
    "        #prdat(dat1, \"Zero out flashed octopuses:\")\n",
    "        if np.any(flasharea):\n",
    "            # An octopus flashed and can increase the energy of neighbor\n",
    "            dat1 += flasharea\n",
    "            # Mask the flashing octopus for the future\n",
    "            mask[flashpts] = True\n",
    "            #prdat(mask, \"Mask after applying flasharea\")\n",
    "        else:\n",
    "            break\n",
    "        #print(\"CONTINUING CHAIN REACTION\")\n",
    "    #prdat(dat1, \"After step {}:\".format(i+1))\n",
    "    # Count the number of zeros to get the number of flashes\n",
    "    nflashes += np.sum(dat1 == 0)\n",
    "    \n",
    "#Markdown(\"There were **{}** flashes\".format(nflashes))"
   ]
  },
  {
   "cell_type": "markdown",
   "metadata": {},
   "source": [
    "## Part Two\n",
    "\n",
    "**What is the first step during which all octopuses flash?**"
   ]
  },
  {
   "cell_type": "code",
   "execution_count": 6,
   "metadata": {
    "ExecuteTime": {
     "end_time": "2021-12-11T17:29:20.500967Z",
     "start_time": "2021-12-11T17:29:20.400675Z"
    }
   },
   "outputs": [],
   "source": [
    "# Continue the process until all octopuses flash simultaneously\n",
    "roundnum = 0\n",
    "# The centering structure needs to include diagonals\n",
    "struct = np.ones((3,3), dtype=np.int)\n",
    "\n",
    "dat1 = dat0.copy()\n",
    "while True:\n",
    "    # Run a step which includes accounting for\n",
    "    # all chain reaction flashes\n",
    "    dat1 = dat1 + 1\n",
    "    # Mask for preventing octopuses that already\n",
    "    # flashed from flashing again\n",
    "    mask = np.zeros_like(dat1, dtype=np.bool)\n",
    "    #prdat(dat1, note='Initial conditions of octopuses')\n",
    "    while True:\n",
    "        # Flash chain reaction\n",
    "        flashpts = dat1 >= 10\n",
    "        #prdat(flashpts, \"Initial available flash points:\")\n",
    "        #prdat(mask, \"Initial mask:\")\n",
    "        # Any ocotopus that already flashed may not flash again\n",
    "        flashpts[mask] = False\n",
    "        #prdat(flashpts, \"Flash points after turning off already flashed:\")\n",
    "        # Get the area of flash\n",
    "        flasharea = signal.convolve2d(flashpts, struct, mode='same')\n",
    "        #prdat(flasharea, 'Raw flash area:')\n",
    "        # Reset the octopuses that flashed and mask them for the future\n",
    "        mask[flashpts] = True\n",
    "        #prdat(mask, \"Mask of flashed octopuses:\")\n",
    "        # Any octopus that flashed won't gain any more energy this round:\n",
    "        flasharea[mask] = 0\n",
    "        #prdat(flasharea, \"Flash energy transferrance values:\")\n",
    "        # Zero out any octopuses that flashed\n",
    "        dat1[mask] = 0\n",
    "        #prdat(dat1, \"Zero out flashed octopuses:\")\n",
    "        if np.any(flasharea):\n",
    "            # An octopus flashed and can increase the energy of neighbor\n",
    "            dat1 += flasharea\n",
    "            # Mask the flashing octopus for the future\n",
    "            mask[flashpts] = True\n",
    "            #prdat(mask, \"Mask after applying flasharea\")\n",
    "        else:\n",
    "            break\n",
    "        #print(\"CONTINUING CHAIN REACTION\")\n",
    "    #prdat(dat1, \"After step {}:\".format(i+1))\n",
    "    # Count the number of rounds\n",
    "    roundnum += 1\n",
    "    if np.any(dat1):\n",
    "        # Not all octopuses flashed\n",
    "        pass\n",
    "    else:\n",
    "        # All octopuses flashed!\n",
    "        break\n",
    "    \n",
    "#Markdown(\"All octopuses flashed on round **{}**\".format(roundnum))"
   ]
  },
  {
   "cell_type": "code",
   "execution_count": null,
   "metadata": {},
   "outputs": [],
   "source": []
  }
 ],
 "metadata": {
  "kernelspec": {
   "display_name": "Python 3",
   "language": "python",
   "name": "python3"
  },
  "language_info": {
   "codemirror_mode": {
    "name": "ipython",
    "version": 3
   },
   "file_extension": ".py",
   "mimetype": "text/x-python",
   "name": "python",
   "nbconvert_exporter": "python",
   "pygments_lexer": "ipython3",
   "version": "3.6.12"
  },
  "toc": {
   "base_numbering": 1,
   "nav_menu": {},
   "number_sections": true,
   "sideBar": true,
   "skip_h1_title": false,
   "title_cell": "Table of Contents",
   "title_sidebar": "Contents",
   "toc_cell": false,
   "toc_position": {},
   "toc_section_display": true,
   "toc_window_display": false
  }
 },
 "nbformat": 4,
 "nbformat_minor": 4
}
