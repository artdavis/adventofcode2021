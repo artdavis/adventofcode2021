{
 "cells": [
  {
   "cell_type": "markdown",
   "metadata": {},
   "source": [
    "# Day 10: Syntax Scoring\n",
    "\n",
    "https://adventofcode.com/2021/day/10\n",
    "\n",
    "## Part 1\n",
    "\n",
    "**What is the total syntax error score for those errors?**"
   ]
  },
  {
   "cell_type": "code",
   "execution_count": 1,
   "metadata": {
    "ExecuteTime": {
     "end_time": "2021-12-11T14:59:27.089089Z",
     "start_time": "2021-12-11T14:59:27.073464Z"
    }
   },
   "outputs": [],
   "source": [
    "from IPython.display import Markdown"
   ]
  },
  {
   "cell_type": "code",
   "execution_count": 2,
   "metadata": {
    "ExecuteTime": {
     "end_time": "2021-12-11T14:59:27.120342Z",
     "start_time": "2021-12-11T14:59:27.089089Z"
    }
   },
   "outputs": [],
   "source": [
    "#infile = 'test_input.txt'\n",
    "infile = 'input.txt'\n",
    "datlist = list()\n",
    "with open(infile, 'r') as fid:\n",
    "    for line in fid:\n",
    "        datlist.append(line.strip())\n",
    "#datlist"
   ]
  },
  {
   "cell_type": "code",
   "execution_count": 3,
   "metadata": {
    "ExecuteTime": {
     "end_time": "2021-12-11T14:59:27.158147Z",
     "start_time": "2021-12-11T14:59:27.120342Z"
    }
   },
   "outputs": [],
   "source": [
    "def test_corrupt(navstr):\n",
    "    brackpairs = {'(':')',\n",
    "                  '[':']',\n",
    "                  '{':'}',\n",
    "                  '<':'>'}\n",
    "    stack = list()\n",
    "    for c in navstr:\n",
    "        if c in '([{<':\n",
    "            # Push open bracket onto stack\n",
    "            stack.append(c)\n",
    "        elif c in ')]}>':\n",
    "            # Pop open bracket off stack\n",
    "            brack = stack.pop()\n",
    "            # Check that the popped open bracket matches\n",
    "            # the close bracket\n",
    "            if c != brackpairs[brack]:\n",
    "                # navstr is corrupt\n",
    "                return c\n",
    "        else:\n",
    "            raise ValueError('Unhandled character: {}'.format(c))\n",
    "    # navstr is not corrupt\n",
    "    return False"
   ]
  },
  {
   "cell_type": "code",
   "execution_count": 4,
   "metadata": {
    "ExecuteTime": {
     "end_time": "2021-12-11T14:59:27.189395Z",
     "start_time": "2021-12-11T14:59:27.158147Z"
    }
   },
   "outputs": [],
   "source": [
    "scoredict = {')': 3,\n",
    "             ']': 57,\n",
    "             '}': 1197,\n",
    "             '>': 25137}\n",
    "score = 0\n",
    "corrupted = list()\n",
    "incomplete = list()\n",
    "for navstr in datlist:\n",
    "    bad_bracket = test_corrupt(navstr)\n",
    "    if bad_bracket is not False:\n",
    "        #corrupted.append(navstr)\n",
    "        #print('Corrupt bracket: {}'.format(bad_bracket))\n",
    "        score += scoredict[bad_bracket]\n",
    "    else:\n",
    "        incomplete.append(navstr)\n",
    "#corrupted\n",
    "#Markdown(\"Syntax error score is: **{}**\".format(score))"
   ]
  },
  {
   "cell_type": "markdown",
   "metadata": {},
   "source": [
    "## Part Two\n",
    "\n",
    "**What is the middle score?**"
   ]
  },
  {
   "cell_type": "code",
   "execution_count": 5,
   "metadata": {
    "ExecuteTime": {
     "end_time": "2021-12-11T14:59:27.242818Z",
     "start_time": "2021-12-11T14:59:27.189395Z"
    }
   },
   "outputs": [],
   "source": [
    "# We constructed the incomplete list in Part 1\n",
    "#incomplete"
   ]
  },
  {
   "cell_type": "code",
   "execution_count": 6,
   "metadata": {
    "ExecuteTime": {
     "end_time": "2021-12-11T14:59:27.258436Z",
     "start_time": "2021-12-11T14:59:27.242818Z"
    }
   },
   "outputs": [],
   "source": [
    "def make_complete(navstr):\n",
    "    brackpairs = {'(':')',\n",
    "                  '[':']',\n",
    "                  '{':'}',\n",
    "                  '<':'>'}\n",
    "    stack = list()\n",
    "    for c in navstr:\n",
    "        if c in '([{<':\n",
    "            # Push open bracket onto stack\n",
    "            stack.append(c)\n",
    "        elif c in ')]}>':\n",
    "            # Pop open bracket off stack\n",
    "            brack = stack.pop()\n",
    "            # Check that the popped open bracket matches\n",
    "            # the close bracket\n",
    "            if c != brackpairs[brack]:\n",
    "                raise ValueError('Data is corrupt')\n",
    "    # Whatever's left on the stack needs to be closed\n",
    "    return ''.join([brackpairs[x] for x in stack[::-1]])"
   ]
  },
  {
   "cell_type": "code",
   "execution_count": 7,
   "metadata": {
    "ExecuteTime": {
     "end_time": "2021-12-11T14:59:27.305320Z",
     "start_time": "2021-12-11T14:59:27.258436Z"
    }
   },
   "outputs": [],
   "source": [
    "def get_score(brackstr):\n",
    "    scoredict2 = {')': 1,\n",
    "                  ']': 2,\n",
    "                  '}': 3,\n",
    "                  '>': 4}\n",
    "    score = 0\n",
    "    for c in brackstr:\n",
    "        score = score * 5 + scoredict2[c]\n",
    "    return score\n",
    "\n",
    "#make_complete(datlist[2]) # Should fail corrupt\n",
    "#make_complete(incomplete[0])\n",
    "score_list = list()\n",
    "for navstr in incomplete:\n",
    "    brackstr = make_complete(navstr)\n",
    "    score2 = get_score(brackstr)\n",
    "    score_list.append(score2)\n",
    "    #print('{}: {}'.format(brackstr, score2))"
   ]
  },
  {
   "cell_type": "code",
   "execution_count": 8,
   "metadata": {
    "ExecuteTime": {
     "end_time": "2021-12-11T14:59:27.343116Z",
     "start_time": "2021-12-11T14:59:27.305320Z"
    }
   },
   "outputs": [],
   "source": [
    "score_list.sort()\n",
    "#score_list\n",
    "median_score = score_list[len(score_list) // 2]\n",
    "#Markdown('The middle autocomplete score is: **{}**'.format(median_score))"
   ]
  },
  {
   "cell_type": "code",
   "execution_count": null,
   "metadata": {},
   "outputs": [],
   "source": []
  }
 ],
 "metadata": {
  "kernelspec": {
   "display_name": "Python 3",
   "language": "python",
   "name": "python3"
  },
  "language_info": {
   "codemirror_mode": {
    "name": "ipython",
    "version": 3
   },
   "file_extension": ".py",
   "mimetype": "text/x-python",
   "name": "python",
   "nbconvert_exporter": "python",
   "pygments_lexer": "ipython3",
   "version": "3.6.12"
  },
  "toc": {
   "base_numbering": 1,
   "nav_menu": {},
   "number_sections": true,
   "sideBar": true,
   "skip_h1_title": false,
   "title_cell": "Table of Contents",
   "title_sidebar": "Contents",
   "toc_cell": false,
   "toc_position": {},
   "toc_section_display": true,
   "toc_window_display": false
  }
 },
 "nbformat": 4,
 "nbformat_minor": 4
}
